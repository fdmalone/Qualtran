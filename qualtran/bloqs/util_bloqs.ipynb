{
 "cells": [
  {
   "cell_type": "markdown",
   "id": "3d7d85df",
   "metadata": {},
   "source": [
    "# Util Bloqs\n",
    "\n",
    "The utility bloqs let you reshape Soquets."
   ]
  },
  {
   "cell_type": "code",
   "execution_count": null,
   "id": "31422993",
   "metadata": {},
   "outputs": [],
   "source": [
    "from qualtran.drawing import GraphDrawer, PrettyGraphDrawer\n",
    "from qualtran.bloqs.util_bloqs import Split, Join, Partition\n",
    "\n",
    "from IPython.display import SVG\n",
    "\n",
    "def show_bloq(bloq, draw_cls=PrettyGraphDrawer):\n",
    "    display(SVG(draw_cls(bloq).get_graph().create_svg()))"
   ]
  },
  {
   "cell_type": "markdown",
   "id": "bf300ec8",
   "metadata": {},
   "source": [
    "## Split and Join\n",
    "\n",
    "Split and join take a `bitsize=n, shape=()` to `bitsize=1, shape=(n,)` and back."
   ]
  },
  {
   "cell_type": "code",
   "execution_count": null,
   "id": "00d29330",
   "metadata": {},
   "outputs": [],
   "source": [
    "show_bloq(Split(3))"
   ]
  },
  {
   "cell_type": "code",
   "execution_count": null,
   "id": "14fe912f",
   "metadata": {},
   "outputs": [],
   "source": [
    "show_bloq(Join(3))"
   ]
  },
  {
   "cell_type": "markdown",
   "id": "c6e3ad7e",
   "metadata": {},
   "source": [
    "## SplitJoin\n",
    "\n",
    "For fun, we can pair `Split` and `Join` into an identity operation."
   ]
  },
  {
   "cell_type": "code",
   "execution_count": null,
   "id": "b800d8e4",
   "metadata": {},
   "outputs": [],
   "source": [
    "from attrs import frozen\n",
    "from functools import cached_property\n",
    "from typing import *\n",
    "from qualtran import Bloq, Signature, Register\n",
    "\n",
    "@frozen\n",
    "class SplitJoin(Bloq):\n",
    "    n: int\n",
    "\n",
    "    @cached_property\n",
    "    def signature(self) -> Signature:\n",
    "        return Signature([Register('x', self.n)])\n",
    "\n",
    "    def build_composite_bloq(\n",
    "        self, bb: 'BloqBuilder', *, x: 'Soquet'\n",
    "    ) -> Dict[str, 'Soquet']:\n",
    "        xs = bb.split(x)\n",
    "        x = bb.join(xs)\n",
    "        return {'x': x}"
   ]
  },
  {
   "cell_type": "code",
   "execution_count": null,
   "id": "57415820",
   "metadata": {},
   "outputs": [],
   "source": [
    "show_bloq(SplitJoin(10))"
   ]
  },
  {
   "cell_type": "code",
   "execution_count": null,
   "id": "f9aedd60",
   "metadata": {},
   "outputs": [],
   "source": [
    "show_bloq(SplitJoin(10).decompose_bloq())"
   ]
  },
  {
   "cell_type": "markdown",
   "metadata": {},
   "source": [
    "## Partition\n",
    "\n",
    "A Partition is a useful bloq for abstracting away the details of large registers (like multiple selection registers, spin, orbital, ...). We can use a partition bloq to hide these detailed registers until we decompose the bloq further."
   ]
  },
  {
   "cell_type": "code",
   "execution_count": null,
   "metadata": {},
   "outputs": [],
   "source": [
    "from qualtran import BloqBuilder, Soquet, SoquetT\n",
    "@frozen\n",
    "class ComplicatedBloq(Bloq):\n",
    "    @cached_property\n",
    "    def signature(self) -> Signature:\n",
    "        return Signature(\n",
    "            [Register('x', 1), Register('y', 4, shape=(3,)), Register('z', 1, shape=(2, 2))]\n",
    "        )\n",
    "\n",
    "    def short_name(self) -> str:\n",
    "        return 'CB'\n",
    "\n",
    "\n",
    "@frozen\n",
    "class BlackBoxComplicatedBloq(Bloq):\n",
    "    @cached_property\n",
    "    def bitsize(self):\n",
    "        return sum(reg.total_bits() for reg in self.my_bloq.signature)\n",
    "\n",
    "    @cached_property\n",
    "    def my_bloq(self) -> Bloq:\n",
    "        return ComplicatedBloq()\n",
    "\n",
    "    def short_name(self) -> str:\n",
    "        return 'BBCB'\n",
    "\n",
    "    @cached_property\n",
    "    def signature(self) -> Signature:\n",
    "        return Signature.build(regs=self.bitsize)\n",
    "\n",
    "    def build_composite_bloq(self, bb: 'BloqBuilder', regs: 'SoquetT') -> Dict[str, 'Soquet']:\n",
    "        bloq_regs = self.my_bloq.signature\n",
    "        partition = Partition(self.bitsize, bloq_regs)\n",
    "        out_regs = bb.add(partition, x=regs)\n",
    "        out_regs = bb.add(self.my_bloq, **{reg.name: sp for reg, sp in zip(bloq_regs, out_regs)})\n",
    "        regs = bb.add(partition.dagger(), **{reg.name: sp for reg, sp in zip(bloq_regs, out_regs)})\n",
    "        return {'regs': regs}"
   ]
  },
  {
   "cell_type": "code",
   "execution_count": null,
   "metadata": {},
   "outputs": [],
   "source": [
    "show_bloq(BlackBoxComplicatedBloq())"
   ]
  },
  {
   "cell_type": "code",
   "execution_count": null,
   "metadata": {},
   "outputs": [],
   "source": [
    "show_bloq(BlackBoxComplicatedBloq().decompose_bloq())"
   ]
  }
 ],
 "metadata": {
  "kernelspec": {
   "display_name": "Python 3 (ipykernel)",
   "language": "python",
   "name": "python3"
  },
  "language_info": {
   "codemirror_mode": {
    "name": "ipython",
    "version": 3
   },
   "file_extension": ".py",
   "mimetype": "text/x-python",
   "name": "python",
   "nbconvert_exporter": "python",
   "pygments_lexer": "ipython3",
   "version": "3.11.5"
  }
 },
 "nbformat": 4,
 "nbformat_minor": 5
}
