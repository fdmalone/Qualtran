{
 "cells": [
  {
   "cell_type": "markdown",
   "id": "2a72942d",
   "metadata": {
    "cq.autogen": "title_cell"
   },
   "source": [
    "# First Quantized Hamiltonian with Quantum Projectile\n",
    "\n",
    "SELECT and PREPARE for the first quantized chemistry Hamiltonian.\n",
    "\n",
    "Here we assume the Born-Oppenheimer Hamiltonian and seek to simulate a\n",
    "collection of $\\eta$ electrons and $L$ static nuclei with a Hamiltonian given\n",
    "by:\n",
    "$$\n",
    "H_{BO} = T + U + V + \\frac{1}{2}\n",
    "\\sum_{\\ell\\ne\\kappa=1}^L\\frac{\\zeta_\\ell\\zeta_\\kappa}{\\lVert R_\\ell - R_\\kappa \\rVert}\n",
    "$$\n",
    "\n",
    "In the first quantized approach we assume periodic boundary conditions and use a\n",
    "plane wave Galerkin discretization.\n",
    "A plane wave basis function is given by\n",
    "$$\n",
    "\\phi_p(r) = \\frac{1}{\\sqrt{\\Omega}} e^{-i k_p\\cdot r}\n",
    "$$\n",
    "where $r$ is a position vector in real space, $\\Omega$ is the simulation cell\n",
    "volume and $k_p$ is a reciprocal lattice vector.\n",
    "In three dimensions we have\n",
    "$$\n",
    "k_p = \\frac{2\\pi p }{\\Omega}\n",
    "$$\n",
    "for $p \\in G$ and\n",
    "$$\n",
    "G = [-\\frac{N^{1/3} -\n",
    "1}{2},\\frac{N^{1/3} - 1}{2}]^3 \\subset \\mathcal{Z}^3.\n",
    "$$\n",
    "and $N$ is the total number of planewaves.\n",
    "\n",
    "With these definitions we can write the components of the Hamiltonian as:\n",
    "$$\n",
    "T = \\sum_{i}^\\eta\\sum_{p\\in G}\\frac{\\lVert k_p\\rVert^2}{2} |p\\rangle\\langle p|_i\n",
    "$$\n",
    "which defines the kinetic energy of the electrons,\n",
    "$$\n",
    "U = -\\frac{4\\pi}{\\Omega}\n",
    "\\sum_{\\ell=1}^L \\sum_{i}^\\eta\n",
    "\\sum_{p,q\\in G, p\\ne q}\n",
    "\\left(\n",
    "    \\zeta_{\\ell}\n",
    "    \\frac{e^{i k_{q-p}\\cdot R_\\ell}}{\\lVert k_{p-q}\\rVert^2}\n",
    "    |p\\rangle\\langle q|_i\n",
    "\\right)\n",
    "$$\n",
    "describes the interaction of the electrons and the nuclei, and,\n",
    "$$\n",
    "V = \\frac{2\\pi}{\\Omega}\n",
    "\\sum_{i\\ne j=1}^\\eta\n",
    "\\sum_{p,q\\in G, p\\ne q}\n",
    "\\sum_{\\nu \\in G_0}\n",
    "\\left(\n",
    "    \\frac{1}{\\lVert k_{\\nu}\\rVert^2}\n",
    "    |p + \\nu\\rangle\\langle p|_i\n",
    "    |q -\\nu\\rangle\\langle q|_i\n",
    "\\right)\n",
    "$$\n",
    "describes the electron-electron interaction. The notation $|p\\rangle\\langle p|_i$ is shorthand for\n",
    "$I_1\\otimes\\cdots\\otimes |p\\rangle \\langle p |_j \\otimes \\cdots \\otimes I_\\eta$.\n",
    "The system is represented using a set of $\\eta$ signed integer registers each of\n",
    "size $3 n_p$ where $n_p =  \\lceil \\log (N^{1/3} + 1) \\rceil$, with the factor of\n",
    "3 accounting for the 3 spatial dimensions.\n",
    "\n",
    "In the first quantized approach, fermion antisymmetry is encoded through initial\n",
    "state preparation. Spin labels are also absent and should be accounted for\n",
    "during state preparation. The cost of initial state preparation is typically\n",
    "ignored."
   ]
  },
  {
   "cell_type": "code",
   "execution_count": null,
   "id": "b32ea7ce",
   "metadata": {
    "cq.autogen": "top_imports"
   },
   "outputs": [],
   "source": [
    "from qualtran import Bloq, CompositeBloq, BloqBuilder, Signature, Register\n",
    "from qualtran.drawing import show_bloq\n",
    "from typing import *\n",
    "import numpy as np\n",
    "import cirq"
   ]
  },
  {
   "cell_type": "markdown",
   "id": "68211ddc",
   "metadata": {
    "cq.autogen": "PrepareFirstQuantizationWithProj.bloq_doc.md"
   },
   "source": [
    "## `PrepareFirstQuantizationWithProj`\n",
    "State preparation for the first quantized chemistry Hamiltonian with a quntum projectile.\n",
    "\n",
    "#### Parameters\n",
    " - `num_bits_p`: The number of bits to represent each dimension of the momentum register.\n",
    " - `num_bits_n`: The number of bits to represent each dimension of the momentum register for the projectile. Should be larger than num_bits_p.\n",
    " - `eta`: The number of electrons.\n",
    " - `num_atoms`: The number of atoms. $L$ in the reference.\n",
    " - `lambda_zeta`: sum of nuclear charges.\n",
    " - `m_param`: $\\mathcal{M}$ in the reference.\n",
    " - `num_bits_nuc_pos`: The number of bits of precision for representing the nuclear coordinates.\n",
    " - `num_bits_t`: The number of bits of precision for the state preparation over the register selecting between the different components of the Hamiltonian.\n",
    " - `num_bits_rot_aa`: The number of bits of precision for the rotation for amplitude amplification.\n",
    " - `adjoint`: Whether to dagger the bloq or not. \n",
    "\n",
    "#### Registers\n",
    " - `tuv`: Flag register for selecting between kinetic and potential terms in the Hamiltonian.\n",
    " - `uv`: Flag register for selecting between the different potential components of the Hamiltonian.\n",
    " - `i`: A register for selecting electronic registers.\n",
    " - `j`: A register for selecting electronic registers.\n",
    " - `w`: A register for selecting x, y and z components of the momentum register.\n",
    " - `r`: A register for controlling elements of the momentum register. Used for block encodiding kinetic energy operator.\n",
    " - `s`: A register for controlling elements of the momentum register. Used for block encodiding kinetic energy operator.\n",
    " - `mu`: A register used for implementing nested boxes for the momentum state preparation.\n",
    " - `nu_x`: x component of the momentum register for Coulomb potential.\n",
    " - `nu_y`: y component of the momentum register for Coulomb potential.\n",
    " - `nu_z`: z component of the momentum register for Coulomb potential.\n",
    " - `m`: an ancilla register in a uniform superposition.\n",
    " - `l`: The register for selecting the nuclei. \n",
    "\n",
    "#### References\n",
    "[Fault-Tolerant Quantum Simulations of Chemistry in First Quantization]( https://arxiv.org/abs/2105.12767)\n"
   ]
  },
  {
   "cell_type": "code",
   "execution_count": null,
   "id": "56f1a1b0",
   "metadata": {
    "cq.autogen": "PrepareFirstQuantizationWithProj.bloq_doc.py"
   },
   "outputs": [],
   "source": [
    "from qualtran.bloqs.chemistry.pbc.first_quantization.projectile import PrepareFirstQuantizationWithProj"
   ]
  },
  {
   "cell_type": "markdown",
   "id": "eece03d5",
   "metadata": {
    "cq.autogen": "PrepareFirstQuantizationWithProj.example_instances.md"
   },
   "source": [
    "### Example Instances"
   ]
  },
  {
   "cell_type": "code",
   "execution_count": null,
   "id": "75bde9f1",
   "metadata": {
    "cq.autogen": "PrepareFirstQuantizationWithProj.prep_first_quant"
   },
   "outputs": [],
   "source": [
    "num_bits_p = 6\n",
    "num_bits_n = 8\n",
    "eta = 10\n",
    "num_atoms = 10\n",
    "lambda_zeta = 10\n",
    "prep_first_quant = PrepareFirstQuantizationWithProj(\n",
    "    num_bits_p, num_bits_n, eta, num_atoms, lambda_zeta\n",
    ")\n"
   ]
  },
  {
   "cell_type": "markdown",
   "id": "0e6ca02f",
   "metadata": {
    "cq.autogen": "PrepareFirstQuantizationWithProj.graphical_signature.md"
   },
   "source": [
    "#### Graphical Signature"
   ]
  },
  {
   "cell_type": "code",
   "execution_count": null,
   "id": "a32be9fa",
   "metadata": {
    "cq.autogen": "PrepareFirstQuantizationWithProj.graphical_signature.py"
   },
   "outputs": [],
   "source": [
    "from qualtran.drawing import show_bloqs\n",
    "show_bloqs([prep_first_quant],\n",
    "           ['`prep_first_quant`'])"
   ]
  },
  {
   "cell_type": "markdown",
   "id": "d86a0fba",
   "metadata": {
    "cq.autogen": "SelectFirstQuantizationWithProj.bloq_doc.md"
   },
   "source": [
    "## `SelectFirstQuantizationWithProj`\n",
    "SELECT operation for the first quantized chemistry Hamiltonian.\n",
    "\n",
    "#### Parameters\n",
    " - `num_bits_p`: The number of bits to represent each dimension of the momentum register.\n",
    " - `eta`: The number of electrons.\n",
    " - `num_atoms`: The number of atoms. $L$ in the reference.\n",
    " - `lambda_zeta`: sum of nuclear charges.\n",
    " - `m_param`: $\\mathcal{M}$ in the reference.\n",
    " - `num_bits_nuc_pos`: The number of bits of precision for representing the nuclear coordinates.\n",
    " - `num_bits_t`: The number of bits of precision for the state preparation over the register selecting between the different components of the Hamiltonian.\n",
    " - `num_bits_rot_aa`: The number of bits of precision for the rotation for amplitude amplification.\n",
    " - `adjoint`: Whether to dagger the bloq or not. \n",
    "\n",
    "#### Registers\n",
    " - `tuv`: Flag register for selecting between kinetic and potential terms in the Hamiltonian.\n",
    " - `uv`: Flag register for selecting between the different potential components of the Hamiltonian.\n",
    " - `i_ne_j`: Register flagging $i \\ne j$\n",
    " - `plus_t`: A register prepared in the $|+\\rangle$ state.\n",
    " - `i`: A register for selecting electronic registers.\n",
    " - `j`: A register for selecting electronic registers.\n",
    " - `w`: A register for selecting x, y and z components of the momentum register.\n",
    " - `r`: A register for controlling elements of the momentum register. Used for block encodiding kinetic energy operator.\n",
    " - `s`: A register for controlling elements of the momentum register. Used for block encodiding kinetic energy operator.\n",
    " - `mu`: A register used for implementing nested boxes for the momentum state preparation.\n",
    " - `nu_x`: x component of the momentum register for Coulomb potential.\n",
    " - `nu_y`: y component of the momentum register for Coulomb potential.\n",
    " - `nu_z`: z component of the momentum register for Coulomb potential.\n",
    " - `m`: an ancilla register in a uniform superposition.\n",
    " - `l`: The register for selecting the nuclei.\n",
    " - `sys`: The system register. Will store $\\eta$ registers (x, y and z) compents of size num_bits_p. \n",
    "\n",
    "#### References\n",
    "[Fault-Tolerant Quantum Simulations of Chemistry in First Quantization]( https://arxiv.org/abs/2105.12767)\n"
   ]
  },
  {
   "cell_type": "code",
   "execution_count": null,
   "id": "55a6aa0e",
   "metadata": {
    "cq.autogen": "SelectFirstQuantizationWithProj.bloq_doc.py"
   },
   "outputs": [],
   "source": [
    "from qualtran.bloqs.chemistry.pbc.first_quantization.projectile import SelectFirstQuantizationWithProj"
   ]
  },
  {
   "cell_type": "markdown",
   "id": "2c249265",
   "metadata": {
    "cq.autogen": "SelectFirstQuantizationWithProj.example_instances.md"
   },
   "source": [
    "### Example Instances"
   ]
  },
  {
   "cell_type": "code",
   "execution_count": null,
   "id": "d79dbca6",
   "metadata": {
    "cq.autogen": "SelectFirstQuantizationWithProj.sel_first_quant"
   },
   "outputs": [],
   "source": [
    "num_bits_p = 6\n",
    "num_bits_n = 8\n",
    "eta = 10\n",
    "num_atoms = 10\n",
    "lambda_zeta = 10\n",
    "sel_first_quant = SelectFirstQuantizationWithProj(\n",
    "    num_bits_p, num_bits_n, eta, num_atoms, lambda_zeta\n",
    ")\n"
   ]
  },
  {
   "cell_type": "markdown",
   "id": "c788fdf2",
   "metadata": {
    "cq.autogen": "SelectFirstQuantizationWithProj.graphical_signature.md"
   },
   "source": [
    "#### Graphical Signature"
   ]
  },
  {
   "cell_type": "code",
   "execution_count": null,
   "id": "35871570",
   "metadata": {
    "cq.autogen": "SelectFirstQuantizationWithProj.graphical_signature.py"
   },
   "outputs": [],
   "source": [
    "from qualtran.drawing import show_bloqs\n",
    "show_bloqs([sel_first_quant],\n",
    "           ['`sel_first_quant`'])"
   ]
  }
 ],
 "metadata": {
  "kernelspec": {
   "display_name": "Python 3",
   "language": "python",
   "name": "python3"
  },
  "language_info": {
   "name": "python"
  }
 },
 "nbformat": 4,
 "nbformat_minor": 5
}
