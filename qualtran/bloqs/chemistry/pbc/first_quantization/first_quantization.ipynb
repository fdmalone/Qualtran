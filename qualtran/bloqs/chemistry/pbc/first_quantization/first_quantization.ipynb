{
 "cells": [
  {
   "cell_type": "markdown",
   "id": "9e44410b",
   "metadata": {
    "cq.autogen": "title_cell"
   },
   "source": [
    "# First Quantization\n",
    "\n",
    "SELECT and PREPARE for the first quantized chemistry Hamiltonian.\n",
    "\n",
    "Here we assume the Born-Oppenheimer Hamiltonian and seek to simulate a\n",
    "collection of $\\eta$ electrons and $L$ static nuclei with a Hamiltonian given\n",
    "by:\n",
    "$$\n",
    "H_{BO} = T + U + V + \\frac{1}{2}\n",
    "\\sum_{\\ell\\ne\\kappa=1}^L\\frac{\\zeta_\\ell\\zeta_\\kappa}{\\lVert R_\\ell - R_\\kappa \\rVert}\n",
    "$$\n",
    "\n",
    "In the first quantized approach we assume periodic boundary conditions and use a\n",
    "plane wave Galerkin discretization.\n",
    "A plane wave basis function is given by\n",
    "$$\n",
    "\\phi_p(r) = \\frac{1}{\\sqrt{\\Omega}} e^{-i k_p\\cdot r}\n",
    "$$\n",
    "where $r$ is a position vector in real space, $\\Omega$ is the simulation cell\n",
    "volume and $k_p$ is a reciprocal lattice vector.\n",
    "In three dimensions we have\n",
    "$$\n",
    "k_p = \\frac{2\\pi p }{\\Omega}\n",
    "$$\n",
    "for $p \\in G$ and\n",
    "$$\n",
    "G = [-\\frac{N^{1/3} -\n",
    "1}{2},\\frac{N^{1/3} - 1}{2}]^3 \\subset \\mathcal{Z}^3.\n",
    "$$\n",
    "and $N$ is the total number of planewaves.\n",
    "\n",
    "With these definitions we can write the components of the Hamiltonian as:\n",
    "$$\n",
    "T = \\sum_{i}^\\eta\\sum_{p\\in G}\\frac{\\lVert k_p\\rVert^2}{2} |p\\rangle\\langle p|_i\n",
    "$$\n",
    "which defines the kinetic energy of the electrons,\n",
    "$$\n",
    "U = -\\frac{4\\pi}{\\Omega}\n",
    "\\sum_{\\ell=1}^L \\sum_{i}^\\eta\n",
    "\\sum_{p,q\\in G, p\\ne q}\n",
    "\\left(\n",
    "    \\zeta_{\\ell}\n",
    "    \\frac{e^{i k_{q-p}\\cdot R_\\ell}}{\\lVert k_{p-q}\\rVert^2}\n",
    "    |p\\rangle\\langle q|_i\n",
    "\\right)\n",
    "$$\n",
    "describes the interaction of the electrons and the nuclei, and,\n",
    "$$\n",
    "V = \\frac{2\\pi}{\\Omega}\n",
    "\\sum_{i\\ne j=1}^\\eta\n",
    "\\sum_{p,q\\in G, p\\ne q}\n",
    "\\sum_{\\nu \\in G_0}\n",
    "\\left(\n",
    "    \\frac{1}{\\lVert k_{\\nu}\\rVert^2}\n",
    "    |p + \\nu\\rangle\\langle p|_i\n",
    "    |q -\\nu\\rangle\\langle q|_i\n",
    "\\right)\n",
    "$$\n",
    "describes the electron-electron interaction. The notation $|p\\rangle\\langle p|_i$ is shorthand for\n",
    "$I_1\\otimes\\cdots\\otimes |p\\rangle \\langle p |_j \\otimes \\cdots \\otimes I_\\eta$.\n",
    "The system is represented using a set of $\\eta$ signed integer registers each of\n",
    "size $3 n_p$ where $n_p =  \\lceil \\log (N^{1/3} + 1) \\rceil$, with the factor of\n",
    "3 accounting for the 3 spatial dimensions.\n",
    "\n",
    "In the first quantized approach, fermion antisymmetry is encoded through initial\n",
    "state preparation. Spin labels are also absent and should be accounted for\n",
    "during state preparation. The cost of initial state preparation is typically\n",
    "ignored."
   ]
  },
  {
   "cell_type": "code",
   "execution_count": 1,
   "id": "f3b98d36",
   "metadata": {
    "cq.autogen": "top_imports"
   },
   "outputs": [],
   "source": [
    "from qualtran import Bloq, CompositeBloq, BloqBuilder, Signature, Register\n",
    "from qualtran.drawing import show_bloq\n",
    "from typing import *\n",
    "import numpy as np"
   ]
  },
  {
   "cell_type": "markdown",
   "id": "98ba0885",
   "metadata": {
    "cq.autogen": "_make_select_t.md"
   },
   "source": [
    "## `SelectTFirstQuantization`\n",
    "SELECT for the kinetic energy operator for the first quantized chemistry Hamiltonian.\n",
    "\n",
    "#### Parameters\n",
    " - `num_bits_p`: The number of bits to represent each dimension of the momentum register.\n",
    " - `eta`: The number of electrons. \n",
    "\n",
    "#### Registers\n",
    " - `sys`: The system register.\n",
    " - `plus`: A $|+\\rangle$ state.\n",
    " - `flag_T`: a flag to control on the success of the $T$ state preparation. \n",
    "\n",
    "#### References\n",
    "[Fault-Tolerant Quantum Simulations of Chemistry in First Quantization]( https://arxiv.org/abs/2105.12767) page 20, section B\n"
   ]
  },
  {
   "cell_type": "code",
   "execution_count": 2,
   "id": "2b3e898c",
   "metadata": {
    "cq.autogen": "_make_select_t.py"
   },
   "outputs": [
    {
     "ename": "ImportError",
     "evalue": "cannot import name 'SelectTFirstQuantization' from 'qualtran.bloqs.chemistry.pbc.first_quantization' (/usr/local/google/home/fmalone/projects/qualtran/qualtran/bloqs/chemistry/pbc/first_quantization/__init__.py)",
     "output_type": "error",
     "traceback": [
      "\u001b[0;31m---------------------------------------------------------------------------\u001b[0m",
      "\u001b[0;31mImportError\u001b[0m                               Traceback (most recent call last)",
      "\u001b[1;32m/usr/local/google/home/fmalone/projects/qualtran/qualtran/bloqs/chemistry/pbc/first_quantization/first_quantization.ipynb Cell 4\u001b[0m line \u001b[0;36m1\n\u001b[0;32m----> <a href='vscode-notebook-cell://ssh-remote%2Bfmalone.c.googlers.com/usr/local/google/home/fmalone/projects/qualtran/qualtran/bloqs/chemistry/pbc/first_quantization/first_quantization.ipynb#W3sdnNjb2RlLXJlbW90ZQ%3D%3D?line=0'>1</a>\u001b[0m \u001b[39mfrom\u001b[39;00m \u001b[39mqualtran\u001b[39;00m\u001b[39m.\u001b[39;00m\u001b[39mbloqs\u001b[39;00m\u001b[39m.\u001b[39;00m\u001b[39mchemistry\u001b[39;00m\u001b[39m.\u001b[39;00m\u001b[39mpbc\u001b[39;00m\u001b[39m.\u001b[39;00m\u001b[39mfirst_quantization\u001b[39;00m \u001b[39mimport\u001b[39;00m SelectTFirstQuantization\n\u001b[1;32m      <a href='vscode-notebook-cell://ssh-remote%2Bfmalone.c.googlers.com/usr/local/google/home/fmalone/projects/qualtran/qualtran/bloqs/chemistry/pbc/first_quantization/first_quantization.ipynb#W3sdnNjb2RlLXJlbW90ZQ%3D%3D?line=2'>3</a>\u001b[0m num_bits_p \u001b[39m=\u001b[39m \u001b[39m5\u001b[39m\n\u001b[1;32m      <a href='vscode-notebook-cell://ssh-remote%2Bfmalone.c.googlers.com/usr/local/google/home/fmalone/projects/qualtran/qualtran/bloqs/chemistry/pbc/first_quantization/first_quantization.ipynb#W3sdnNjb2RlLXJlbW90ZQ%3D%3D?line=3'>4</a>\u001b[0m eta \u001b[39m=\u001b[39m \u001b[39m10\u001b[39m\n",
      "\u001b[0;31mImportError\u001b[0m: cannot import name 'SelectTFirstQuantization' from 'qualtran.bloqs.chemistry.pbc.first_quantization' (/usr/local/google/home/fmalone/projects/qualtran/qualtran/bloqs/chemistry/pbc/first_quantization/__init__.py)"
     ]
    }
   ],
   "source": [
    "from qualtran.bloqs.chemistry.pbc.first_quantization import SelectTFirstQuantization\n",
    "\n",
    "num_bits_p = 5\n",
    "eta = 10\n",
    "\n",
    "bloq = SelectTFirstQuantization(num_bits_p=num_bits_p, eta=eta)\n",
    "show_bloq(bloq)"
   ]
  },
  {
   "cell_type": "markdown",
   "id": "253bf92f",
   "metadata": {
    "cq.autogen": "_make_select_uv.md"
   },
   "source": [
    "## `SelectUVFirstQuantization`\n",
    "SELECT for the U and V operators for the first quantized chemistry Hamiltonian.\n",
    "\n",
    "This does not include the controlled swaps from p_i and q_j system registers\n",
    "into ancilla registers and back again. Hence there is no system register.\n",
    "\n",
    "#### Parameters\n",
    " - `num_bits_p`: The number of bits to represent each dimension of the momentum register.\n",
    " - `eta`: The number of electrons.\n",
    " - `num_bits_nuc_pos`: The number of bits to store each component of the nuclear positions. $n_R$ in the reference. \n",
    "\n",
    "Registers:\n",
    "\n",
    "#### References\n",
    "[Fault-Tolerant Quantum Simulations of Chemistry in First Quantization]( https://arxiv.org/abs/2105.12767)\n"
   ]
  },
  {
   "cell_type": "code",
   "execution_count": null,
   "id": "4f24ff11",
   "metadata": {
    "cq.autogen": "_make_select_uv.py"
   },
   "outputs": [],
   "source": [
    "from qualtran.bloqs.chemistry.pbc.first_quantization import SelectUVFirstQuantization\n",
    "\n",
    "num_bits_p = 5\n",
    "eta = 10\n",
    "num_bits_nuc_pos = 16\n",
    "\n",
    "sel = SelectUVFirstQuantization(\n",
    "    num_bits_p=num_bits_p, eta=eta, num_bits_nuc_pos=num_bits_nuc_pos\n",
    ")\n",
    "bloq = sel\n",
    "show_bloq(bloq)"
   ]
  },
  {
   "cell_type": "markdown",
   "id": "555b5194",
   "metadata": {
    "cq.autogen": "_make_prepare_t.md"
   },
   "source": [
    "## `PrepareTFirstQuantization`\n",
    "PREPARE for the kinetic energy operator for the first quantized chemistry Hamiltonian.\n",
    "\n",
    "This prepares the state\n",
    "\n",
    "$$\n",
    "    |+\\rangle\\sum_{j=1}^{\\eta}|j\\rangle\\sum_{w=0}^{2}|w\\rangle\n",
    "    \\sum_{r=0}^{n_{p}-2}2^{r/2}|r\\rangle\n",
    "    \\sum_{s=0}^{n_{p}-2}2^{s/2}|s\\rangle\n",
    "$$\n",
    "\n",
    "We assume that the uniform superposition over ($i$ and) $j$ has already occured via\n",
    "UniformSuperPositionIJFirstQuantization.\n",
    "\n",
    "#### Parameters\n",
    " - `num_bits_p`: The number of bits to represent each dimension of the momentum register.\n",
    " - `eta`: The number of electrons.\n",
    " - `num_bits_rot_aa`: The number of bits of precision for the single qubit rotation for amplitude amplification. Called $b_r$ in the reference.\n",
    " - `adjoint`: whether to dagger the bloq or not. \n",
    "\n",
    "#### Registers\n",
    " - `plus`: A $|+\\rangle$ state register.\n",
    " - `w`: a register to index one of three components of the momenta.\n",
    " - `r`: a register encoding bits for each component of the momenta.\n",
    " - `s`: a register encoding bits for each component of the momenta. \n",
    "\n",
    "#### References\n",
    "[Fault-Tolerant Quantum Simulations of Chemistry in First Quantization]( https://arxiv.org/abs/2105.12767) page 19, section B\n"
   ]
  },
  {
   "cell_type": "code",
   "execution_count": null,
   "id": "ac312790",
   "metadata": {
    "cq.autogen": "_make_prepare_t.py"
   },
   "outputs": [],
   "source": [
    "from qualtran.bloqs.chemistry.pbc.first_quantization import PrepareTFirstQuantization\n",
    "\n",
    "num_bits_p = 5\n",
    "eta = 10\n",
    "\n",
    "bloq = PrepareTFirstQuantization(num_bits_p=num_bits_p, eta=eta)\n",
    "show_bloq(bloq)"
   ]
  },
  {
   "cell_type": "markdown",
   "id": "be45b567",
   "metadata": {
    "cq.autogen": "_make_prepare_uv.md"
   },
   "source": [
    "## `PrepareUVFistQuantization`\n",
    "PREPARE the U and V parts of the Hamiltonian.\n",
    "\n",
    "#### Parameters\n",
    " - `num_bits_p`: The number of bits to represent each dimension of the momentum register.\n",
    " - `eta`: The number of electrons.\n",
    " - `num_atoms`: The number of atoms. $L$ in the reference.\n",
    " - `m_param`: $\\mathcal{M}$ in the reference.\n",
    " - `lambda_zeta`: sum of nuclear charges.\n",
    " - `num_bits_nuc_pos`: The number of bits of precision for representing the nuclear coordinates. \n",
    "\n",
    "#### Registers\n",
    " - `mu`: The state controlling the nested boxes procedure.\n",
    " - `nu`: The momentum transfer register.\n",
    " - `m`: an ancilla register in a uniform superposition.\n",
    " - `l`: The register for atomic species.\n",
    " - `flag_nu`: Flag for success of the state preparation. \n",
    "\n",
    "#### References\n",
    "[Fault-Tolerant Quantum Simulations of Chemistry in First Quantization]( https://arxiv.org/abs/2105.12767) page 19, section B\n"
   ]
  },
  {
   "cell_type": "code",
   "execution_count": null,
   "id": "3154b4e9",
   "metadata": {
    "cq.autogen": "_make_prepare_uv.py"
   },
   "outputs": [],
   "source": [
    "from qualtran.bloqs.chemistry.pbc.first_quantization import PrepareUVFistQuantization\n",
    "\n",
    "num_bits_p = 5\n",
    "eta = 10\n",
    "num_atoms = 10\n",
    "lambda_zeta = 10\n",
    "m_param = 2**8\n",
    "num_bits_nuc_pos = 16\n",
    "\n",
    "prep = PrepareUVFistQuantization(\n",
    "    num_bits_p=num_bits_p,\n",
    "    eta=eta,\n",
    "    num_atoms=num_atoms,\n",
    "    m_param=m_param,\n",
    "    lambda_zeta=lambda_zeta,\n",
    "    num_bits_nuc_pos=num_bits_nuc_pos,\n",
    ")\n",
    "bloq = prep\n",
    "show_bloq(bloq)"
   ]
  },
  {
   "cell_type": "code",
   "execution_count": 7,
   "metadata": {},
   "outputs": [
    {
     "ename": "ValueError",
     "evalue": "`join` expects a 1-d array of input soquets to join.",
     "output_type": "error",
     "traceback": [
      "\u001b[0;31m---------------------------------------------------------------------------\u001b[0m",
      "\u001b[0;31mValueError\u001b[0m                                Traceback (most recent call last)",
      "\u001b[1;32m/usr/local/google/home/fmalone/projects/qualtran/qualtran/bloqs/chemistry/pbc/first_quantization/first_quantization.ipynb Cell 11\u001b[0m line \u001b[0;36m1\n\u001b[1;32m      <a href='vscode-notebook-cell://ssh-remote%2Bfmalone.c.googlers.com/usr/local/google/home/fmalone/projects/qualtran/qualtran/bloqs/chemistry/pbc/first_quantization/first_quantization.ipynb#X13sdnNjb2RlLXJlbW90ZQ%3D%3D?line=7'>8</a>\u001b[0m sel_first_quant \u001b[39m=\u001b[39m SelectFirstQuantization(num_bits_p, eta, num_atoms, lambda_zeta)\n\u001b[1;32m      <a href='vscode-notebook-cell://ssh-remote%2Bfmalone.c.googlers.com/usr/local/google/home/fmalone/projects/qualtran/qualtran/bloqs/chemistry/pbc/first_quantization/first_quantization.ipynb#X13sdnNjb2RlLXJlbW90ZQ%3D%3D?line=8'>9</a>\u001b[0m \u001b[39m#show_bloq(sel_first_quant)\u001b[39;00m\n\u001b[0;32m---> <a href='vscode-notebook-cell://ssh-remote%2Bfmalone.c.googlers.com/usr/local/google/home/fmalone/projects/qualtran/qualtran/bloqs/chemistry/pbc/first_quantization/first_quantization.ipynb#X13sdnNjb2RlLXJlbW90ZQ%3D%3D?line=9'>10</a>\u001b[0m msd \u001b[39m=\u001b[39m get_musical_score_data(sel_first_quant\u001b[39m.\u001b[39;49mdecompose_bloq())\n\u001b[1;32m     <a href='vscode-notebook-cell://ssh-remote%2Bfmalone.c.googlers.com/usr/local/google/home/fmalone/projects/qualtran/qualtran/bloqs/chemistry/pbc/first_quantization/first_quantization.ipynb#X13sdnNjb2RlLXJlbW90ZQ%3D%3D?line=10'>11</a>\u001b[0m fig, ax \u001b[39m=\u001b[39m draw_musical_score(msd)\n\u001b[1;32m     <a href='vscode-notebook-cell://ssh-remote%2Bfmalone.c.googlers.com/usr/local/google/home/fmalone/projects/qualtran/qualtran/bloqs/chemistry/pbc/first_quantization/first_quantization.ipynb#X13sdnNjb2RlLXJlbW90ZQ%3D%3D?line=11'>12</a>\u001b[0m fig\u001b[39m.\u001b[39mset_size_inches(\u001b[39m16\u001b[39m, \u001b[39m5\u001b[39m)\n",
      "File \u001b[0;32m~/projects/qualtran/qualtran/_infra/gate_with_registers.py:186\u001b[0m, in \u001b[0;36mGateWithRegisters.decompose_bloq\u001b[0;34m(self)\u001b[0m\n\u001b[1;32m    183\u001b[0m \u001b[39mfrom\u001b[39;00m \u001b[39mqualtran\u001b[39;00m\u001b[39m.\u001b[39;00m\u001b[39mcirq_interop\u001b[39;00m\u001b[39m.\u001b[39;00m\u001b[39m_cirq_to_bloq\u001b[39;00m \u001b[39mimport\u001b[39;00m decompose_from_cirq_op\n\u001b[1;32m    185\u001b[0m \u001b[39mtry\u001b[39;00m:\n\u001b[0;32m--> 186\u001b[0m     \u001b[39mreturn\u001b[39;00m Bloq\u001b[39m.\u001b[39;49mdecompose_bloq(\u001b[39mself\u001b[39;49m)\n\u001b[1;32m    187\u001b[0m \u001b[39mexcept\u001b[39;00m DecomposeNotImplementedError:\n\u001b[1;32m    188\u001b[0m     \u001b[39mreturn\u001b[39;00m decompose_from_cirq_op(\u001b[39mself\u001b[39m, decompose_once\u001b[39m=\u001b[39m\u001b[39mTrue\u001b[39;00m)\n",
      "File \u001b[0;32m~/projects/qualtran/qualtran/_infra/bloq.py:138\u001b[0m, in \u001b[0;36mBloq.decompose_bloq\u001b[0;34m(self)\u001b[0m\n\u001b[1;32m    124\u001b[0m \u001b[39mdef\u001b[39;00m \u001b[39mdecompose_bloq\u001b[39m(\u001b[39mself\u001b[39m) \u001b[39m-\u001b[39m\u001b[39m>\u001b[39m \u001b[39m'\u001b[39m\u001b[39mCompositeBloq\u001b[39m\u001b[39m'\u001b[39m:\n\u001b[1;32m    125\u001b[0m \u001b[39m    \u001b[39m\u001b[39m\"\"\"Decompose this Bloq into its constituent parts contained in a CompositeBloq.\u001b[39;00m\n\u001b[1;32m    126\u001b[0m \n\u001b[1;32m    127\u001b[0m \u001b[39m    Bloq users can call this function to delve into the definition of a Bloq. If you're\u001b[39;00m\n\u001b[0;32m   (...)\u001b[0m\n\u001b[1;32m    136\u001b[0m \u001b[39m            `build_composite_bloq` returns `NotImplemented`.\u001b[39;00m\n\u001b[1;32m    137\u001b[0m \u001b[39m    \"\"\"\u001b[39;00m\n\u001b[0;32m--> 138\u001b[0m     \u001b[39mreturn\u001b[39;00m _decompose_from_build_composite_bloq(\u001b[39mself\u001b[39;49m)\n",
      "File \u001b[0;32m~/projects/qualtran/qualtran/_infra/bloq.py:40\u001b[0m, in \u001b[0;36m_decompose_from_build_composite_bloq\u001b[0;34m(bloq)\u001b[0m\n\u001b[1;32m     37\u001b[0m \u001b[39mfrom\u001b[39;00m \u001b[39mqualtran\u001b[39;00m \u001b[39mimport\u001b[39;00m BloqBuilder\n\u001b[1;32m     39\u001b[0m bb, initial_soqs \u001b[39m=\u001b[39m BloqBuilder\u001b[39m.\u001b[39mfrom_signature(bloq\u001b[39m.\u001b[39msignature, add_registers_allowed\u001b[39m=\u001b[39m\u001b[39mFalse\u001b[39;00m)\n\u001b[0;32m---> 40\u001b[0m out_soqs \u001b[39m=\u001b[39m bloq\u001b[39m.\u001b[39;49mbuild_composite_bloq(bb\u001b[39m=\u001b[39;49mbb, \u001b[39m*\u001b[39;49m\u001b[39m*\u001b[39;49minitial_soqs)\n\u001b[1;32m     41\u001b[0m \u001b[39mreturn\u001b[39;00m bb\u001b[39m.\u001b[39mfinalize(\u001b[39m*\u001b[39m\u001b[39m*\u001b[39mout_soqs)\n",
      "File \u001b[0;32m~/projects/qualtran/qualtran/bloqs/chemistry/pbc/first_quantization/first_quantization.py:346\u001b[0m, in \u001b[0;36mSelectFirstQuantization.build_composite_bloq\u001b[0;34m(self, bb, tuv, uv, plus_t, i, j, w, r, s, mu, nu_x, nu_y, nu_z, m, succ_nu, l, sys)\u001b[0m\n\u001b[1;32m    338\u001b[0m \u001b[39m# j, flat_sys, q = bb.add(\u001b[39;00m\n\u001b[1;32m    339\u001b[0m \u001b[39m#     MultiplexedCSwap(selection_regs=j, target_bitsize=self.num_bits_p),\u001b[39;00m\n\u001b[1;32m    340\u001b[0m \u001b[39m#     i=j,\u001b[39;00m\n\u001b[1;32m    341\u001b[0m \u001b[39m#     target=flat_sys,\u001b[39;00m\n\u001b[1;32m    342\u001b[0m \u001b[39m#     output=q,\u001b[39;00m\n\u001b[1;32m    343\u001b[0m \u001b[39m# )\u001b[39;00m\n\u001b[1;32m    344\u001b[0m split_flat \u001b[39m=\u001b[39m [[bb\u001b[39m.\u001b[39msplit(s)] \u001b[39mfor\u001b[39;00m s \u001b[39min\u001b[39;00m flat_sys]\n\u001b[1;32m    345\u001b[0m sys \u001b[39m=\u001b[39m np\u001b[39m.\u001b[39marray(\n\u001b[0;32m--> 346\u001b[0m     [[bb\u001b[39m.\u001b[39;49mjoin(s[xyz \u001b[39m*\u001b[39;49m n_p : (xyz \u001b[39m+\u001b[39;49m \u001b[39m1\u001b[39;49m) \u001b[39m*\u001b[39;49m n_p]) \u001b[39mfor\u001b[39;49;00m xyz \u001b[39min\u001b[39;49;00m \u001b[39mrange\u001b[39;49m(\u001b[39m3\u001b[39;49m)] \u001b[39mfor\u001b[39;49;00m s \u001b[39min\u001b[39;49;00m split_flat]\n\u001b[1;32m    347\u001b[0m )\u001b[39m.\u001b[39mreshape(\u001b[39mself\u001b[39m\u001b[39m.\u001b[39meta, \u001b[39m3\u001b[39m)\n\u001b[1;32m    348\u001b[0m \u001b[39m# p, plus_t, tuv, w, r, s = bb.add(\u001b[39;00m\n\u001b[1;32m    349\u001b[0m \u001b[39m#     SelectTFirstQuantization(self.num_bits_p, self.eta),\u001b[39;00m\n\u001b[1;32m    350\u001b[0m \u001b[39m#     p=p,\u001b[39;00m\n\u001b[0;32m   (...)\u001b[0m\n\u001b[1;32m    378\u001b[0m \u001b[39m#         output=q,\u001b[39;00m\n\u001b[1;32m    379\u001b[0m \u001b[39m#     )\u001b[39;00m\n\u001b[1;32m    380\u001b[0m bb\u001b[39m.\u001b[39mfree(bb\u001b[39m.\u001b[39mjoin(p))\n",
      "File \u001b[0;32m~/projects/qualtran/qualtran/bloqs/chemistry/pbc/first_quantization/first_quantization.py:346\u001b[0m, in \u001b[0;36m<listcomp>\u001b[0;34m(.0)\u001b[0m\n\u001b[1;32m    338\u001b[0m \u001b[39m# j, flat_sys, q = bb.add(\u001b[39;00m\n\u001b[1;32m    339\u001b[0m \u001b[39m#     MultiplexedCSwap(selection_regs=j, target_bitsize=self.num_bits_p),\u001b[39;00m\n\u001b[1;32m    340\u001b[0m \u001b[39m#     i=j,\u001b[39;00m\n\u001b[1;32m    341\u001b[0m \u001b[39m#     target=flat_sys,\u001b[39;00m\n\u001b[1;32m    342\u001b[0m \u001b[39m#     output=q,\u001b[39;00m\n\u001b[1;32m    343\u001b[0m \u001b[39m# )\u001b[39;00m\n\u001b[1;32m    344\u001b[0m split_flat \u001b[39m=\u001b[39m [[bb\u001b[39m.\u001b[39msplit(s)] \u001b[39mfor\u001b[39;00m s \u001b[39min\u001b[39;00m flat_sys]\n\u001b[1;32m    345\u001b[0m sys \u001b[39m=\u001b[39m np\u001b[39m.\u001b[39marray(\n\u001b[0;32m--> 346\u001b[0m     [[bb\u001b[39m.\u001b[39;49mjoin(s[xyz \u001b[39m*\u001b[39;49m n_p : (xyz \u001b[39m+\u001b[39;49m \u001b[39m1\u001b[39;49m) \u001b[39m*\u001b[39;49m n_p]) \u001b[39mfor\u001b[39;49;00m xyz \u001b[39min\u001b[39;49;00m \u001b[39mrange\u001b[39;49m(\u001b[39m3\u001b[39;49m)] \u001b[39mfor\u001b[39;00m s \u001b[39min\u001b[39;00m split_flat]\n\u001b[1;32m    347\u001b[0m )\u001b[39m.\u001b[39mreshape(\u001b[39mself\u001b[39m\u001b[39m.\u001b[39meta, \u001b[39m3\u001b[39m)\n\u001b[1;32m    348\u001b[0m \u001b[39m# p, plus_t, tuv, w, r, s = bb.add(\u001b[39;00m\n\u001b[1;32m    349\u001b[0m \u001b[39m#     SelectTFirstQuantization(self.num_bits_p, self.eta),\u001b[39;00m\n\u001b[1;32m    350\u001b[0m \u001b[39m#     p=p,\u001b[39;00m\n\u001b[0;32m   (...)\u001b[0m\n\u001b[1;32m    378\u001b[0m \u001b[39m#         output=q,\u001b[39;00m\n\u001b[1;32m    379\u001b[0m \u001b[39m#     )\u001b[39;00m\n\u001b[1;32m    380\u001b[0m bb\u001b[39m.\u001b[39mfree(bb\u001b[39m.\u001b[39mjoin(p))\n",
      "File \u001b[0;32m~/projects/qualtran/qualtran/bloqs/chemistry/pbc/first_quantization/first_quantization.py:346\u001b[0m, in \u001b[0;36m<listcomp>\u001b[0;34m(.0)\u001b[0m\n\u001b[1;32m    338\u001b[0m \u001b[39m# j, flat_sys, q = bb.add(\u001b[39;00m\n\u001b[1;32m    339\u001b[0m \u001b[39m#     MultiplexedCSwap(selection_regs=j, target_bitsize=self.num_bits_p),\u001b[39;00m\n\u001b[1;32m    340\u001b[0m \u001b[39m#     i=j,\u001b[39;00m\n\u001b[1;32m    341\u001b[0m \u001b[39m#     target=flat_sys,\u001b[39;00m\n\u001b[1;32m    342\u001b[0m \u001b[39m#     output=q,\u001b[39;00m\n\u001b[1;32m    343\u001b[0m \u001b[39m# )\u001b[39;00m\n\u001b[1;32m    344\u001b[0m split_flat \u001b[39m=\u001b[39m [[bb\u001b[39m.\u001b[39msplit(s)] \u001b[39mfor\u001b[39;00m s \u001b[39min\u001b[39;00m flat_sys]\n\u001b[1;32m    345\u001b[0m sys \u001b[39m=\u001b[39m np\u001b[39m.\u001b[39marray(\n\u001b[0;32m--> 346\u001b[0m     [[bb\u001b[39m.\u001b[39;49mjoin(s[xyz \u001b[39m*\u001b[39;49m n_p : (xyz \u001b[39m+\u001b[39;49m \u001b[39m1\u001b[39;49m) \u001b[39m*\u001b[39;49m n_p]) \u001b[39mfor\u001b[39;00m xyz \u001b[39min\u001b[39;00m \u001b[39mrange\u001b[39m(\u001b[39m3\u001b[39m)] \u001b[39mfor\u001b[39;00m s \u001b[39min\u001b[39;00m split_flat]\n\u001b[1;32m    347\u001b[0m )\u001b[39m.\u001b[39mreshape(\u001b[39mself\u001b[39m\u001b[39m.\u001b[39meta, \u001b[39m3\u001b[39m)\n\u001b[1;32m    348\u001b[0m \u001b[39m# p, plus_t, tuv, w, r, s = bb.add(\u001b[39;00m\n\u001b[1;32m    349\u001b[0m \u001b[39m#     SelectTFirstQuantization(self.num_bits_p, self.eta),\u001b[39;00m\n\u001b[1;32m    350\u001b[0m \u001b[39m#     p=p,\u001b[39;00m\n\u001b[0;32m   (...)\u001b[0m\n\u001b[1;32m    378\u001b[0m \u001b[39m#         output=q,\u001b[39;00m\n\u001b[1;32m    379\u001b[0m \u001b[39m#     )\u001b[39;00m\n\u001b[1;32m    380\u001b[0m bb\u001b[39m.\u001b[39mfree(bb\u001b[39m.\u001b[39mjoin(p))\n",
      "File \u001b[0;32m~/projects/qualtran/qualtran/_infra/composite_bloq.py:1074\u001b[0m, in \u001b[0;36mBloqBuilder.join\u001b[0;34m(self, soqs)\u001b[0m\n\u001b[1;32m   1072\u001b[0m     (n,) \u001b[39m=\u001b[39m soqs\u001b[39m.\u001b[39mshape\n\u001b[1;32m   1073\u001b[0m \u001b[39mexcept\u001b[39;00m \u001b[39mAttributeError\u001b[39;00m:\n\u001b[0;32m-> 1074\u001b[0m     \u001b[39mraise\u001b[39;00m \u001b[39mValueError\u001b[39;00m(\u001b[39m\"\u001b[39m\u001b[39m`join` expects a 1-d array of input soquets to join.\u001b[39m\u001b[39m\"\u001b[39m) \u001b[39mfrom\u001b[39;00m \u001b[39mNone\u001b[39;00m\n\u001b[1;32m   1076\u001b[0m \u001b[39mif\u001b[39;00m \u001b[39mnot\u001b[39;00m \u001b[39mall\u001b[39m(soq\u001b[39m.\u001b[39mreg\u001b[39m.\u001b[39mbitsize \u001b[39m==\u001b[39m \u001b[39m1\u001b[39m \u001b[39mfor\u001b[39;00m soq \u001b[39min\u001b[39;00m soqs):\n\u001b[1;32m   1077\u001b[0m     \u001b[39mraise\u001b[39;00m \u001b[39mValueError\u001b[39;00m(\u001b[39m\"\u001b[39m\u001b[39m`join` can only join equal-bitsized soquets, currently only size 1.\u001b[39m\u001b[39m\"\u001b[39m)\n",
      "\u001b[0;31mValueError\u001b[0m: `join` expects a 1-d array of input soquets to join."
     ]
    }
   ],
   "source": [
    "from qualtran.bloqs.chemistry.pbc.first_quantization import SelectFirstQuantization\n",
    "from qualtran.drawing import get_musical_score_data, draw_musical_score\n",
    "\n",
    "num_bits_p = 6\n",
    "eta = 2\n",
    "num_atoms = 2\n",
    "lambda_zeta = 2\n",
    "sel_first_quant = SelectFirstQuantization(num_bits_p, eta, num_atoms, lambda_zeta)\n",
    "#show_bloq(sel_first_quant)\n",
    "msd = get_musical_score_data(sel_first_quant.decompose_bloq())\n",
    "fig, ax = draw_musical_score(msd)\n",
    "fig.set_size_inches(16, 5)"
   ]
  },
  {
   "cell_type": "code",
   "execution_count": null,
   "metadata": {},
   "outputs": [],
   "source": []
  }
 ],
 "metadata": {
  "kernelspec": {
   "display_name": "Python 3",
   "language": "python",
   "name": "python3"
  },
  "language_info": {
   "codemirror_mode": {
    "name": "ipython",
    "version": 3
   },
   "file_extension": ".py",
   "mimetype": "text/x-python",
   "name": "python",
   "nbconvert_exporter": "python",
   "pygments_lexer": "ipython3",
   "version": "3.11.5"
  }
 },
 "nbformat": 4,
 "nbformat_minor": 5
}
