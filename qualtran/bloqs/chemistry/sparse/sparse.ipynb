{
 "cells": [
  {
   "cell_type": "markdown",
   "id": "6ce87bae",
   "metadata": {
    "cq.autogen": "title_cell"
   },
   "source": [
    "# Sparse\n",
    "\n",
    "SELECT and PREPARE for the second quantized sparse chemistry Hamiltonian.\n",
    "\n",
    "Starting from the traditional second quantized chemistry Hamiltonian\n",
    "$$\n",
    "H = \\sum_\\sigma \\sum_{pq} T_{pq} a_{p\\sigma}^\\dagger a_{q\\sigma}\n",
    "+\n",
    "\\frac{1}{2}\\sum_{\\alpha\\beta}\n",
    "\\sum_{pqrs}\n",
    "V_{pqrs} a_{p\\sigma}^\\dagger a_{r\\beta}^\\dagger a_{s\\beta} a_{q\\alpha},\n",
    "$$\n",
    "where $a_{p\\sigma}$ ($a_{q\\sigma}^\\dagger$) annihilate (create) an electron in the\n",
    "$p$-th orbital of spin $\\sigma$.\n",
    "We can rewrite this expression using the Jordan-Wigner transformation as\n",
    "$$\n",
    "H = T' + V',\n",
    "$$\n",
    "where\n",
    "$$\n",
    "T' = \\frac{1}{2} \\sum_\\sigma \\sum_{pq} T_{pq}'Q_{pq\\sigma},\n",
    "$$\n",
    "$$\n",
    "V' = \\sum_{\\alpha\\beta}\\sum_{pqrs}V_{pqrs}Q_{pq\\alpha}Q_{rs\\beta},\n",
    "$$\n",
    "and $V = (pq|rs)$ are the usual two-electron integrals in chemist's notation,\n",
    "$$\n",
    "T'_{pq} = T_{pq} - \\sum_r V_{pqrr},\n",
    "$$\n",
    "and\n",
    "$$\n",
    "Q_{pq\\sigma} =\n",
    "\\begin{cases}\n",
    "X_{p\\sigma}\\vec{Z}X_{q\\sigma} & p < q \\\\\n",
    "Y_{p\\sigma}\\vec{Z}Y_{q\\sigma} & p > q \\\\\n",
    "-Z_{p\\sigma} & p = q\n",
    "\\end{cases}.\n",
    "$$\n",
    "The sparse Hamiltonian simply sets to zero any term in the Hamiltonian where\n",
    "$|V_{pqrs}|$ is less than some threshold. This reduces the\n",
    "amount of data that is required to be loaded during state preparation as only\n",
    "non-zero symmetry inequivalent terms are required (the two electron integrals\n",
    "exhibit 8-fold permutational symmetry). Symmetries are restored by initially\n",
    "appropriately weighting these non-zero terms and then using $|+\\rangle$ states\n",
    "to perform control swaps between the $pqrs$ registers."
   ]
  },
  {
   "cell_type": "code",
   "execution_count": null,
   "id": "d176a9ce",
   "metadata": {
    "cq.autogen": "top_imports"
   },
   "outputs": [],
   "source": [
    "from qualtran import Bloq, CompositeBloq, BloqBuilder, Signature, Register\n",
    "from qualtran import QBit, QInt, QUInt, QAny\n",
    "from qualtran.drawing import show_bloq, show_call_graph, show_counts_sigma\n",
    "from typing import *\n",
    "import numpy as np\n",
    "import sympy\n",
    "import cirq"
   ]
  },
  {
   "cell_type": "markdown",
   "id": "aede18a0",
   "metadata": {
    "cq.autogen": "PrepareSparse.bloq_doc.md"
   },
   "source": [
    "## `PrepareSparse`\n",
    "Prepare oracle for the sparse chemistry Hamiltonian\n",
    "\n",
    "Prepare the state:\n",
    "\n",
    "$$\n",
    "    |0\\rangle|+\\rangle|0\\rangle|0\\rangle\n",
    "    \\sum_{\\sigma}\\sum_{pq}\n",
    "    \\sqrt{\\frac{T_{pq}'}{2\\lambda}}\n",
    "    |\\theta_{pq}^T\\rangle|pq\\sigma\\rangle|000\\rangle\n",
    "    +|1\\rangle|+\\rangle|+\\rangle|+\\rangle\n",
    "    \\sum_{\\alpha\\beta}\n",
    "    \\sum_{pqrs}\n",
    "    \\sqrt{\\frac{\\tilde{V}_{pqrs}'}{2\\lambda}}\n",
    "    |\\theta_{pqrs}^V\\rangle|pq\\alpha\\rangle|rs\\beta\\rangle\n",
    "$$\n",
    "\n",
    "#### Parameters\n",
    " - `num_spin_orb`: The number of spin orbitals.\n",
    " - `num_non_zero`: The number of non-zero matrix elements.\n",
    " - `num_bits_state_prep`: the number of bits of precision for state preparation. This will control the size of the keep register.\n",
    " - `num_bits_rot_aa`: The number of bits of precision for the single-qubit rotation for amplitude amplification during the uniform state preparation. Default 8.\n",
    " - `adjoint`: Whether we are apply PREPARE or PREPARE^dag\n",
    " - `qroam_block_size`: qroam blocking factor. \n",
    "\n",
    "#### Registers\n",
    " - `d`: the register indexing non-zero matrix elements.\n",
    " - `pqrs`: the register to store the spatial orbital index.\n",
    " - `sigma`: the register prepared for alias sampling.\n",
    " - `alpha`: spin for (pq) indicies.\n",
    " - `beta`: spin for (rs) indicies.\n",
    " - `rot_aa`: the qubit rotated for amplitude amplification.\n",
    " - `swap_pq`: a |+> state to restore the symmetries of the p and q indices.\n",
    " - `swap_rs`: a |+> state to restore the symmetries of the r and s indices.\n",
    " - `swap_pqrs`: a |+> state to restore the symmetries of between (pq) and (rs).\n",
    " - `theta`: sign qubit.\n",
    " - `alt_pqrs`: the register to store the alternate values for the spatial orbital indices.\n",
    " - `theta`: A two qubit register for the sign bit and it's alternate value.\n",
    " - `keep`: The register containing the keep values for alias sampling.\n",
    " - `less_than`: A single qubit for the result of the inequality test during alias sampling.\n",
    " - `flag_1b`: a single qubit register indicating whether to apply only the one-body SELECT.\n",
    " - `alt_flag_1b`: alternate value for flag_1b \n",
    "\n",
    "Refererences:\n",
    "    [Even More Efficient Quantum Computations of Chemistry Through Tensor\n",
    "        hypercontraction](https://arxiv.org/abs/2011.03494) Eq. A11."
   ]
  },
  {
   "cell_type": "code",
   "execution_count": null,
   "id": "7bf1a246",
   "metadata": {
    "cq.autogen": "PrepareSparse.bloq_doc.py"
   },
   "outputs": [],
   "source": [
    "from qualtran.bloqs.chemistry.sparse.prepare import PrepareSparse"
   ]
  },
  {
   "cell_type": "markdown",
   "id": "65741ad4",
   "metadata": {
    "cq.autogen": "PrepareSparse.example_instances.md"
   },
   "source": [
    "### Example Instances"
   ]
  },
  {
   "cell_type": "code",
   "execution_count": null,
   "id": "31ff8735",
   "metadata": {
    "cq.autogen": "PrepareSparse.prep_sparse"
   },
   "outputs": [],
   "source": [
    "from qualtran.bloqs.chemistry.sparse.prepare_test import build_random_test_integrals\n",
    "\n",
    "num_spin_orb = 4\n",
    "tpq, eris = build_random_test_integrals(num_spin_orb // 2)\n",
    "prep_sparse = PrepareSparse.from_hamiltonian_coeffs(num_spin_orb, tpq, eris)"
   ]
  },
  {
   "cell_type": "markdown",
   "id": "60980ea8",
   "metadata": {
    "cq.autogen": "PrepareSparse.graphical_signature.md"
   },
   "source": [
    "#### Graphical Signature"
   ]
  },
  {
   "cell_type": "code",
   "execution_count": null,
   "id": "b3182720",
   "metadata": {
    "cq.autogen": "PrepareSparse.graphical_signature.py"
   },
   "outputs": [],
   "source": [
    "from qualtran.drawing import show_bloqs\n",
    "show_bloqs([prep_sparse],\n",
    "           ['`prep_sparse`'])"
   ]
  },
  {
   "cell_type": "markdown",
   "id": "e69da753",
   "metadata": {
    "cq.autogen": "PrepareSparse.call_graph.md"
   },
   "source": [
    "### Call Graph"
   ]
  },
  {
   "cell_type": "code",
   "execution_count": null,
   "id": "64a63e15",
   "metadata": {
    "cq.autogen": "PrepareSparse.call_graph.py"
   },
   "outputs": [],
   "source": [
    "from qualtran.resource_counting.generalizers import ignore_split_join\n",
    "prep_sparse_g, prep_sparse_sigma = prep_sparse.call_graph(max_depth=1, generalizer=ignore_split_join)\n",
    "show_call_graph(prep_sparse_g)\n",
    "show_counts_sigma(prep_sparse_sigma)"
   ]
  },
  {
   "cell_type": "markdown",
   "id": "e9458750",
   "metadata": {
    "cq.autogen": "SelectSparse.bloq_doc.md"
   },
   "source": [
    "## `SelectSparse`\n",
    "SELECT oracle for the sparse Hamiltonian.\n",
    "\n",
    "Implements the two applications of Fig. 13.\n",
    "\n",
    "#### Parameters\n",
    " - `num_spin_orb`: The number of spin orbitals. Typically called N. \n",
    "\n",
    "#### Registers\n",
    " - `flag_1b`: a single qubit to flag whether the one-body Hamiltonian is to be applied or not during SELECT.\n",
    " - `swap_pq`: a |+> state to restore the symmetries of the p and q indices.\n",
    " - `swap_rs`: a |+> state to restore the symmetries of the r and s indices.\n",
    " - `swap_pqrs`: a |+> state to restore the symmetries of between (pq) and (rs).\n",
    " - `theta`: sign qubit.\n",
    " - `pqrs`: the register to store the spatial orbital index.\n",
    " - `alpha`: spin for (pq) indicies.\n",
    " - `beta`: spin for (rs) indicies. \n",
    "\n",
    "Refererences:\n",
    "    [Even More Efficient Quantum Computations of Chemistry Through Tensor\n",
    "        hypercontraction](https://arxiv.org/abs/2011.03494) Fig 13."
   ]
  },
  {
   "cell_type": "code",
   "execution_count": null,
   "id": "51d1ee6f",
   "metadata": {
    "cq.autogen": "SelectSparse.bloq_doc.py"
   },
   "outputs": [],
   "source": [
    "from qualtran.bloqs.chemistry.sparse.select_bloq import SelectSparse"
   ]
  },
  {
   "cell_type": "markdown",
   "id": "678e33e3",
   "metadata": {
    "cq.autogen": "SelectSparse.example_instances.md"
   },
   "source": [
    "### Example Instances"
   ]
  },
  {
   "cell_type": "code",
   "execution_count": null,
   "id": "3855993c",
   "metadata": {
    "cq.autogen": "SelectSparse.sel_sparse"
   },
   "outputs": [],
   "source": [
    "num_spin_orb = 4\n",
    "sel_sparse = SelectSparse(num_spin_orb)"
   ]
  },
  {
   "cell_type": "markdown",
   "id": "98285824",
   "metadata": {
    "cq.autogen": "SelectSparse.graphical_signature.md"
   },
   "source": [
    "#### Graphical Signature"
   ]
  },
  {
   "cell_type": "code",
   "execution_count": null,
   "id": "d004038c",
   "metadata": {
    "cq.autogen": "SelectSparse.graphical_signature.py"
   },
   "outputs": [],
   "source": [
    "from qualtran.drawing import show_bloqs\n",
    "show_bloqs([sel_sparse],\n",
    "           ['`sel_sparse`'])"
   ]
  },
  {
   "cell_type": "markdown",
   "id": "e424340b",
   "metadata": {
    "cq.autogen": "SelectSparse.call_graph.md"
   },
   "source": [
    "### Call Graph"
   ]
  },
  {
   "cell_type": "code",
   "execution_count": null,
   "id": "7039385b",
   "metadata": {
    "cq.autogen": "SelectSparse.call_graph.py"
   },
   "outputs": [],
   "source": [
    "from qualtran.resource_counting.generalizers import ignore_split_join\n",
    "sel_sparse_g, sel_sparse_sigma = sel_sparse.call_graph(max_depth=1, generalizer=ignore_split_join)\n",
    "show_call_graph(sel_sparse_g)\n",
    "show_counts_sigma(sel_sparse_sigma)"
   ]
  },
  {
   "cell_type": "markdown",
   "id": "dd814c30",
   "metadata": {
    "cq.autogen": "QubitizationWalkOperator.bloq_doc.md"
   },
   "source": [
    "## `QubitizationWalkOperator`\n",
    "Constructs a Szegedy Quantum Walk operator using LCU oracles SELECT and PREPARE.\n",
    "\n",
    "Constructs a Szegedy quantum walk operator $W = R_{L} . \\mathrm{SELECT}$, which is a product of\n",
    "two reflections $R_{L} = (2|L\\rangle \\langle L| - I)$ and $\\mathrm{SELECT} = \\sum_{l}\n",
    "|l\\rangle\\langle l|H_{l}$.\n",
    "\n",
    "The action of $W$ partitions the Hilbert space into a direct sum of two-dimensional irreducible\n",
    "vector spaces. For an arbitrary eigenstate $|k\\rangle$ of $H$ with\n",
    "eigenvalue $E_k$, $|\\ell\\rangle|k\\rangle$ and\n",
    "an orthogonal state $\\phi_{k}$ span the irreducible two-dimensional space that\n",
    "$|\\ell\\rangle|k\\rangle$ is in under the action of $W$. In this space, $W$ implements a Pauli-Y\n",
    "rotation by an angle of $-2\\arccos(E_{k} / \\lambda)$ s.t. $W = e^{i \\arccos(E_k / \\lambda) Y}$.\n",
    "\n",
    "Thus, the walk operator $W$ encodes the spectrum of $H$ as a function of eigenphases of $W$\n",
    "s.t. $spectrum(H) = \\lambda cos(\\arg(\\mathrm{spectrum}(W)))$ where $\\arg(e^{i\\phi}) = \\phi$.\n",
    "\n",
    "#### Parameters\n",
    " - `select`: The SELECT lcu gate implementing $\\mathrm{SELECT}=\\sum_{l}|l\\rangle\\langle l|H_{l}$.\n",
    " - `prepare`: Then PREPARE lcu gate implementing $\\mathrm{PREPARE}|00...00\\rangle = \\sum_{l=0}^{L - 1}\\sqrt{\\frac{w_{l}}{\\lambda}} |l\\rangle = |\\ell\\rangle$\n",
    " - `control_val`: If 0/1, a controlled version of the walk operator is constructed. Defaults to None, in which case the resulting walk operator is not controlled.\n",
    " - `power`: Constructs $W^{\\mathrm{power}}$ by repeatedly decomposing into `power` copies of $W$. Defaults to 1. \n",
    "\n",
    "#### References\n",
    " - [Encoding Electronic Spectra in Quantum Circuits with Linear T Complexity](https://arxiv.org/abs/1805.03662). Babbush et. al. (2018). Figure 1.\n"
   ]
  },
  {
   "cell_type": "code",
   "execution_count": null,
   "id": "fa23ca6e",
   "metadata": {
    "cq.autogen": "QubitizationWalkOperator.bloq_doc.py"
   },
   "outputs": [],
   "source": [
    "from qualtran.bloqs.qubitization_walk_operator import QubitizationWalkOperator"
   ]
  },
  {
   "cell_type": "markdown",
   "id": "cc98cc82",
   "metadata": {
    "cq.autogen": "QubitizationWalkOperator.example_instances.md"
   },
   "source": [
    "### Example Instances"
   ]
  },
  {
   "cell_type": "code",
   "execution_count": null,
   "id": "fe51c555",
   "metadata": {
    "cq.autogen": "QubitizationWalkOperator.walk_op_chem_sparse"
   },
   "outputs": [],
   "source": [
    "from qualtran.bloqs.chemistry.sparse.prepare_test import build_random_test_integrals\n",
    "from qualtran.bloqs.chemistry.sparse.walk_operator import get_walk_operator_for_sparse_chem_ham\n",
    "\n",
    "num_spin_orb = 8\n",
    "num_bits_rot_aa = 8\n",
    "num_bits_state_prep = 12\n",
    "tpq, eris = build_random_test_integrals(num_spin_orb // 2)\n",
    "walk_op_chem_sparse = get_walk_operator_for_sparse_chem_ham(\n",
    "    tpq, eris, num_bits_rot_aa=num_bits_rot_aa, num_bits_state_prep=num_bits_state_prep\n",
    ")"
   ]
  },
  {
   "cell_type": "markdown",
   "id": "fc80f169",
   "metadata": {
    "cq.autogen": "QubitizationWalkOperator.graphical_signature.md"
   },
   "source": [
    "#### Graphical Signature"
   ]
  },
  {
   "cell_type": "code",
   "execution_count": null,
   "id": "8d2f95b3",
   "metadata": {
    "cq.autogen": "QubitizationWalkOperator.graphical_signature.py"
   },
   "outputs": [],
   "source": [
    "from qualtran.drawing import show_bloqs\n",
    "show_bloqs([walk_op_chem_sparse],\n",
    "           ['`walk_op_chem_sparse`'])"
   ]
  },
  {
   "cell_type": "markdown",
   "id": "aa003cd3",
   "metadata": {
    "cq.autogen": "QubitizationWalkOperator.call_graph.md"
   },
   "source": [
    "### Call Graph"
   ]
  },
  {
   "cell_type": "code",
   "execution_count": null,
   "id": "60649ea3",
   "metadata": {
    "cq.autogen": "QubitizationWalkOperator.call_graph.py"
   },
   "outputs": [],
   "source": [
    "from qualtran.resource_counting.generalizers import ignore_split_join\n",
    "walk_op_chem_sparse_g, walk_op_chem_sparse_sigma = walk_op_chem_sparse.call_graph(max_depth=1, generalizer=ignore_split_join)\n",
    "show_call_graph(walk_op_chem_sparse_g)\n",
    "show_counts_sigma(walk_op_chem_sparse_sigma)"
   ]
  }
 ],
 "metadata": {
  "kernelspec": {
   "display_name": "Python 3",
   "language": "python",
   "name": "python3"
  },
  "language_info": {
   "codemirror_mode": {
    "name": "ipython",
    "version": 3
   },
   "file_extension": ".py",
   "mimetype": "text/x-python",
   "name": "python",
   "nbconvert_exporter": "python",
   "pygments_lexer": "ipython3",
   "version": "3.10.4"
  }
 },
 "nbformat": 4,
 "nbformat_minor": 5
}
