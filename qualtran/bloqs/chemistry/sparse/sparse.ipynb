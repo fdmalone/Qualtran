{
 "cells": [
  {
   "cell_type": "markdown",
   "id": "650e51b1",
   "metadata": {
    "cq.autogen": "title_cell"
   },
   "source": [
    "# Sparse\n",
    "\n",
    "SELECT and PREPARE for the second quantized sparse chemistry Hamiltonian.\n",
    "\n",
    "Starting from the traditional second quantized chemistry Hamiltonian\n",
    "$$\n",
    "H = \\sum_\\sigma \\sum_{pq} T_{pq} a_{p\\sigma}^\\dagger a_{q\\sigma}\n",
    "+\n",
    "\\frac{1}{2}\\sum_{\\alpha\\beta}\n",
    "\\sum_{pqrs}\n",
    "V_{pqrs} a_{p\\sigma}^\\dagger a_{r\\beta}^\\dagger a_{s\\beta} a_{q\\alpha},\n",
    "$$\n",
    "where $a_{p\\sigma}$ ($a_{q\\sigma}^\\dagger$) annihilate (create) an electron in the\n",
    "$p$-th orbital of spin $\\sigma$.\n",
    "We can rewrite this expression using the Jordan-Wigner transformation as\n",
    "$$\n",
    "H = T' + V',\n",
    "$$\n",
    "where\n",
    "$$\n",
    "T' = \\frac{1}{2} \\sum_\\sigma \\sum_{pq} T_{pq}'Q_{pq\\sigma},\n",
    "$$\n",
    "$$\n",
    "V' = \\sum_{\\alpha\\beta}\\sum_{pqrs}V_{pqrs}Q_{pq\\alpha}Q_{rs\\beta},\n",
    "$$\n",
    "and $V = (pq|rs)$ are the usual two-electron integrals in chemist's notation,\n",
    "$$\n",
    "T'_{pq} = T_{pq} - \\sum_r V_{pqrr},\n",
    "$$\n",
    "and\n",
    "$$\n",
    "Q_{pq\\sigma} =\n",
    "\\begin{cases}\n",
    "X_{p\\sigma}\\vec{Z}X_{q\\sigma} & p < q \\\\\n",
    "Y_{p\\sigma}\\vec{Z}Y_{q\\sigma} & p > q \\\\\n",
    "-Z_{p\\sigma} & p = q\n",
    "\\end{cases}.\n",
    "$$\n",
    "The sparse Hamiltonian simply sets to zero any term in the Hamiltonian where\n",
    "$|V_{pqrs}|$ is less than some threshold. This reduces the\n",
    "amount of data that is required to be loaded during state preparation as only\n",
    "non-zero symmetry inequivalent terms are required (the two electron integrals\n",
    "exhibit 8-fold permutational symmetry). Symmetries are restored by initially\n",
    "appropriately weighting these non-zero terms and then using $|+\\rangle$ states\n",
    "to perform control swaps between the $pqrs$ registers."
   ]
  },
  {
   "cell_type": "code",
   "execution_count": null,
   "id": "def54f0c",
   "metadata": {
    "cq.autogen": "top_imports"
   },
   "outputs": [],
   "source": [
    "from qualtran import Bloq, CompositeBloq, BloqBuilder, Signature, Register\n",
    "from qualtran.drawing import show_bloq, show_call_graph, show_counts_sigma\n",
    "from typing import *\n",
    "import numpy as np\n",
    "import sympy\n",
    "import cirq"
   ]
  },
  {
   "cell_type": "markdown",
   "id": "da99c409",
   "metadata": {
    "cq.autogen": "PrepareSparse.bloq_doc.md"
   },
   "source": [
    "## `PrepareSparse`\n",
    "Prepare oracle for the sparse chemistry Hamiltonian\n",
    "\n",
    "Prepare the state:\n",
    "\n",
    "$$\n",
    "    |0\\rangle|+\\rangle|0\\rangle|0\\rangle\n",
    "    \\sum_{\\sigma}\\sum_{pq}\n",
    "    \\sqrt{\\frac{T_{pq}'}{2\\lambda}}\n",
    "    |\\theta_{pq}^T\\rangle|pq\\sigma\\rangle|000\\rangle\n",
    "    +|1\\rangle|+\\rangle|+\\rangle|+\\rangle\n",
    "    \\sum_{\\alpha\\beta}\n",
    "    \\sum_{pqrs}\n",
    "    \\sqrt{\\frac{\\tilde{V}_{pqrs}'}{2\\lambda}}\n",
    "    |\\theta_{pqrs}^V\\rangle|pq\\alpha\\rangle|rs\\beta\\rangle\n",
    "$$\n",
    "\n",
    "#### Parameters\n",
    " - `num_spin_orb`: The number of spin orbitals.\n",
    " - `num_non_zero`: The number of non-zero matrix elements.\n",
    " - `num_bits_state_prep`: the number of bits of precision for state preparation. This will control the size of the keep register.\n",
    " - `num_bits_rot_aa`: The number of bits of precision for the single-qubit rotation for amplitude amplification during the uniform state preparataion. Default 8.\n",
    " - `adjoint`: Whether we are apply PREPARE or PREPARE^dag\n",
    " - `k`: qroam blocking factor. \n",
    "\n",
    "#### Registers\n",
    " - `d`: the register indexing non-zero matrix elements.\n",
    " - `pqrs`: the register to store the spatial orbital index.\n",
    " - `sigma`: the register prepared for alias sampling.\n",
    " - `alpha`: spin for (pq) indicies.\n",
    " - `beta`: spin for (rs) indicies.\n",
    " - `rot_aa`: the qubit rotated for amplitude amplification.\n",
    " - `swap_pq`: a |+> state to restore the symmetries of the p and q indices.\n",
    " - `swap_rs`: a |+> state to restore the symmetries of the r and s indices.\n",
    " - `swap_pqrs`: a |+> state to restore the symmetries of between (pq) and (rs).\n",
    " - `theta`: sign qubit.\n",
    " - `alt_pqrs`: the register to store the alternate values for the spatial orbital indices.\n",
    " - `theta`: A two qubit register for the sign bit and it's alternate value.\n",
    " - `keep`: The register containing the keep values for alias sampling.\n",
    " - `less_than`: A single qubit for the result of the inequality test during alias sampling.\n",
    " - `flag_1b`: a two qubit register indicating the if this basis state corresponds to a one-body matrix element. The second qubit stores the alternate value. This qubit will control the SELECT operation. \n",
    "\n",
    "Refererences:\n",
    "    [Even More Efficient Quantum Computations of Chemistry Through Tensor\n",
    "        hypercontraction](https://arxiv.org/abs/2011.03494) Eq. A11."
   ]
  },
  {
   "cell_type": "code",
   "execution_count": null,
   "id": "81881179",
   "metadata": {
    "cq.autogen": "PrepareSparse.bloq_doc.py"
   },
   "outputs": [],
   "source": [
    "from qualtran.bloqs.chemistry.sparse.prepare import PrepareSparse"
   ]
  },
  {
   "cell_type": "markdown",
   "id": "5a86c884",
   "metadata": {
    "cq.autogen": "PrepareSparse.example_instances.md"
   },
   "source": [
    "### Example Instances"
   ]
  },
  {
   "cell_type": "code",
   "execution_count": null,
   "id": "eb8385ca",
   "metadata": {
    "cq.autogen": "PrepareSparse.prep_sparse"
   },
   "outputs": [],
   "source": [
    "num_spin_orb = 4\n",
    "tpq = np.random.random((num_spin_orb//2, num_spin_orb//2))\n",
    "tpq = 0.5 * (tpq + tpq.T)\n",
    "eris = np.random.random((num_spin_orb//2,) * 4)\n",
    "eris += np.transpose(eris, (0, 1, 3, 2))\n",
    "eris += np.transpose(eris, (1, 0, 2, 3))\n",
    "eris += np.transpose(eris, (2, 3, 0, 1))\n",
    "prep_sparse = PrepareSparse.from_hamiltonian_coeffs(num_spin_orb, tpq, eris)"
   ]
  },
  {
   "cell_type": "markdown",
   "id": "12fa266f",
   "metadata": {
    "cq.autogen": "PrepareSparse.graphical_signature.md"
   },
   "source": [
    "#### Graphical Signature"
   ]
  },
  {
   "cell_type": "code",
   "execution_count": null,
   "id": "21ee8865",
   "metadata": {
    "cq.autogen": "PrepareSparse.graphical_signature.py"
   },
   "outputs": [],
   "source": [
    "from qualtran.drawing import show_bloqs\n",
    "show_bloqs([prep_sparse],\n",
    "           ['`prep_sparse`'])"
   ]
  },
  {
   "cell_type": "markdown",
   "id": "3748e412",
   "metadata": {
    "cq.autogen": "PrepareSparse.call_graph.md"
   },
   "source": [
    "### Call Graph"
   ]
  },
  {
   "cell_type": "code",
   "execution_count": null,
   "id": "543be2ab",
   "metadata": {
    "cq.autogen": "PrepareSparse.call_graph.py"
   },
   "outputs": [],
   "source": [
    "prep_sparse_g, prep_sparse_sigma = prep_sparse.call_graph()\n",
    "show_call_graph(prep_sparse_g)\n",
    "show_counts_sigma(prep_sparse_sigma)"
   ]
  }
 ],
 "metadata": {
  "kernelspec": {
   "display_name": "Python 3",
   "language": "python",
   "name": "python3"
  },
  "language_info": {
   "name": "python"
  }
 },
 "nbformat": 4,
 "nbformat_minor": 5
}
