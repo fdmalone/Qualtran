{
 "cells": [
  {
   "cell_type": "markdown",
   "id": "1e593ef8",
   "metadata": {
    "cq.autogen": "title_cell"
   },
   "source": [
    "# Trotterized Hubbard\n",
    "\n",
    "Bloqs implementing Trotterized unitary evolution under the Hubbard Hamiltonian.\n",
    "\n",
    "The Hubbard model is given as a sum of two terms\n",
    "\n",
    "$$\n",
    "H = H_h + H_I\n",
    "$$\n",
    "\n",
    "where the hopping hamiltonian is given as\n",
    "$$\n",
    "H_h = -\\tau \\sum_{\\langle p, q\\rangle, \\sigma}\n",
    "    \\left(a_{p\\sigma}^{\\dagger} a_{q\\sigma} + \\mathrm{h.c.} \\right)\n",
    "$$\n",
    "where the sum is over nearest neighbour lattice sites (under periodic boundary conditions).\n",
    "\n",
    "Following the [reference](https://arxiv.org/abs/2012.09238) we assume the\n",
    "shifted form of the interacting Hamiltonian:\n",
    "$$\n",
    "H_I = \\frac{u}{4} \\sum_{p} z_{p\\uparrow}z_{p\\downarrow}\n",
    "$$\n",
    "where $z_{p\\sigma} = (2 n_{p\\sigma} - 1)$.\n",
    "\n",
    "\n",
    "For Trotterization we assume the plaquette splitting from the\n",
    "[reference](https://arxiv.org/abs/2012.09238).\n",
    "The plaquette splitting rewrites $H_h$ as a sum of $H_h^p$ and $H_h^g$ (for pink and gold\n",
    "respectively) which when combined tile the entire lattice. Each plaquette\n",
    "contains four sites and paritions the lattice such that each edge of the lattice\n",
    "belongs to a single plaquette. Each term within a grouping commutes so that the\n",
    "unitary can be be implemented as\n",
    "$$\n",
    "e^{i H_h^{x}} = \\prod_{k\\sigma} e^{i H_h^{x(k,\\sigma)}}\n",
    "$$\n",
    "without further trotter error."
   ]
  },
  {
   "cell_type": "code",
   "execution_count": 1,
   "id": "05a9568d",
   "metadata": {
    "cq.autogen": "top_imports"
   },
   "outputs": [],
   "source": [
    "from qualtran import Bloq, CompositeBloq, BloqBuilder, Signature, Register\n",
    "from qualtran.drawing import show_bloq, show_call_graph, show_counts_sigma\n",
    "from typing import *\n",
    "import numpy as np\n",
    "import sympy\n",
    "import cirq"
   ]
  },
  {
   "cell_type": "markdown",
   "id": "f77ffe9c",
   "metadata": {
    "cq.autogen": "HoppingTile.bloq_doc.md"
   },
   "source": [
    "## `HoppingTile`\n",
    "Bloq implementing a \"tile\" of the one-body hopping unitary.\n",
    "\n",
    "Implements the unitary\n",
    "$$\n",
    "e^{i H_h^{x}} = \\prod_{k\\sigma} e^{i t H_h^{x(k,\\sigma)}}\n",
    "$$\n",
    "for a particular choise of of plaquette hamiltonian $H_h^x$, where $x$ = pink or gold.\n",
    "\n",
    "#### Parameters\n",
    " - `length`: Lattice side length L.\n",
    " - `angle`: The prefactor scaling the Hopping hamiltonian in the unitary (`t` above). This should contain any relevant prefactors including the time step and any splitting coefficients.\n",
    " - `tau`: The Hopping hamiltonian parameter. Typically the hubbard model is defined relative to $\\tau$ so it's defaulted to 1.\n",
    " - `eps`: The precision of the single qubit rotations.\n",
    " - `pink`: The colour of the plaquette. \n",
    "\n",
    "#### Registers\n",
    " - `system`: The system register of size 2 `length`. \n",
    "\n",
    "#### References\n",
    "[Early fault-tolerant simulations of the Hubbard model](\n",
    "    https://arxiv.org/abs/2012.09238) see Eq. 21 and App E.\n"
   ]
  },
  {
   "cell_type": "code",
   "execution_count": 2,
   "id": "85e250cb",
   "metadata": {
    "cq.autogen": "HoppingTile.bloq_doc.py"
   },
   "outputs": [],
   "source": [
    "from qualtran.bloqs.chemistry.trotter.hubbard.hopping import HoppingTile"
   ]
  },
  {
   "cell_type": "markdown",
   "id": "b6d95ae1",
   "metadata": {
    "cq.autogen": "HoppingTile.example_instances.md"
   },
   "source": [
    "### Example Instances"
   ]
  },
  {
   "cell_type": "code",
   "execution_count": 3,
   "id": "e48f160a",
   "metadata": {
    "cq.autogen": "HoppingTile.hopping_tile"
   },
   "outputs": [],
   "source": [
    "length = 8\n",
    "angle = 0.5\n",
    "hopping_tile = HoppingTile(length, angle)"
   ]
  },
  {
   "cell_type": "markdown",
   "id": "672adf17",
   "metadata": {
    "cq.autogen": "HoppingTile.graphical_signature.md"
   },
   "source": [
    "#### Graphical Signature"
   ]
  },
  {
   "cell_type": "code",
   "execution_count": 4,
   "id": "467e12a7",
   "metadata": {
    "cq.autogen": "HoppingTile.graphical_signature.py"
   },
   "outputs": [
    {
     "data": {
      "application/vnd.jupyter.widget-view+json": {
       "model_id": "23d007391a994cd190aa3323afa3986e",
       "version_major": 2,
       "version_minor": 0
      },
      "text/plain": [
       "HBox(children=(Output(outputs=({'output_type': 'display_data', 'data': {'text/plain': '<IPython.core.display.M…"
      ]
     },
     "metadata": {},
     "output_type": "display_data"
    }
   ],
   "source": [
    "from qualtran.drawing import show_bloqs\n",
    "show_bloqs([hopping_tile],\n",
    "           ['`hopping_tile`'])"
   ]
  },
  {
   "cell_type": "markdown",
   "id": "7fbdb423",
   "metadata": {
    "cq.autogen": "HoppingTile.call_graph.md"
   },
   "source": [
    "### Call Graph"
   ]
  },
  {
   "cell_type": "code",
   "execution_count": 5,
   "id": "499da704",
   "metadata": {
    "cq.autogen": "HoppingTile.call_graph.py"
   },
   "outputs": [
    {
     "data": {
      "image/svg+xml": [
       "<svg xmlns=\"http://www.w3.org/2000/svg\" xmlns:xlink=\"http://www.w3.org/1999/xlink\" width=\"646pt\" height=\"310pt\" viewBox=\"0.00 0.00 646.00 309.50\">\n",
       "<g id=\"graph0\" class=\"graph\" transform=\"scale(1 1) rotate(0) translate(4 305.5)\">\n",
       "<title>counts</title>\n",
       "<polygon fill=\"white\" stroke=\"none\" points=\"-4,4 -4,-305.5 642,-305.5 642,4 -4,4\"/>\n",
       "<!-- b0 -->\n",
       "<g id=\"node1\" class=\"node\">\n",
       "<title>b0</title>\n",
       "<polygon fill=\"none\" stroke=\"black\" points=\"316,-301.5 0,-301.5 0,-265.5 316,-265.5 316,-301.5\"/>\n",
       "<text text-anchor=\"start\" x=\"123.5\" y=\"-283.2\" font-family=\"Times,serif\" font-size=\"14.00\">HoppingTile</text>\n",
       "<text text-anchor=\"start\" x=\"8\" y=\"-273\" font-family=\"monospace\" font-size=\"10.00\">length=8, angle=0.5, tau=1.0, eps=1e-09, pink=True</text>\n",
       "</g>\n",
       "<!-- b1 -->\n",
       "<g id=\"node2\" class=\"node\">\n",
       "<title>b1</title>\n",
       "<polygon fill=\"none\" stroke=\"black\" points=\"226,-213 90,-213 90,-177 226,-177 226,-213\"/>\n",
       "<text text-anchor=\"start\" x=\"109.25\" y=\"-194.7\" font-family=\"Times,serif\" font-size=\"14.00\">HoppingPlaquette</text>\n",
       "<text text-anchor=\"start\" x=\"98\" y=\"-184.5\" font-family=\"monospace\" font-size=\"10.00\">kappa=0.5, eps=1e-09</text>\n",
       "</g>\n",
       "<!-- b0&#45;&gt;b1 -->\n",
       "<g id=\"edge1\" class=\"edge\">\n",
       "<title>b0-&gt;b1</title>\n",
       "<path fill=\"none\" stroke=\"black\" d=\"M158,-265.41C158,-253.64 158,-237.73 158,-224.11\"/>\n",
       "<polygon fill=\"black\" stroke=\"black\" points=\"161.5,-224.35 158,-214.35 154.5,-224.35 161.5,-224.35\"/>\n",
       "<text text-anchor=\"middle\" x=\"164.75\" y=\"-234.2\" font-family=\"Times,serif\" font-size=\"14.00\">32</text>\n",
       "</g>\n",
       "<!-- b2 -->\n",
       "<g id=\"node3\" class=\"node\">\n",
       "<title>b2</title>\n",
       "<polygon fill=\"none\" stroke=\"black\" points=\"211,-124.5 75,-124.5 75,-88.5 211,-88.5 211,-124.5\"/>\n",
       "<text text-anchor=\"start\" x=\"135.5\" y=\"-106.2\" font-family=\"Times,serif\" font-size=\"14.00\">Rz</text>\n",
       "<text text-anchor=\"start\" x=\"83\" y=\"-96\" font-family=\"monospace\" font-size=\"10.00\">angle=1.0, eps=1e-09</text>\n",
       "</g>\n",
       "<!-- b1&#45;&gt;b2 -->\n",
       "<g id=\"edge2\" class=\"edge\">\n",
       "<title>b1-&gt;b2</title>\n",
       "<path fill=\"none\" stroke=\"black\" d=\"M155.04,-176.91C153,-165.14 150.24,-149.23 147.87,-135.61\"/>\n",
       "<polygon fill=\"black\" stroke=\"black\" points=\"151.17,-135.11 146.01,-125.85 144.27,-136.3 151.17,-135.11\"/>\n",
       "<text text-anchor=\"middle\" x=\"155.38\" y=\"-145.7\" font-family=\"Times,serif\" font-size=\"14.00\">2</text>\n",
       "</g>\n",
       "<!-- b3 -->\n",
       "<g id=\"node4\" class=\"node\">\n",
       "<title>b3</title>\n",
       "<polygon fill=\"none\" stroke=\"black\" points=\"467,-124.5 229,-124.5 229,-88.5 467,-88.5 467,-124.5\"/>\n",
       "<text text-anchor=\"start\" x=\"312\" y=\"-106.2\" font-family=\"Times,serif\" font-size=\"14.00\">TwoBitFFFT</text>\n",
       "<text text-anchor=\"start\" x=\"237\" y=\"-96\" font-family=\"monospace\" font-size=\"10.00\">k=0, n=1, eps=1e-09, is_adjoint=False</text>\n",
       "</g>\n",
       "<!-- b1&#45;&gt;b3 -->\n",
       "<g id=\"edge3\" class=\"edge\">\n",
       "<title>b1-&gt;b3</title>\n",
       "<path fill=\"none\" stroke=\"black\" d=\"M195.99,-176.7C225.93,-163.08 267.84,-143.99 300.08,-129.32\"/>\n",
       "<polygon fill=\"black\" stroke=\"black\" points=\"301.1,-132.24 308.75,-124.91 298.2,-125.87 301.1,-132.24\"/>\n",
       "<text text-anchor=\"middle\" x=\"274.38\" y=\"-145.7\" font-family=\"Times,serif\" font-size=\"14.00\">4</text>\n",
       "</g>\n",
       "<!-- b4 -->\n",
       "<g id=\"node5\" class=\"node\">\n",
       "<title>b4</title>\n",
       "<polygon fill=\"none\" stroke=\"black\" points=\"190,-36 78,-36 78,0 190,0 190,-36\"/>\n",
       "<text text-anchor=\"start\" x=\"130.25\" y=\"-17.7\" font-family=\"Times,serif\" font-size=\"14.00\">S</text>\n",
       "<text text-anchor=\"start\" x=\"86\" y=\"-7.5\" font-family=\"monospace\" font-size=\"10.00\">is_adjoint=False</text>\n",
       "</g>\n",
       "<!-- b3&#45;&gt;b4 -->\n",
       "<g id=\"edge4\" class=\"edge\">\n",
       "<title>b3-&gt;b4</title>\n",
       "<path fill=\"none\" stroke=\"black\" d=\"M304.95,-88.1C270.92,-74.35 223.27,-55.08 186.91,-40.39\"/>\n",
       "<polygon fill=\"black\" stroke=\"black\" points=\"188.56,-36.88 177.98,-36.37 185.94,-43.37 188.56,-36.88\"/>\n",
       "<text text-anchor=\"middle\" x=\"264.38\" y=\"-57.2\" font-family=\"Times,serif\" font-size=\"14.00\">3</text>\n",
       "</g>\n",
       "<!-- b5 -->\n",
       "<g id=\"node6\" class=\"node\">\n",
       "<title>b5</title>\n",
       "<polygon fill=\"none\" stroke=\"black\" points=\"262,-36 208,-36 208,0 262,0 262,-36\"/>\n",
       "<text text-anchor=\"start\" x=\"216.62\" y=\"-12.95\" font-family=\"Times,serif\" font-size=\"14.00\">CNOT</text>\n",
       "</g>\n",
       "<!-- b3&#45;&gt;b5 -->\n",
       "<g id=\"edge5\" class=\"edge\">\n",
       "<title>b3-&gt;b5</title>\n",
       "<path fill=\"none\" stroke=\"black\" d=\"M325.4,-88.2C308.39,-75.18 284.87,-57.17 266.08,-42.79\"/>\n",
       "<polygon fill=\"black\" stroke=\"black\" points=\"268.62,-39.57 258.56,-36.27 264.37,-45.12 268.62,-39.57\"/>\n",
       "<text text-anchor=\"middle\" x=\"305.38\" y=\"-57.2\" font-family=\"Times,serif\" font-size=\"14.00\">3</text>\n",
       "</g>\n",
       "<!-- b6 -->\n",
       "<g id=\"node7\" class=\"node\">\n",
       "<title>b6</title>\n",
       "<polygon fill=\"none\" stroke=\"black\" points=\"416,-36 280,-36 280,0 416,0 416,-36\"/>\n",
       "<text text-anchor=\"start\" x=\"340.5\" y=\"-17.7\" font-family=\"Times,serif\" font-size=\"14.00\">Rz</text>\n",
       "<text text-anchor=\"start\" x=\"288\" y=\"-7.5\" font-family=\"monospace\" font-size=\"10.00\">angle=0.0, eps=1e-09</text>\n",
       "</g>\n",
       "<!-- b3&#45;&gt;b6 -->\n",
       "<g id=\"edge6\" class=\"edge\">\n",
       "<title>b3-&gt;b6</title>\n",
       "<path fill=\"none\" stroke=\"black\" d=\"M348,-88.41C348,-76.64 348,-60.73 348,-47.11\"/>\n",
       "<polygon fill=\"black\" stroke=\"black\" points=\"351.5,-47.35 348,-37.35 344.5,-47.35 351.5,-47.35\"/>\n",
       "<text text-anchor=\"middle\" x=\"351.38\" y=\"-57.2\" font-family=\"Times,serif\" font-size=\"14.00\">1</text>\n",
       "</g>\n",
       "<!-- b7 -->\n",
       "<g id=\"node8\" class=\"node\">\n",
       "<title>b7</title>\n",
       "<polygon fill=\"none\" stroke=\"black\" points=\"507.5,-36 434.5,-36 434.5,0 507.5,0 507.5,-36\"/>\n",
       "<text text-anchor=\"start\" x=\"442.5\" y=\"-12.95\" font-family=\"Times,serif\" font-size=\"14.00\">Hadamard</text>\n",
       "</g>\n",
       "<!-- b3&#45;&gt;b7 -->\n",
       "<g id=\"edge7\" class=\"edge\">\n",
       "<title>b3-&gt;b7</title>\n",
       "<path fill=\"none\" stroke=\"black\" d=\"M372.6,-88.2C391.28,-75.06 417.18,-56.85 437.72,-42.4\"/>\n",
       "<polygon fill=\"black\" stroke=\"black\" points=\"439.28,-44.88 445.45,-36.27 435.25,-39.16 439.28,-44.88\"/>\n",
       "<text text-anchor=\"middle\" x=\"424.38\" y=\"-57.2\" font-family=\"Times,serif\" font-size=\"14.00\">6</text>\n",
       "</g>\n",
       "<!-- b8 -->\n",
       "<g id=\"node9\" class=\"node\">\n",
       "<title>b8</title>\n",
       "<polygon fill=\"none\" stroke=\"black\" points=\"638,-36 526,-36 526,0 638,0 638,-36\"/>\n",
       "<text text-anchor=\"start\" x=\"577.88\" y=\"-17.7\" font-family=\"Times,serif\" font-size=\"14.00\">T</text>\n",
       "<text text-anchor=\"start\" x=\"534\" y=\"-7.5\" font-family=\"monospace\" font-size=\"10.00\">is_adjoint=False</text>\n",
       "</g>\n",
       "<!-- b3&#45;&gt;b8 -->\n",
       "<g id=\"edge8\" class=\"edge\">\n",
       "<title>b3-&gt;b8</title>\n",
       "<path fill=\"none\" stroke=\"black\" d=\"M395.07,-88.1C432.52,-74.26 485.06,-54.84 524.9,-40.11\"/>\n",
       "<polygon fill=\"black\" stroke=\"black\" points=\"525.84,-43.12 534,-36.37 523.41,-36.56 525.84,-43.12\"/>\n",
       "<text text-anchor=\"middle\" x=\"489.38\" y=\"-57.2\" font-family=\"Times,serif\" font-size=\"14.00\">2</text>\n",
       "</g>\n",
       "</g>\n",
       "</svg>"
      ],
      "text/plain": [
       "<IPython.core.display.SVG object>"
      ]
     },
     "metadata": {},
     "output_type": "display_data"
    },
    {
     "data": {
      "text/markdown": [
       "#### Counts totals:\n",
       " - `CNOT()`: 384\n",
       " - `Hadamard()`: 768\n",
       " - `Rz(0.0π)`: 128\n",
       " - `Rz(0.3183098861837907π)`: 64\n",
       " - `SGate(is_adjoint=False)`: 384\n",
       " - `TGate()`: 256"
      ],
      "text/plain": [
       "<IPython.core.display.Markdown object>"
      ]
     },
     "metadata": {},
     "output_type": "display_data"
    }
   ],
   "source": [
    "hopping_tile_g, hopping_tile_sigma = hopping_tile.call_graph()\n",
    "show_call_graph(hopping_tile_g)\n",
    "show_counts_sigma(hopping_tile_sigma)"
   ]
  },
  {
   "cell_type": "markdown",
   "id": "a6d226f9",
   "metadata": {
    "cq.autogen": "Interaction.bloq_doc.md"
   },
   "source": [
    "## `Interaction`\n",
    "Bloq implementing the hubbard U part of the hamiltonian.\n",
    "\n",
    "Specifically:\n",
    "$$\n",
    "    U_I = e^{i t H_I}\n",
    "$$\n",
    "which can be implemented using equal angle single-qubit Z rotations.\n",
    "\n",
    "#### Parameters\n",
    " - `length`: Lattice length L. \n",
    "\n",
    "#### Registers\n",
    " - `system`: The system register of size 2 `length`. \n",
    "\n",
    "#### References\n",
    "[Early fault-tolerant simulations of the Hubbard model](\n",
    "    https://arxiv.org/abs/2012.09238) Eq. 6 page 2 and page 13 paragraph 1.\n"
   ]
  },
  {
   "cell_type": "code",
   "execution_count": 6,
   "id": "f59ebbcf",
   "metadata": {
    "cq.autogen": "Interaction.bloq_doc.py"
   },
   "outputs": [],
   "source": [
    "from qualtran.bloqs.chemistry.trotter.hubbard.interaction import Interaction"
   ]
  },
  {
   "cell_type": "markdown",
   "id": "abbc8d48",
   "metadata": {
    "cq.autogen": "Interaction.example_instances.md"
   },
   "source": [
    "### Example Instances"
   ]
  },
  {
   "cell_type": "code",
   "execution_count": 7,
   "id": "28c8162e",
   "metadata": {
    "cq.autogen": "Interaction.interaction"
   },
   "outputs": [],
   "source": [
    "length = 8\n",
    "angle = 0.5\n",
    "hubb_u = 4.0\n",
    "interaction = Interaction(length, angle, hubb_u)"
   ]
  },
  {
   "cell_type": "markdown",
   "id": "1eb36835",
   "metadata": {
    "cq.autogen": "Interaction.graphical_signature.md"
   },
   "source": [
    "#### Graphical Signature"
   ]
  },
  {
   "cell_type": "code",
   "execution_count": 8,
   "id": "8a6eba22",
   "metadata": {
    "cq.autogen": "Interaction.graphical_signature.py"
   },
   "outputs": [
    {
     "data": {
      "application/vnd.jupyter.widget-view+json": {
       "model_id": "c49e99c62b0f45419b3680361efbb61b",
       "version_major": 2,
       "version_minor": 0
      },
      "text/plain": [
       "HBox(children=(Output(outputs=({'output_type': 'display_data', 'data': {'text/plain': '<IPython.core.display.M…"
      ]
     },
     "metadata": {},
     "output_type": "display_data"
    }
   ],
   "source": [
    "from qualtran.drawing import show_bloqs\n",
    "show_bloqs([interaction],\n",
    "           ['`interaction`'])"
   ]
  },
  {
   "cell_type": "markdown",
   "id": "e4cb2793",
   "metadata": {
    "cq.autogen": "Interaction.call_graph.md"
   },
   "source": [
    "### Call Graph"
   ]
  },
  {
   "cell_type": "code",
   "execution_count": 9,
   "id": "4efb569f",
   "metadata": {
    "cq.autogen": "Interaction.call_graph.py"
   },
   "outputs": [
    {
     "data": {
      "image/svg+xml": [
       "<svg xmlns=\"http://www.w3.org/2000/svg\" xmlns:xlink=\"http://www.w3.org/1999/xlink\" width=\"276pt\" height=\"133pt\" viewBox=\"0.00 0.00 276.00 132.50\">\n",
       "<g id=\"graph0\" class=\"graph\" transform=\"scale(1 1) rotate(0) translate(4 128.5)\">\n",
       "<title>counts</title>\n",
       "<polygon fill=\"white\" stroke=\"none\" points=\"-4,4 -4,-128.5 272,-128.5 272,4 -4,4\"/>\n",
       "<!-- b0 -->\n",
       "<g id=\"node1\" class=\"node\">\n",
       "<title>b0</title>\n",
       "<polygon fill=\"none\" stroke=\"black\" points=\"268,-124.5 0,-124.5 0,-88.5 268,-88.5 268,-124.5\"/>\n",
       "<text text-anchor=\"start\" x=\"104.75\" y=\"-106.2\" font-family=\"Times,serif\" font-size=\"14.00\">Interaction</text>\n",
       "<text text-anchor=\"start\" x=\"8\" y=\"-96\" font-family=\"monospace\" font-size=\"10.00\">length=8, angle=0.5, hubb_u=4.0, eps=1e-09</text>\n",
       "</g>\n",
       "<!-- b1 -->\n",
       "<g id=\"node2\" class=\"node\">\n",
       "<title>b1</title>\n",
       "<polygon fill=\"none\" stroke=\"black\" points=\"202,-36 66,-36 66,0 202,0 202,-36\"/>\n",
       "<text text-anchor=\"start\" x=\"126.5\" y=\"-17.7\" font-family=\"Times,serif\" font-size=\"14.00\">Rz</text>\n",
       "<text text-anchor=\"start\" x=\"74\" y=\"-7.5\" font-family=\"monospace\" font-size=\"10.00\">angle=2.0, eps=1e-09</text>\n",
       "</g>\n",
       "<!-- b0&#45;&gt;b1 -->\n",
       "<g id=\"edge1\" class=\"edge\">\n",
       "<title>b0-&gt;b1</title>\n",
       "<path fill=\"none\" stroke=\"black\" d=\"M134,-88.41C134,-76.64 134,-60.73 134,-47.11\"/>\n",
       "<polygon fill=\"black\" stroke=\"black\" points=\"137.5,-47.35 134,-37.35 130.5,-47.35 137.5,-47.35\"/>\n",
       "<text text-anchor=\"middle\" x=\"140.75\" y=\"-57.2\" font-family=\"Times,serif\" font-size=\"14.00\">64</text>\n",
       "</g>\n",
       "</g>\n",
       "</svg>"
      ],
      "text/plain": [
       "<IPython.core.display.SVG object>"
      ]
     },
     "metadata": {},
     "output_type": "display_data"
    },
    {
     "data": {
      "text/markdown": [
       "#### Counts totals:\n",
       " - `Rz(0.6366197723675814π)`: 64"
      ],
      "text/plain": [
       "<IPython.core.display.Markdown object>"
      ]
     },
     "metadata": {},
     "output_type": "display_data"
    }
   ],
   "source": [
    "interaction_g, interaction_sigma = interaction.call_graph()\n",
    "show_call_graph(interaction_g)\n",
    "show_counts_sigma(interaction_sigma)"
   ]
  },
  {
   "cell_type": "markdown",
   "id": "758603a1",
   "metadata": {
    "cq.autogen": "HoppingPlaquette.bloq_doc.md"
   },
   "source": [
    "## `HoppingPlaquette`\n",
    "A bloq implementing a single plaquette unitary.\n",
    "\n",
    "The bloq implements\n",
    "$$\n",
    "    e^{i \\kappa R_\\mathrm{plaq}}\n",
    "$$\n",
    "where $\\tau R^{k\\sigma}_\\mathrm{plaq} = H_h^{x(k,\\sigma)}$, i.e. R is\n",
    "non-zero only in the subploq relevant for the particular indexed plaquette.\n",
    "\n",
    "The plaquette operator is given by\n",
    "$$\n",
    "    \\sum_{i,j} [R_{\\mathrm{plaq}}]_{i,j} a_{i\\sigma}^\\dagger a_{j\\sigma}\n",
    "$$\n",
    "where the non-zero sub-bloq of $R_{\\mathrm{plaq}}$ is\n",
    "\n",
    "$$\n",
    "    R_{\\mathrm{plaq}} =\n",
    "    \\begin{bmatrix}\n",
    "        0 & 1 & 0 & 1 \\\\\n",
    "        1 & 0 & 1 & 0 \\\\\n",
    "        0 & 1 & 0 & 1 \\\\\n",
    "        1 & 0 & 1 & 0\n",
    "    \\end{bmatrix}\n",
    "$$\n",
    "\n",
    "#### Parameters\n",
    " - `kappa`: The scalar prefactor appearing in the definition of the unitary. Usually a combination of the timestep and the hopping parameter $\\tau$.\n",
    " - `eps`: The precision of the single qubit rotations. \n",
    "\n",
    "#### Registers\n",
    " - `qubits`: A register of four qubits this unitary should act on. \n",
    "\n",
    "#### References\n",
    "[Early fault-tolerant simulations of the Hubbard model](\n",
    "    https://arxiv.org/abs/2012.09238) page 13 Eq. E4 and E5 (Appendix E)\n"
   ]
  },
  {
   "cell_type": "code",
   "execution_count": 10,
   "id": "af2656ca",
   "metadata": {
    "cq.autogen": "HoppingPlaquette.bloq_doc.py"
   },
   "outputs": [],
   "source": [
    "from qualtran.bloqs.chemistry.trotter.hubbard.hopping import HoppingPlaquette"
   ]
  },
  {
   "cell_type": "markdown",
   "id": "26ebc613",
   "metadata": {
    "cq.autogen": "HoppingPlaquette.example_instances.md"
   },
   "source": [
    "### Example Instances"
   ]
  },
  {
   "cell_type": "code",
   "execution_count": 11,
   "id": "a5d88589",
   "metadata": {
    "cq.autogen": "HoppingPlaquette.plaquette"
   },
   "outputs": [],
   "source": [
    "length = 8\n",
    "angle = 0.15\n",
    "plaquette = HoppingPlaquette(length, angle)"
   ]
  },
  {
   "cell_type": "markdown",
   "id": "883c9f58",
   "metadata": {
    "cq.autogen": "HoppingPlaquette.graphical_signature.md"
   },
   "source": [
    "#### Graphical Signature"
   ]
  },
  {
   "cell_type": "code",
   "execution_count": 12,
   "id": "f40ef15c",
   "metadata": {
    "cq.autogen": "HoppingPlaquette.graphical_signature.py"
   },
   "outputs": [
    {
     "data": {
      "application/vnd.jupyter.widget-view+json": {
       "model_id": "c0343e0277fe41a5ab80c839c1311032",
       "version_major": 2,
       "version_minor": 0
      },
      "text/plain": [
       "HBox(children=(Output(outputs=({'output_type': 'display_data', 'data': {'text/plain': '<IPython.core.display.M…"
      ]
     },
     "metadata": {},
     "output_type": "display_data"
    }
   ],
   "source": [
    "from qualtran.drawing import show_bloqs\n",
    "show_bloqs([plaquette],\n",
    "           ['`plaquette`'])"
   ]
  },
  {
   "cell_type": "markdown",
   "id": "a1e4e8cb",
   "metadata": {
    "cq.autogen": "HoppingPlaquette.call_graph.md"
   },
   "source": [
    "### Call Graph"
   ]
  },
  {
   "cell_type": "code",
   "execution_count": 13,
   "id": "fe28b6c9",
   "metadata": {
    "cq.autogen": "HoppingPlaquette.call_graph.py"
   },
   "outputs": [
    {
     "data": {
      "image/svg+xml": [
       "<svg xmlns=\"http://www.w3.org/2000/svg\" xmlns:xlink=\"http://www.w3.org/1999/xlink\" width=\"571pt\" height=\"221pt\" viewBox=\"0.00 0.00 571.00 221.00\">\n",
       "<g id=\"graph0\" class=\"graph\" transform=\"scale(1 1) rotate(0) translate(4 217)\">\n",
       "<title>counts</title>\n",
       "<polygon fill=\"white\" stroke=\"none\" points=\"-4,4 -4,-217 567,-217 567,4 -4,4\"/>\n",
       "<!-- b0 -->\n",
       "<g id=\"node1\" class=\"node\">\n",
       "<title>b0</title>\n",
       "<polygon fill=\"none\" stroke=\"black\" points=\"462,-213 344,-213 344,-177 462,-177 462,-213\"/>\n",
       "<text text-anchor=\"start\" x=\"354.25\" y=\"-194.7\" font-family=\"Times,serif\" font-size=\"14.00\">HoppingPlaquette</text>\n",
       "<text text-anchor=\"start\" x=\"352\" y=\"-184.5\" font-family=\"monospace\" font-size=\"10.00\">kappa=8, eps=0.15</text>\n",
       "</g>\n",
       "<!-- b1 -->\n",
       "<g id=\"node2\" class=\"node\">\n",
       "<title>b1</title>\n",
       "<polygon fill=\"none\" stroke=\"black\" points=\"421,-124.5 189,-124.5 189,-88.5 421,-88.5 421,-124.5\"/>\n",
       "<text text-anchor=\"start\" x=\"269\" y=\"-106.2\" font-family=\"Times,serif\" font-size=\"14.00\">TwoBitFFFT</text>\n",
       "<text text-anchor=\"start\" x=\"197\" y=\"-96\" font-family=\"monospace\" font-size=\"10.00\">k=0, n=1, eps=0.15, is_adjoint=False</text>\n",
       "</g>\n",
       "<!-- b0&#45;&gt;b1 -->\n",
       "<g id=\"edge1\" class=\"edge\">\n",
       "<title>b0-&gt;b1</title>\n",
       "<path fill=\"none\" stroke=\"black\" d=\"M383.64,-176.91C369.1,-164.08 348.99,-146.33 332.75,-131.99\"/>\n",
       "<polygon fill=\"black\" stroke=\"black\" points=\"335.47,-129.84 325.66,-125.85 330.84,-135.09 335.47,-129.84\"/>\n",
       "<text text-anchor=\"middle\" x=\"366.38\" y=\"-145.7\" font-family=\"Times,serif\" font-size=\"14.00\">4</text>\n",
       "</g>\n",
       "<!-- b2 -->\n",
       "<g id=\"node3\" class=\"node\">\n",
       "<title>b2</title>\n",
       "<polygon fill=\"none\" stroke=\"black\" points=\"563,-124.5 439,-124.5 439,-88.5 563,-88.5 563,-124.5\"/>\n",
       "<text text-anchor=\"start\" x=\"493.5\" y=\"-106.2\" font-family=\"Times,serif\" font-size=\"14.00\">Rz</text>\n",
       "<text text-anchor=\"start\" x=\"447\" y=\"-96\" font-family=\"monospace\" font-size=\"10.00\">angle=16, eps=0.15</text>\n",
       "</g>\n",
       "<!-- b0&#45;&gt;b2 -->\n",
       "<g id=\"edge2\" class=\"edge\">\n",
       "<title>b0-&gt;b2</title>\n",
       "<path fill=\"none\" stroke=\"black\" d=\"M422.36,-176.91C436.9,-164.08 457.01,-146.33 473.25,-131.99\"/>\n",
       "<polygon fill=\"black\" stroke=\"black\" points=\"475.16,-135.09 480.34,-125.85 470.53,-129.84 475.16,-135.09\"/>\n",
       "<text text-anchor=\"middle\" x=\"464.38\" y=\"-145.7\" font-family=\"Times,serif\" font-size=\"14.00\">2</text>\n",
       "</g>\n",
       "<!-- b3 -->\n",
       "<g id=\"node4\" class=\"node\">\n",
       "<title>b3</title>\n",
       "<polygon fill=\"none\" stroke=\"black\" points=\"130,-36 0,-36 0,0 130,0 130,-36\"/>\n",
       "<text text-anchor=\"start\" x=\"57.5\" y=\"-17.7\" font-family=\"Times,serif\" font-size=\"14.00\">Rz</text>\n",
       "<text text-anchor=\"start\" x=\"8\" y=\"-7.5\" font-family=\"monospace\" font-size=\"10.00\">angle=0.0, eps=0.15</text>\n",
       "</g>\n",
       "<!-- b1&#45;&gt;b3 -->\n",
       "<g id=\"edge3\" class=\"edge\">\n",
       "<title>b1-&gt;b3</title>\n",
       "<path fill=\"none\" stroke=\"black\" d=\"M256.72,-88.1C218.23,-74.23 164.2,-54.75 123.3,-40.01\"/>\n",
       "<polygon fill=\"black\" stroke=\"black\" points=\"124.8,-36.47 114.2,-36.37 122.42,-43.06 124.8,-36.47\"/>\n",
       "<text text-anchor=\"middle\" x=\"210.38\" y=\"-57.2\" font-family=\"Times,serif\" font-size=\"14.00\">1</text>\n",
       "</g>\n",
       "<!-- b4 -->\n",
       "<g id=\"node5\" class=\"node\">\n",
       "<title>b4</title>\n",
       "<polygon fill=\"none\" stroke=\"black\" points=\"260,-36 148,-36 148,0 260,0 260,-36\"/>\n",
       "<text text-anchor=\"start\" x=\"200.25\" y=\"-17.7\" font-family=\"Times,serif\" font-size=\"14.00\">S</text>\n",
       "<text text-anchor=\"start\" x=\"156\" y=\"-7.5\" font-family=\"monospace\" font-size=\"10.00\">is_adjoint=False</text>\n",
       "</g>\n",
       "<!-- b1&#45;&gt;b4 -->\n",
       "<g id=\"edge4\" class=\"edge\">\n",
       "<title>b1-&gt;b4</title>\n",
       "<path fill=\"none\" stroke=\"black\" d=\"M285.05,-88.41C270.07,-75.58 249.34,-57.83 232.6,-43.49\"/>\n",
       "<polygon fill=\"black\" stroke=\"black\" points=\"235.13,-40.2 225.26,-36.35 230.58,-45.51 235.13,-40.2\"/>\n",
       "<text text-anchor=\"middle\" x=\"267.38\" y=\"-57.2\" font-family=\"Times,serif\" font-size=\"14.00\">3</text>\n",
       "</g>\n",
       "<!-- b5 -->\n",
       "<g id=\"node6\" class=\"node\">\n",
       "<title>b5</title>\n",
       "<polygon fill=\"none\" stroke=\"black\" points=\"332,-36 278,-36 278,0 332,0 332,-36\"/>\n",
       "<text text-anchor=\"start\" x=\"286.62\" y=\"-12.95\" font-family=\"Times,serif\" font-size=\"14.00\">CNOT</text>\n",
       "</g>\n",
       "<!-- b1&#45;&gt;b5 -->\n",
       "<g id=\"edge5\" class=\"edge\">\n",
       "<title>b1-&gt;b5</title>\n",
       "<path fill=\"none\" stroke=\"black\" d=\"M305,-88.41C305,-76.64 305,-60.73 305,-47.11\"/>\n",
       "<polygon fill=\"black\" stroke=\"black\" points=\"308.5,-47.35 305,-37.35 301.5,-47.35 308.5,-47.35\"/>\n",
       "<text text-anchor=\"middle\" x=\"308.38\" y=\"-57.2\" font-family=\"Times,serif\" font-size=\"14.00\">3</text>\n",
       "</g>\n",
       "<!-- b6 -->\n",
       "<g id=\"node7\" class=\"node\">\n",
       "<title>b6</title>\n",
       "<polygon fill=\"none\" stroke=\"black\" points=\"423.5,-36 350.5,-36 350.5,0 423.5,0 423.5,-36\"/>\n",
       "<text text-anchor=\"start\" x=\"358.5\" y=\"-12.95\" font-family=\"Times,serif\" font-size=\"14.00\">Hadamard</text>\n",
       "</g>\n",
       "<!-- b1&#45;&gt;b6 -->\n",
       "<g id=\"edge6\" class=\"edge\">\n",
       "<title>b1-&gt;b6</title>\n",
       "<path fill=\"none\" stroke=\"black\" d=\"M321.2,-88.41C333.14,-75.82 349.57,-58.48 363.03,-44.29\"/>\n",
       "<polygon fill=\"black\" stroke=\"black\" points=\"365.21,-47.02 369.55,-37.35 360.13,-42.2 365.21,-47.02\"/>\n",
       "<text text-anchor=\"middle\" x=\"357.38\" y=\"-57.2\" font-family=\"Times,serif\" font-size=\"14.00\">6</text>\n",
       "</g>\n",
       "<!-- b7 -->\n",
       "<g id=\"node8\" class=\"node\">\n",
       "<title>b7</title>\n",
       "<polygon fill=\"none\" stroke=\"black\" points=\"554,-36 442,-36 442,0 554,0 554,-36\"/>\n",
       "<text text-anchor=\"start\" x=\"493.88\" y=\"-17.7\" font-family=\"Times,serif\" font-size=\"14.00\">T</text>\n",
       "<text text-anchor=\"start\" x=\"450\" y=\"-7.5\" font-family=\"monospace\" font-size=\"10.00\">is_adjoint=False</text>\n",
       "</g>\n",
       "<!-- b1&#45;&gt;b7 -->\n",
       "<g id=\"edge7\" class=\"edge\">\n",
       "<title>b1-&gt;b7</title>\n",
       "<path fill=\"none\" stroke=\"black\" d=\"M343.59,-88.2C374,-74.58 416.58,-55.49 449.32,-40.82\"/>\n",
       "<polygon fill=\"black\" stroke=\"black\" points=\"450.45,-43.7 458.14,-36.41 447.59,-37.31 450.45,-43.7\"/>\n",
       "<text text-anchor=\"middle\" x=\"422.38\" y=\"-57.2\" font-family=\"Times,serif\" font-size=\"14.00\">2</text>\n",
       "</g>\n",
       "</g>\n",
       "</svg>"
      ],
      "text/plain": [
       "<IPython.core.display.SVG object>"
      ]
     },
     "metadata": {},
     "output_type": "display_data"
    },
    {
     "data": {
      "text/markdown": [
       "#### Counts totals:\n",
       " - `CNOT()`: 12\n",
       " - `Hadamard()`: 24\n",
       " - `Rz(0.0π)`: 4\n",
       " - `Rz(5.092958178940651π)`: 2\n",
       " - `SGate(is_adjoint=False)`: 12\n",
       " - `TGate()`: 8"
      ],
      "text/plain": [
       "<IPython.core.display.Markdown object>"
      ]
     },
     "metadata": {},
     "output_type": "display_data"
    }
   ],
   "source": [
    "plaquette_g, plaquette_sigma = plaquette.call_graph()\n",
    "show_call_graph(plaquette_g)\n",
    "show_counts_sigma(plaquette_sigma)"
   ]
  },
  {
   "cell_type": "markdown",
   "id": "a446f1eb",
   "metadata": {
    "cq.autogen": "HoppingTileHWP.bloq_doc.md"
   },
   "source": [
    "## `HoppingTileHWP`\n",
    "Bloq implementing a \"tile\" of the one-body hopping unitary using Hamming weight phasing.\n",
    "\n",
    "Implements the unitary\n",
    "$$\n",
    "e^{i H_h^{x}} = \\prod_{k\\sigma} e^{i t H_h^{x(k,\\sigma)}}\n",
    "$$\n",
    "for a particular choise of of plaquette hamiltonian $H_h^x$, where $x$ = pink or gold.\n",
    "\n",
    "Each plaquette Hamiltonian can be split into $L^2/4$ commuting terms. Each\n",
    "term can be implemented using the 4-qubit HoppingPlaquette above. The\n",
    "HoppingPlaquette bloq contains 2 arbitrary rotations which are flanked by Clifford operations.\n",
    "All of the rotations within a HoppingTile have the same angle so we can use\n",
    "HammingWeightPhaseing to reduce the number of T gates that need to be\n",
    "synthesized. Accounting for spin there are then $2 \\times 2 \\times L^2/4$\n",
    "arbitrary rotations in each Tile, but only  $L^2/2$ of them can be applied\n",
    "at the same time due to the $e^{iXX} e^{iYY}$ circuit not permitting parallel $R_z$ gates.\n",
    "\n",
    "Unlike in the HoppingTile implementation where we can neatly factor\n",
    "everything into sub-bloqs, here we would need to apply any clifford and F\n",
    "gates first in parallel then bulk apply the rotations in parallel using\n",
    "HammingWeightPhasing and then apply another layer of clifford and F gates.\n",
    "\n",
    "#### Parameters\n",
    " - `length`: Lattice side length L.\n",
    " - `angle`: The prefactor scaling the Hopping hamiltonian in the unitary (`t` above). This should contain any relevant prefactors including the time step and any splitting coefficients.\n",
    " - `tau`: The Hopping hamiltonian parameter. Typically the hubbard model is defined relative to $\\tau$ so it's defaulted to 1.\n",
    " - `eps`: The precision of the single qubit rotations.\n",
    " - `pink`: The colour of the plaquette. \n",
    "\n",
    "#### Registers\n",
    " - `system`: The system register of size 2 `length`. \n",
    "\n",
    "#### References\n",
    "[Early fault-tolerant simulations of the Hubbard model](\n",
    "    https://arxiv.org/abs/2012.09238) see Eq. 21 and App E.\n"
   ]
  },
  {
   "cell_type": "code",
   "execution_count": 14,
   "id": "4698cf0c",
   "metadata": {
    "cq.autogen": "HoppingTileHWP.bloq_doc.py"
   },
   "outputs": [],
   "source": [
    "from qualtran.bloqs.chemistry.trotter.hubbard.hopping import HoppingTileHWP"
   ]
  },
  {
   "cell_type": "markdown",
   "id": "6bda80eb",
   "metadata": {
    "cq.autogen": "HoppingTileHWP.example_instances.md"
   },
   "source": [
    "### Example Instances"
   ]
  },
  {
   "cell_type": "code",
   "execution_count": 15,
   "id": "a92526a5",
   "metadata": {
    "cq.autogen": "HoppingTileHWP.hopping_tile_hwp"
   },
   "outputs": [],
   "source": [
    "length = 8\n",
    "angle = 0.15\n",
    "hopping_tile_hwp = HoppingTileHWP(length, angle)"
   ]
  },
  {
   "cell_type": "markdown",
   "id": "a567432e",
   "metadata": {
    "cq.autogen": "HoppingTileHWP.graphical_signature.md"
   },
   "source": [
    "#### Graphical Signature"
   ]
  },
  {
   "cell_type": "code",
   "execution_count": 16,
   "id": "a959321d",
   "metadata": {
    "cq.autogen": "HoppingTileHWP.graphical_signature.py"
   },
   "outputs": [
    {
     "data": {
      "application/vnd.jupyter.widget-view+json": {
       "model_id": "69d3a815062d47338c1a466d5728cac7",
       "version_major": 2,
       "version_minor": 0
      },
      "text/plain": [
       "HBox(children=(Output(outputs=({'output_type': 'display_data', 'data': {'text/plain': '<IPython.core.display.M…"
      ]
     },
     "metadata": {},
     "output_type": "display_data"
    }
   ],
   "source": [
    "from qualtran.drawing import show_bloqs\n",
    "show_bloqs([hopping_tile_hwp],\n",
    "           ['`hopping_tile_hwp`'])"
   ]
  },
  {
   "cell_type": "markdown",
   "id": "2041a63c",
   "metadata": {
    "cq.autogen": "HoppingTileHWP.call_graph.md"
   },
   "source": [
    "### Call Graph"
   ]
  },
  {
   "cell_type": "code",
   "execution_count": 17,
   "id": "ac59902d",
   "metadata": {
    "cq.autogen": "HoppingTileHWP.call_graph.py"
   },
   "outputs": [
    {
     "data": {
      "image/svg+xml": [
       "<svg xmlns=\"http://www.w3.org/2000/svg\" xmlns:xlink=\"http://www.w3.org/1999/xlink\" width=\"750pt\" height=\"398pt\" viewBox=\"0.00 0.00 750.00 398.00\">\n",
       "<g id=\"graph0\" class=\"graph\" transform=\"scale(1 1) rotate(0) translate(4 394)\">\n",
       "<title>counts</title>\n",
       "<polygon fill=\"white\" stroke=\"none\" points=\"-4,4 -4,-394 746,-394 746,4 -4,4\"/>\n",
       "<!-- b0 -->\n",
       "<g id=\"node1\" class=\"node\">\n",
       "<title>b0</title>\n",
       "<polygon fill=\"none\" stroke=\"black\" points=\"486,-390 164,-390 164,-354 486,-354 486,-390\"/>\n",
       "<text text-anchor=\"start\" x=\"275.12\" y=\"-371.7\" font-family=\"Times,serif\" font-size=\"14.00\">HoppingTileHWP</text>\n",
       "<text text-anchor=\"start\" x=\"172\" y=\"-361.5\" font-family=\"monospace\" font-size=\"10.00\">length=8, angle=0.15, tau=1.0, eps=1e-09, pink=True</text>\n",
       "</g>\n",
       "<!-- b1 -->\n",
       "<g id=\"node2\" class=\"node\">\n",
       "<title>b1</title>\n",
       "<polygon fill=\"none\" stroke=\"black\" points=\"441,-301.5 209,-301.5 209,-265.5 441,-265.5 441,-301.5\"/>\n",
       "<text text-anchor=\"start\" x=\"256\" y=\"-283.2\" font-family=\"Times,serif\" font-size=\"14.00\">HammingWeightPhasing</text>\n",
       "<text text-anchor=\"start\" x=\"217\" y=\"-273\" font-family=\"monospace\" font-size=\"10.00\">bitsize=32, exponent=0.15, eps=1e-09</text>\n",
       "</g>\n",
       "<!-- b0&#45;&gt;b1 -->\n",
       "<g id=\"edge1\" class=\"edge\">\n",
       "<title>b0-&gt;b1</title>\n",
       "<path fill=\"none\" stroke=\"black\" d=\"M325,-353.91C325,-342.14 325,-326.23 325,-312.61\"/>\n",
       "<polygon fill=\"black\" stroke=\"black\" points=\"328.5,-312.85 325,-302.85 321.5,-312.85 328.5,-312.85\"/>\n",
       "<text text-anchor=\"middle\" x=\"328.38\" y=\"-322.7\" font-family=\"Times,serif\" font-size=\"14.00\">2</text>\n",
       "</g>\n",
       "<!-- b2 -->\n",
       "<g id=\"node3\" class=\"node\">\n",
       "<title>b2</title>\n",
       "<polygon fill=\"none\" stroke=\"black\" points=\"218,-213 46,-213 46,-177 218,-177 218,-213\"/>\n",
       "<text text-anchor=\"start\" x=\"59.25\" y=\"-194.7\" font-family=\"Times,serif\" font-size=\"14.00\">HammingWeightCompute</text>\n",
       "<text text-anchor=\"start\" x=\"54\" y=\"-184.5\" font-family=\"monospace\" font-size=\"10.00\">bitsize=32, uncompute=True</text>\n",
       "</g>\n",
       "<!-- b1&#45;&gt;b2 -->\n",
       "<g id=\"edge2\" class=\"edge\">\n",
       "<title>b1-&gt;b2</title>\n",
       "<path fill=\"none\" stroke=\"black\" d=\"M286.41,-265.2C256,-251.58 213.42,-232.49 180.68,-217.82\"/>\n",
       "<polygon fill=\"black\" stroke=\"black\" points=\"182.41,-214.31 171.86,-213.41 179.55,-220.7 182.41,-214.31\"/>\n",
       "<text text-anchor=\"middle\" x=\"249.38\" y=\"-234.2\" font-family=\"Times,serif\" font-size=\"14.00\">1</text>\n",
       "</g>\n",
       "<!-- b3 -->\n",
       "<g id=\"node4\" class=\"node\">\n",
       "<title>b3</title>\n",
       "<polygon fill=\"none\" stroke=\"black\" points=\"414,-213 236,-213 236,-177 414,-177 414,-213\"/>\n",
       "<text text-anchor=\"start\" x=\"252.25\" y=\"-194.7\" font-family=\"Times,serif\" font-size=\"14.00\">HammingWeightCompute</text>\n",
       "<text text-anchor=\"start\" x=\"244\" y=\"-184.5\" font-family=\"monospace\" font-size=\"10.00\">bitsize=32, uncompute=False</text>\n",
       "</g>\n",
       "<!-- b1&#45;&gt;b3 -->\n",
       "<g id=\"edge3\" class=\"edge\">\n",
       "<title>b1-&gt;b3</title>\n",
       "<path fill=\"none\" stroke=\"black\" d=\"M325,-265.41C325,-253.64 325,-237.73 325,-224.11\"/>\n",
       "<polygon fill=\"black\" stroke=\"black\" points=\"328.5,-224.35 325,-214.35 321.5,-224.35 328.5,-224.35\"/>\n",
       "<text text-anchor=\"middle\" x=\"328.38\" y=\"-234.2\" font-family=\"Times,serif\" font-size=\"14.00\">1</text>\n",
       "</g>\n",
       "<!-- b4 -->\n",
       "<g id=\"node5\" class=\"node\">\n",
       "<title>b4</title>\n",
       "<polygon fill=\"none\" stroke=\"black\" points=\"742,-213 432,-213 432,-177 742,-177 742,-213\"/>\n",
       "<text text-anchor=\"start\" x=\"558.12\" y=\"-194.7\" font-family=\"Times,serif\" font-size=\"14.00\">ZPowGate</text>\n",
       "<text text-anchor=\"start\" x=\"440\" y=\"-184.5\" font-family=\"monospace\" font-size=\"10.00\">exponent=0.15, global_shift=0.0, eps=1.666666 ...</text>\n",
       "</g>\n",
       "<!-- b1&#45;&gt;b4 -->\n",
       "<g id=\"edge4\" class=\"edge\">\n",
       "<title>b1-&gt;b4</title>\n",
       "<path fill=\"none\" stroke=\"black\" d=\"M377.7,-265.1C419.99,-251.14 479.46,-231.51 524.21,-216.73\"/>\n",
       "<polygon fill=\"black\" stroke=\"black\" points=\"524.98,-219.83 533.38,-213.37 522.79,-213.18 524.98,-219.83\"/>\n",
       "<text text-anchor=\"middle\" x=\"483.38\" y=\"-234.2\" font-family=\"Times,serif\" font-size=\"14.00\">6</text>\n",
       "</g>\n",
       "<!-- b5 -->\n",
       "<g id=\"node6\" class=\"node\">\n",
       "<title>b5</title>\n",
       "<polygon fill=\"none\" stroke=\"black\" points=\"184,-124.5 0,-124.5 0,-88.5 184,-88.5 184,-124.5\"/>\n",
       "<text text-anchor=\"start\" x=\"77\" y=\"-106.2\" font-family=\"Times,serif\" font-size=\"14.00\">And†</text>\n",
       "<text text-anchor=\"start\" x=\"8\" y=\"-96\" font-family=\"monospace\" font-size=\"10.00\">cv1=1, cv2=1, uncompute=True</text>\n",
       "</g>\n",
       "<!-- b2&#45;&gt;b5 -->\n",
       "<g id=\"edge6\" class=\"edge\">\n",
       "<title>b2-&gt;b5</title>\n",
       "<path fill=\"none\" stroke=\"black\" d=\"M124.1,-176.91C118.55,-164.9 111,-148.59 104.62,-134.8\"/>\n",
       "<polygon fill=\"black\" stroke=\"black\" points=\"107.4,-133.46 100.02,-125.85 101.04,-136.4 107.4,-133.46\"/>\n",
       "<text text-anchor=\"middle\" x=\"122.75\" y=\"-145.7\" font-family=\"Times,serif\" font-size=\"14.00\">32</text>\n",
       "</g>\n",
       "<!-- b8 -->\n",
       "<g id=\"node9\" class=\"node\">\n",
       "<title>b8</title>\n",
       "<polygon fill=\"none\" stroke=\"black\" points=\"302.88,-36 193.12,-36 193.12,0 302.88,0 302.88,-36\"/>\n",
       "<text text-anchor=\"start\" x=\"201.12\" y=\"-17.7\" font-family=\"Times,serif\" font-size=\"14.00\">ArbitraryClifford</text>\n",
       "<text text-anchor=\"start\" x=\"239\" y=\"-7.5\" font-family=\"monospace\" font-size=\"10.00\">n=2</text>\n",
       "</g>\n",
       "<!-- b2&#45;&gt;b8 -->\n",
       "<g id=\"edge5\" class=\"edge\">\n",
       "<title>b2-&gt;b8</title>\n",
       "<path fill=\"none\" stroke=\"black\" d=\"M149.31,-176.68C162.27,-163.18 179.94,-143.57 193,-124.5 210.25,-99.31 225.92,-68.04 236.08,-46.1\"/>\n",
       "<polygon fill=\"black\" stroke=\"black\" points=\"239.65,-47.71 240.6,-37.15 233.28,-44.81 239.65,-47.71\"/>\n",
       "<text text-anchor=\"middle\" x=\"225.12\" y=\"-101.45\" font-family=\"Times,serif\" font-size=\"14.00\">160</text>\n",
       "</g>\n",
       "<!-- b6 -->\n",
       "<g id=\"node7\" class=\"node\">\n",
       "<title>b6</title>\n",
       "<polygon fill=\"none\" stroke=\"black\" points=\"504,-124.5 314,-124.5 314,-88.5 504,-88.5 504,-124.5\"/>\n",
       "<text text-anchor=\"start\" x=\"397.38\" y=\"-106.2\" font-family=\"Times,serif\" font-size=\"14.00\">And</text>\n",
       "<text text-anchor=\"start\" x=\"322\" y=\"-96\" font-family=\"monospace\" font-size=\"10.00\">cv1=1, cv2=1, uncompute=False</text>\n",
       "</g>\n",
       "<!-- b3&#45;&gt;b6 -->\n",
       "<g id=\"edge9\" class=\"edge\">\n",
       "<title>b3-&gt;b6</title>\n",
       "<path fill=\"none\" stroke=\"black\" d=\"M341.6,-176.91C353.94,-164.2 370.98,-146.66 384.83,-132.39\"/>\n",
       "<polygon fill=\"black\" stroke=\"black\" points=\"386.7,-135.46 391.15,-125.85 381.67,-130.59 386.7,-135.46\"/>\n",
       "<text text-anchor=\"middle\" x=\"381.75\" y=\"-145.7\" font-family=\"Times,serif\" font-size=\"14.00\">32</text>\n",
       "</g>\n",
       "<!-- b3&#45;&gt;b8 -->\n",
       "<g id=\"edge8\" class=\"edge\">\n",
       "<title>b3-&gt;b8</title>\n",
       "<path fill=\"none\" stroke=\"black\" d=\"M313.79,-176.78C305.14,-163.01 293.24,-143 284.75,-124.5 272.97,-98.83 262.7,-68.23 256.04,-46.61\"/>\n",
       "<polygon fill=\"black\" stroke=\"black\" points=\"259.13,-45.76 252.89,-37.2 252.43,-47.78 259.13,-45.76\"/>\n",
       "<text text-anchor=\"middle\" x=\"295.12\" y=\"-101.45\" font-family=\"Times,serif\" font-size=\"14.00\">160</text>\n",
       "</g>\n",
       "<!-- b5&#45;&gt;b8 -->\n",
       "<g id=\"edge7\" class=\"edge\">\n",
       "<title>b5-&gt;b8</title>\n",
       "<path fill=\"none\" stroke=\"black\" d=\"M123.19,-88.2C147.35,-74.81 181,-56.15 207.28,-41.58\"/>\n",
       "<polygon fill=\"black\" stroke=\"black\" points=\"208.54,-44.33 215.59,-36.41 205.15,-38.2 208.54,-44.33\"/>\n",
       "<text text-anchor=\"middle\" x=\"187.38\" y=\"-57.2\" font-family=\"Times,serif\" font-size=\"14.00\">4</text>\n",
       "</g>\n",
       "<!-- b7 -->\n",
       "<g id=\"node8\" class=\"node\">\n",
       "<title>b7</title>\n",
       "<polygon fill=\"none\" stroke=\"black\" points=\"465,-36 353,-36 353,0 465,0 465,-36\"/>\n",
       "<text text-anchor=\"start\" x=\"404.88\" y=\"-17.7\" font-family=\"Times,serif\" font-size=\"14.00\">T</text>\n",
       "<text text-anchor=\"start\" x=\"361\" y=\"-7.5\" font-family=\"monospace\" font-size=\"10.00\">is_adjoint=False</text>\n",
       "</g>\n",
       "<!-- b6&#45;&gt;b7 -->\n",
       "<g id=\"edge10\" class=\"edge\">\n",
       "<title>b6-&gt;b7</title>\n",
       "<path fill=\"none\" stroke=\"black\" d=\"M409,-88.41C409,-76.64 409,-60.73 409,-47.11\"/>\n",
       "<polygon fill=\"black\" stroke=\"black\" points=\"412.5,-47.35 409,-37.35 405.5,-47.35 412.5,-47.35\"/>\n",
       "<text text-anchor=\"middle\" x=\"412.38\" y=\"-57.2\" font-family=\"Times,serif\" font-size=\"14.00\">4</text>\n",
       "</g>\n",
       "<!-- b6&#45;&gt;b8 -->\n",
       "<g id=\"edge11\" class=\"edge\">\n",
       "<title>b6-&gt;b8</title>\n",
       "<path fill=\"none\" stroke=\"black\" d=\"M376.81,-88.2C351.88,-74.81 317.15,-56.15 290.03,-41.58\"/>\n",
       "<polygon fill=\"black\" stroke=\"black\" points=\"291.88,-38.06 281.41,-36.41 288.57,-44.23 291.88,-38.06\"/>\n",
       "<text text-anchor=\"middle\" x=\"346.38\" y=\"-57.2\" font-family=\"Times,serif\" font-size=\"14.00\">9</text>\n",
       "</g>\n",
       "</g>\n",
       "</svg>"
      ],
      "text/plain": [
       "<IPython.core.display.SVG object>"
      ]
     },
     "metadata": {},
     "output_type": "display_data"
    },
    {
     "data": {
      "text/markdown": [
       "#### Counts totals:\n",
       " - `ArbitraryClifford(n=2)`: 1472\n",
       " - `TGate()`: 256\n",
       " - `Z**0.15`: 12"
      ],
      "text/plain": [
       "<IPython.core.display.Markdown object>"
      ]
     },
     "metadata": {},
     "output_type": "display_data"
    }
   ],
   "source": [
    "hopping_tile_hwp_g, hopping_tile_hwp_sigma = hopping_tile_hwp.call_graph()\n",
    "show_call_graph(hopping_tile_hwp_g)\n",
    "show_counts_sigma(hopping_tile_hwp_sigma)"
   ]
  }
 ],
 "metadata": {
  "kernelspec": {
   "display_name": "Python 3",
   "language": "python",
   "name": "python3"
  },
  "language_info": {
   "codemirror_mode": {
    "name": "ipython",
    "version": 3
   },
   "file_extension": ".py",
   "mimetype": "text/x-python",
   "name": "python",
   "nbconvert_exporter": "python",
   "pygments_lexer": "ipython3",
   "version": "3.10.4"
  }
 },
 "nbformat": 4,
 "nbformat_minor": 5
}
