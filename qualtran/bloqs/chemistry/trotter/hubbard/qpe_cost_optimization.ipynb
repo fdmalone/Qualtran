{
 "cells": [
  {
   "cell_type": "markdown",
   "metadata": {},
   "source": [
    "# Optimizing T Counts Given an Error Budget"
   ]
  },
  {
   "cell_type": "markdown",
   "metadata": {},
   "source": [
    "Quantum algorithms typically only allow us to estimate properties to within some additive error $\\epsilon$. For quantum phase estimation there are at least three sources of error [[1]](https://arxiv.org/abs/1902.10673): Trotter errors ($\\Delta_{TS}$), circuit synthesis errors ($\\Delta_{HT}$), and phase estimation errors ($\\Delta_{PE}$)."
   ]
  },
  {
   "cell_type": "markdown",
   "metadata": {},
   "source": [
    "###  1. Trotter Errors\n",
    "\n",
    "Given a $p$-th order product formula $S_p(t)$ for the unitary implementing $e^{-i t H}$ we have that \n",
    "$$\n",
    "\\Delta_U \\equiv \\lVert S_p(t) - e^{-i t H}\\rVert_{W_\\eta} = \\xi(\\eta, u, \\tau) t^{p+1}\n",
    "$$\n",
    "for some constant $\\xi$ which depends on the parameters of the system. The constant $\\xi$ can be either computed (through direct evaluation and extrapolting from small system sizes) or bounded using complicated commutator expressions.\n",
    "\n",
    "Ref. [[1]](https://arxiv.org/abs/1902.10673) showed that\n",
    "\n",
    "$$\n",
    "\\Delta_{TS} t \\equiv |E - E_{TS}|t \\le \\arctan\\left(\\Delta_U \\frac{\\sqrt{4-\\Delta_U^2}}{2-\\Delta_U^2}\\right) = \\Delta_U + \\frac{\\Delta_U^3}{24} + \\mathcal{O}(\\Delta_U^5),\n",
    "$$\n",
    "so that as long as $\\Delta_U \\gg \\frac{\\Delta_U^3}{24}$ we can estimate \n",
    "\n",
    "$$\n",
    "\\Delta_{TS} = \\Delta_U / t = \\xi(\\eta, u, \\tau) t^{p} \n",
    "$$\n"
   ]
  },
  {
   "cell_type": "markdown",
   "metadata": {},
   "source": [
    "### 2. Circuit Synthesis Errors\n",
    "\n",
    "Circuit synthesis errors account for approximate implementation of arbitrary angle $R_z(\\theta)$ rotations when compiled to  clifford + T gates. A single qubit rotation gate can be synthesized to $\\epsilon_R$ error using\n",
    "$$\n",
    "T_\\mathrm{synth} \\approx 1.15 \\log_2(1/\\epsilon_R) + 9.2\n",
    "$$\n",
    "rotation gates. Assuming these errors add at most linearly to the estimated phase then the cost is\n",
    "\n",
    "$$\n",
    "N_{HT} = 1.15 \\log_2 \\left(\\frac{N_R}{\\Delta_{HT} t}\\right) + 9.2\n",
    "$$\n",
    "T gates per single qubit rotation, where $N_R$ is the number of rotations per Trotter step."
   ]
  },
  {
   "cell_type": "markdown",
   "metadata": {},
   "source": [
    "### 3. QPE Errors\n",
    "\n",
    "Phase estimation errors $\\Delta_{PE}$ arise due to not computing enough bits of the phase. Adaptive phase estimation allows one to reach a RMS error of $\\Delta_{PE} t$ using\n",
    "\n",
    "$$\n",
    "N_{PE} \\approx \\frac{0.76 \\pi}{\\Delta_{PE} t}\n",
    "$$\n",
    "repetitions of the simulation circuit."
   ]
  },
  {
   "cell_type": "markdown",
   "metadata": {},
   "source": [
    "## Optimizing the T counts\n",
    "\n",
    "The total number of T counts can be estimated as "
   ]
  }
 ],
 "metadata": {
  "kernelspec": {
   "display_name": "qualtran",
   "language": "python",
   "name": "python3"
  },
  "language_info": {
   "codemirror_mode": {
    "name": "ipython",
    "version": 3
   },
   "file_extension": ".py",
   "mimetype": "text/x-python",
   "name": "python",
   "nbconvert_exporter": "python",
   "pygments_lexer": "ipython3",
   "version": "3.11.7"
  }
 },
 "nbformat": 4,
 "nbformat_minor": 2
}
