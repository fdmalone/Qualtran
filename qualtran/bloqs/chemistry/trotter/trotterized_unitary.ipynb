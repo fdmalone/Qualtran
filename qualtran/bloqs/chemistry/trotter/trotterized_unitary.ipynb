{
 "cells": [
  {
   "cell_type": "markdown",
   "id": "fe5c11da",
   "metadata": {
    "cq.autogen": "title_cell"
   },
   "source": [
    "# Trotterization\n",
    "\n",
    "Bloq for building Trotterized unitary"
   ]
  },
  {
   "cell_type": "code",
   "execution_count": 1,
   "id": "a6f3ba58",
   "metadata": {
    "cq.autogen": "top_imports"
   },
   "outputs": [],
   "source": [
    "from qualtran import Bloq, CompositeBloq, BloqBuilder, Signature, Register\n",
    "from qualtran.drawing import show_bloq, show_call_graph, show_counts_sigma\n",
    "from typing import *\n",
    "import numpy as np\n",
    "import sympy\n",
    "import cirq"
   ]
  },
  {
   "cell_type": "markdown",
   "id": "bb0b3abe",
   "metadata": {
    "cq.autogen": "TrotterizedUnitary.bloq_doc.md"
   },
   "source": [
    "## `TrotterizedUnitary`\n",
    "Implement arbitrary trotterized unitary given any Trotter splitting of the Hamiltonian."
   ]
  },
  {
   "cell_type": "code",
   "execution_count": 2,
   "id": "029eac8d",
   "metadata": {
    "cq.autogen": "TrotterizedUnitary.bloq_doc.py"
   },
   "outputs": [
    {
     "name": "stderr",
     "output_type": "stream",
     "text": [
      "/usr/local/google/home/fmalone/.venvs/qualtran/lib/python3.11/site-packages/cotengra/hyperoptimizers/hyper.py:34: UserWarning: Couldn't import `kahypar` - skipping from default hyper optimizer and using basic `labels` method instead.\n",
      "  warnings.warn(\n"
     ]
    }
   ],
   "source": [
    "from qualtran.bloqs.for_testing.ising import IsingXUnitary, IsingZZUnitary\n",
    "from qualtran.bloqs.chemistry.trotter.trotterized_unitary import TrotterizedUnitary"
   ]
  },
  {
   "cell_type": "markdown",
   "id": "2851bd90",
   "metadata": {
    "cq.autogen": "TrotterizedUnitary.example_instances.md"
   },
   "source": [
    "### Example Instances"
   ]
  },
  {
   "cell_type": "code",
   "execution_count": 3,
   "id": "bfe817bd",
   "metadata": {
    "cq.autogen": "TrotterizedUnitary.trott_unitary"
   },
   "outputs": [],
   "source": [
    "from qualtran.bloqs.for_testing.ising import IsingXUnitary, IsingZZUnitary\n",
    "\n",
    "nsites = 3\n",
    "j_zz = 2\n",
    "gamma_x = 0.1\n",
    "dt = 0.01\n",
    "indices = (0, 1, 0)\n",
    "coeffs = (0.5 * gamma_x, j_zz, 0.5 * gamma_x)\n",
    "zz_bloq = IsingZZUnitary(nsites=nsites, angle=2 * dt * j_zz)\n",
    "x_bloq = IsingXUnitary(nsites=nsites, angle=0.5 * 2 * dt * gamma_x)\n",
    "trott_unitary = TrotterizedUnitary(\n",
    "    bloqs=(x_bloq, zz_bloq), indices=indices, coeffs=coeffs, timestep=dt\n",
    ")"
   ]
  },
  {
   "cell_type": "code",
   "execution_count": 6,
   "id": "35ab2993",
   "metadata": {},
   "outputs": [
    {
     "data": {
      "image/png": "[encoded data removed]",
      "text/plain": [
       "<Figure size 480x120 with 1 Axes>"
      ]
     },
     "metadata": {},
     "output_type": "display_data"
    }
   ],
   "source": [
    "from qualtran.drawing import show_bloq\n",
    "show_bloq(trott_unitary.decompose_bloq(), 'musical_score')"
   ]
  },
  {
   "cell_type": "markdown",
   "id": "78f0da02",
   "metadata": {
    "cq.autogen": "TrotterizedUnitary.graphical_signature.md"
   },
   "source": [
    "#### Graphical Signature"
   ]
  },
  {
   "cell_type": "markdown",
   "id": "e9952350",
   "metadata": {
    "cq.autogen": "TrotterizedUnitary.call_graph.md"
   },
   "source": [
    "### Call Graph"
   ]
  },
  {
   "cell_type": "code",
   "execution_count": 5,
   "id": "9c9ace1f",
   "metadata": {
    "cq.autogen": "TrotterizedUnitary.call_graph.py"
   },
   "outputs": [
    {
     "data": {
      "image/svg+xml": [
       "<svg xmlns=\"http://www.w3.org/2000/svg\" xmlns:xlink=\"http://www.w3.org/1999/xlink\" width=\"647pt\" height=\"218pt\" viewBox=\"0.00 0.00 646.50 218.00\">\n",
       "<g id=\"graph0\" class=\"graph\" transform=\"scale(1 1) rotate(0) translate(4 214)\">\n",
       "<title>counts</title>\n",
       "<polygon fill=\"white\" stroke=\"transparent\" points=\"-4,4 -4,-214 642.5,-214 642.5,4 -4,4\"/>\n",
       "<!-- b0 -->\n",
       "<g id=\"node1\" class=\"node\">\n",
       "<title>b0</title>\n",
       "<polygon fill=\"none\" stroke=\"black\" points=\"549,-210 94,-210 94,-174 549,-174 549,-210\"/>\n",
       "<text text-anchor=\"start\" x=\"270.5\" y=\"-193.8\" font-family=\"Times,serif\" font-size=\"14.00\">TrotterizedUnitary</text>\n",
       "<text text-anchor=\"start\" x=\"102\" y=\"-183\" font-family=\"monospace\" font-size=\"10.00\">bloqs=(IsingXU ..., indices=(0, 1, 0), coeffs=(0.05, 2 ..., timestep=0.01</text>\n",
       "</g>\n",
       "<!-- b1 -->\n",
       "<g id=\"node2\" class=\"node\">\n",
       "<title>b1</title>\n",
       "<polygon fill=\"none\" stroke=\"black\" points=\"316,-123 119,-123 119,-87 316,-87 316,-123\"/>\n",
       "<text text-anchor=\"start\" x=\"178\" y=\"-106.8\" font-family=\"Times,serif\" font-size=\"14.00\">IsingXUnitary</text>\n",
       "<text text-anchor=\"start\" x=\"127\" y=\"-96\" font-family=\"monospace\" font-size=\"10.00\">nsites=3, angle=0.1, eps=1e-10</text>\n",
       "</g>\n",
       "<!-- b0&#45;&gt;b1 -->\n",
       "<g id=\"edge1\" class=\"edge\">\n",
       "<title>b0-&gt;b1</title>\n",
       "<path fill=\"none\" stroke=\"black\" d=\"M300.45,-173.8C284.95,-161.13 263.67,-143.73 246.54,-129.74\"/>\n",
       "<polygon fill=\"black\" stroke=\"black\" points=\"248.47,-126.79 238.51,-123.18 244.04,-132.21 248.47,-126.79\"/>\n",
       "<text text-anchor=\"middle\" x=\"280\" y=\"-144.8\" font-family=\"Times,serif\" font-size=\"14.00\">2</text>\n",
       "</g>\n",
       "<!-- b2 -->\n",
       "<g id=\"node3\" class=\"node\">\n",
       "<title>b2</title>\n",
       "<polygon fill=\"none\" stroke=\"black\" points=\"519,-123 334,-123 334,-87 519,-87 519,-123\"/>\n",
       "<text text-anchor=\"start\" x=\"384\" y=\"-106.8\" font-family=\"Times,serif\" font-size=\"14.00\">IsingZZUnitary</text>\n",
       "<text text-anchor=\"start\" x=\"342\" y=\"-96\" font-family=\"monospace\" font-size=\"10.00\">nsites=3, angle=4, eps=1e-10</text>\n",
       "</g>\n",
       "<!-- b0&#45;&gt;b2 -->\n",
       "<g id=\"edge2\" class=\"edge\">\n",
       "<title>b0-&gt;b2</title>\n",
       "<path fill=\"none\" stroke=\"black\" d=\"M342.75,-173.8C358.4,-161.13 379.89,-143.73 397.18,-129.74\"/>\n",
       "<polygon fill=\"black\" stroke=\"black\" points=\"399.71,-132.19 405.28,-123.18 395.31,-126.75 399.71,-132.19\"/>\n",
       "<text text-anchor=\"middle\" x=\"384\" y=\"-144.8\" font-family=\"Times,serif\" font-size=\"14.00\">1</text>\n",
       "</g>\n",
       "<!-- b3 -->\n",
       "<g id=\"node4\" class=\"node\">\n",
       "<title>b3</title>\n",
       "<polygon fill=\"none\" stroke=\"black\" points=\"137,-36 0,-36 0,0 137,0 137,-36\"/>\n",
       "<text text-anchor=\"start\" x=\"60.5\" y=\"-19.8\" font-family=\"Times,serif\" font-size=\"14.00\">Rx</text>\n",
       "<text text-anchor=\"start\" x=\"8\" y=\"-9\" font-family=\"monospace\" font-size=\"10.00\">angle=0.1, eps=1e-11</text>\n",
       "</g>\n",
       "<!-- b1&#45;&gt;b3 -->\n",
       "<g id=\"edge5\" class=\"edge\">\n",
       "<title>b1-&gt;b3</title>\n",
       "<path fill=\"none\" stroke=\"black\" d=\"M187.35,-86.8C164.25,-73.62 132.21,-55.34 107.21,-41.08\"/>\n",
       "<polygon fill=\"black\" stroke=\"black\" points=\"108.77,-37.95 98.35,-36.03 105.3,-44.03 108.77,-37.95\"/>\n",
       "<text text-anchor=\"middle\" x=\"156\" y=\"-57.8\" font-family=\"Times,serif\" font-size=\"14.00\">3</text>\n",
       "</g>\n",
       "<!-- b4 -->\n",
       "<g id=\"node5\" class=\"node\">\n",
       "<title>b4</title>\n",
       "<polygon fill=\"none\" stroke=\"black\" points=\"280,-36 155,-36 155,0 280,0 280,-36\"/>\n",
       "<text text-anchor=\"start\" x=\"206\" y=\"-19.8\" font-family=\"Times,serif\" font-size=\"14.00\">Join</text>\n",
       "<text text-anchor=\"start\" x=\"163\" y=\"-9\" font-family=\"monospace\" font-size=\"10.00\">dtype=QAny(bit ...</text>\n",
       "</g>\n",
       "<!-- b1&#45;&gt;b4 -->\n",
       "<g id=\"edge3\" class=\"edge\">\n",
       "<title>b1-&gt;b4</title>\n",
       "<path fill=\"none\" stroke=\"black\" d=\"M217.5,-86.8C217.5,-75.16 217.5,-59.55 217.5,-46.24\"/>\n",
       "<polygon fill=\"black\" stroke=\"black\" points=\"221,-46.18 217.5,-36.18 214,-46.18 221,-46.18\"/>\n",
       "<text text-anchor=\"middle\" x=\"221\" y=\"-57.8\" font-family=\"Times,serif\" font-size=\"14.00\">1</text>\n",
       "</g>\n",
       "<!-- b5 -->\n",
       "<g id=\"node6\" class=\"node\">\n",
       "<title>b5</title>\n",
       "<polygon fill=\"none\" stroke=\"black\" points=\"423,-36 298,-36 298,0 423,0 423,-36\"/>\n",
       "<text text-anchor=\"start\" x=\"347.5\" y=\"-19.8\" font-family=\"Times,serif\" font-size=\"14.00\">Split</text>\n",
       "<text text-anchor=\"start\" x=\"306\" y=\"-9\" font-family=\"monospace\" font-size=\"10.00\">dtype=QAny(bit ...</text>\n",
       "</g>\n",
       "<!-- b1&#45;&gt;b5 -->\n",
       "<g id=\"edge4\" class=\"edge\">\n",
       "<title>b1-&gt;b5</title>\n",
       "<path fill=\"none\" stroke=\"black\" d=\"M239.22,-87C252.72,-76.81 270.66,-63.95 287.5,-54 295.41,-49.33 304.04,-44.76 312.5,-40.55\"/>\n",
       "<polygon fill=\"black\" stroke=\"black\" points=\"314.12,-43.65 321.58,-36.13 311.06,-37.36 314.12,-43.65\"/>\n",
       "<text text-anchor=\"middle\" x=\"291\" y=\"-57.8\" font-family=\"Times,serif\" font-size=\"14.00\">1</text>\n",
       "</g>\n",
       "<!-- b2&#45;&gt;b4 -->\n",
       "<g id=\"edge6\" class=\"edge\">\n",
       "<title>b2-&gt;b4</title>\n",
       "<path fill=\"none\" stroke=\"black\" d=\"M384.46,-86.9C351.22,-73.39 304.68,-54.46 269.18,-40.02\"/>\n",
       "<polygon fill=\"black\" stroke=\"black\" points=\"270.06,-36.6 259.48,-36.07 267.42,-43.08 270.06,-36.6\"/>\n",
       "<text text-anchor=\"middle\" x=\"339\" y=\"-57.8\" font-family=\"Times,serif\" font-size=\"14.00\">1</text>\n",
       "</g>\n",
       "<!-- b2&#45;&gt;b5 -->\n",
       "<g id=\"edge7\" class=\"edge\">\n",
       "<title>b2-&gt;b5</title>\n",
       "<path fill=\"none\" stroke=\"black\" d=\"M413.14,-86.8C403.66,-74.59 390.78,-57.99 380.13,-44.28\"/>\n",
       "<polygon fill=\"black\" stroke=\"black\" points=\"382.73,-41.93 373.84,-36.18 377.2,-46.22 382.73,-41.93\"/>\n",
       "<text text-anchor=\"middle\" x=\"401\" y=\"-57.8\" font-family=\"Times,serif\" font-size=\"14.00\">1</text>\n",
       "</g>\n",
       "<!-- b6 -->\n",
       "<g id=\"node7\" class=\"node\">\n",
       "<title>b6</title>\n",
       "<polygon fill=\"none\" stroke=\"black\" points=\"638.5,-36 584.5,-36 584.5,0 638.5,0 638.5,-36\"/>\n",
       "<text text-anchor=\"start\" x=\"593\" y=\"-14.3\" font-family=\"Times,serif\" font-size=\"14.00\">CNOT</text>\n",
       "</g>\n",
       "<!-- b2&#45;&gt;b6 -->\n",
       "<g id=\"edge8\" class=\"edge\">\n",
       "<title>b2-&gt;b6</title>\n",
       "<path fill=\"none\" stroke=\"black\" d=\"M464.22,-86.95C492.38,-74.18 532.02,-56.14 575.14,-36.14\"/>\n",
       "<polygon fill=\"black\" stroke=\"black\" points=\"576.79,-39.23 584.39,-31.85 573.85,-32.88 576.79,-39.23\"/>\n",
       "<text text-anchor=\"middle\" x=\"538\" y=\"-57.8\" font-family=\"Times,serif\" font-size=\"14.00\">6</text>\n",
       "</g>\n",
       "<!-- b7 -->\n",
       "<g id=\"node8\" class=\"node\">\n",
       "<title>b7</title>\n",
       "<polygon fill=\"none\" stroke=\"black\" points=\"566,-36 441,-36 441,0 566,0 566,-36\"/>\n",
       "<text text-anchor=\"start\" x=\"495.5\" y=\"-19.8\" font-family=\"Times,serif\" font-size=\"14.00\">Rz</text>\n",
       "<text text-anchor=\"start\" x=\"449\" y=\"-9\" font-family=\"monospace\" font-size=\"10.00\">angle=4, eps=1e-10</text>\n",
       "</g>\n",
       "<!-- b2&#45;&gt;b7 -->\n",
       "<g id=\"edge9\" class=\"edge\">\n",
       "<title>b2-&gt;b7</title>\n",
       "<path fill=\"none\" stroke=\"black\" d=\"M442.08,-86.8C453.25,-74.47 468.46,-57.68 480.95,-43.89\"/>\n",
       "<polygon fill=\"black\" stroke=\"black\" points=\"483.82,-45.94 487.94,-36.18 478.63,-41.24 483.82,-45.94\"/>\n",
       "<text text-anchor=\"middle\" x=\"474\" y=\"-57.8\" font-family=\"Times,serif\" font-size=\"14.00\">3</text>\n",
       "</g>\n",
       "</g>\n",
       "</svg>"
      ],
      "text/plain": [
       "<IPython.core.display.SVG object>"
      ]
     },
     "metadata": {},
     "output_type": "display_data"
    },
    {
     "data": {
      "text/markdown": [
       "#### Counts totals:\n",
       " - `CNOT()`: 6\n",
       " - `Join(dtype=QAny(bitsize=3))`: 3\n",
       " - `Rx(0.03183098861837907π)`: 6\n",
       " - `Rz(1.2732395447351628π)`: 3\n",
       " - `Split(dtype=QAny(bitsize=3))`: 3"
      ],
      "text/plain": [
       "<IPython.core.display.Markdown object>"
      ]
     },
     "metadata": {},
     "output_type": "display_data"
    }
   ],
   "source": [
    "trott_unitary_g, trott_unitary_sigma = trott_unitary.call_graph()\n",
    "show_call_graph(trott_unitary_g)\n",
    "show_counts_sigma(trott_unitary_sigma)"
   ]
  }
 ],
 "metadata": {
  "kernelspec": {
   "display_name": "Python 3",
   "language": "python",
   "name": "python3"
  },
  "language_info": {
   "codemirror_mode": {
    "name": "ipython",
    "version": 3
   },
   "file_extension": ".py",
   "mimetype": "text/x-python",
   "name": "python",
   "nbconvert_exporter": "python",
   "pygments_lexer": "ipython3",
   "version": "3.11.7"
  }
 },
 "nbformat": 4,
 "nbformat_minor": 5
}
