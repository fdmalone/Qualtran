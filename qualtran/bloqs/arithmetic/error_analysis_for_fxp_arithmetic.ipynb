{
 "cells": [
  {
   "cell_type": "markdown",
   "id": "6d12f4fc-8129-4c12-a00f-fe52aa4888e5",
   "metadata": {},
   "source": [
    "## Error propagation analysis for Fixed point arithmetic using fxpmath\n",
    "\n",
    "In this notebook, we use library fxpmath to analyze the propagation of errors due to fixed point arithmetic for algorithms described in [Compilation of Fault-Tolerant Quantum Heuristics for Combinatorial Optimization](https://arxiv.org/abs/2007.07391). \n",
    "\n",
    "Qualtran should provide tools to enable such analysis for algorithms that use fixed point arithmetic Bloqs as subroutines. "
   ]
  },
  {
   "cell_type": "code",
   "execution_count": null,
   "id": "92cdfbaa-1e5f-4aac-9fdd-4d4015fd384a",
   "metadata": {},
   "outputs": [],
   "source": [
    "from typing import Optional\n",
    "from fxpmath import Fxp\n",
    "import numpy as np\n",
    "\n",
    "def assert_allclose(x: Fxp, y: float, eps: float):\n",
    "    np.testing.assert_allclose(x.get_val(), y, atol=eps)"
   ]
  },
  {
   "cell_type": "markdown",
   "id": "4eb35940-6df6-46b2-aa93-8d1fdef0fd5f",
   "metadata": {},
   "source": [
    "###  Appendix D4: Multiplying an integer to a real number\n",
    "Goal: Given quantum registers A and B with real number $\\kappa$ ($0 \\leq \\kappa \\lt 1$) and a $d_{B}$-bit integer $\\lambda$, our goal is to compute an approximation $\\widetilde{\\gamma}$ of $\\gamma = \\kappa * \\lambda$ s.t. $|\\widetilde{\\gamma} - \\gamma| < \\epsilon$\n",
    "\n",
    "$$\n",
    "    |\\kappa\\rangle_{A} |\\lambda\\rangle_{B} |0\\rangle_{\\text{out}} \\rightarrow |\\kappa\\rangle_{A} |\\lambda\\rangle_{B} |\\widetilde{\\gamma}\\rangle_{\\text{out}}\n",
    "$$\n",
    "\n",
    "\n",
    "We analyze the error due to fixed point arithmetic for algorithm described in Appendix D4 of https://arxiv.org/abs/2007.07391"
   ]
  },
  {
   "cell_type": "code",
   "execution_count": null,
   "id": "bb61356e-85ae-433e-a766-b9b7fd790a7f",
   "metadata": {},
   "outputs": [],
   "source": [
    "from qualtran import val_to_fxp\n",
    "from qualtran.bloqs.arithmetic.multiplication import ScaleIntByReal\n",
    "# Multiplying a real numbers with an d_B-bit integer.\n",
    "def get_bitsize_for_fxp_mul_with_integer(eps: float, d_B: int):\n",
    "    return d_B + int(np.ceil(np.log2(d_B / eps))) # Equation D7\n",
    "\n",
    "def test_multiplication_with_integer_for_eps(eps: float, d_B: int, d_A: int):\n",
    "    rng = np.random.default_rng(int(eps * d_B * 1e9))\n",
    "    try:\n",
    "        for _ in range(100):\n",
    "            a, = rng.random(1)\n",
    "            b = rng.integers(0, 1 << d_B)\n",
    "            res = ScaleIntByReal(r_bitsize=d_A, i_bitsize=d_B).on_classical_vals(**{'real_in': a, 'int_in': b})\n",
    "            assert_allclose(res['result'], a * b, eps)\n",
    "        print(f'Success! {eps=}, {d_A=}, {d_B=}')\n",
    "    except AssertionError:\n",
    "        print(f'Failed! {eps=}, {d_A=}, {d_B=}')\n",
    "\n",
    "for eps in [1e-3, 1e-4, 1e-5, 1e-6, 1e-7, 1e-9]:\n",
    "    for d_B in [5, 8, 11]:\n",
    "        d_A = get_bitsize_for_fxp_mul_with_integer(eps, d_B)\n",
    "        test_multiplication_with_integer_for_eps(eps, d_B, d_A)"
   ]
  },
  {
   "cell_type": "markdown",
   "id": "33cfaea3-f594-48f8-a846-4fa30bb9774b",
   "metadata": {},
   "source": [
    "###  Appendix D5: Multiplying two different real numbers\n",
    "Goal: Given quantum registers A and B with real numbers $\\kappa$ ($0 \\leq \\kappa \\lt 1$) and $\\lambda$ ($0 \\leq \\lambda \\lt 1$), our goal is to compute an approximation $\\widetilde{\\gamma}$ of $\\gamma = \\kappa * \\lambda$ s.t. $|\\widetilde{\\gamma} - \\gamma| < \\epsilon$\n",
    "\n",
    "$$\n",
    "    |\\kappa\\rangle_{A} |\\lambda\\rangle_{B} |0\\rangle_{\\text{out}} \\rightarrow |\\kappa\\rangle_{A} |\\lambda\\rangle_{B} |\\widetilde{\\gamma}\\rangle_{\\text{out}}\n",
    "$$\n",
    "\n",
    "\n",
    "We analyze the error due to fixed point arithmetic for algorithm described in Appendix D5 of https://arxiv.org/abs/2007.07391"
   ]
  },
  {
   "cell_type": "code",
   "execution_count": null,
   "id": "b89122eb-d6b0-48f6-a3f4-4d3a0824ba7b",
   "metadata": {},
   "outputs": [],
   "source": [
    "# Multiplying two real numbers\n",
    "from qualtran.bloqs.arithmetic.multiplication import MultiplyTwoReals\n",
    "\n",
    "\n",
    "def get_bitsize_for_fxp_mul(eps: float):\n",
    "    return int(np.ceil(1 + np.log2(1/eps)) + np.log2(1 + np.log2(1/eps))) # Equation D17\n",
    "\n",
    "def test_multiplication_for_eps(eps: float, d: int):\n",
    "    rng = np.random.default_rng(int(eps * 1e9))\n",
    "    try:\n",
    "        for _ in range(100):\n",
    "            a, b = rng.random(2)\n",
    "            res = MultiplyTwoReals(bitsize=d).on_classical_vals(**{'a': a, 'b': b})\n",
    "            assert_allclose(res['result'], a * b, eps)\n",
    "        print(f'Success! {d=}, {eps=}')\n",
    "    except AssertionError:\n",
    "        print(f'Failed! {d=}, {eps=}')\n",
    "\n",
    "for eps in [1e-3, 1e-4, 1e-5, 1e-6, 1e-7]:\n",
    "    d = get_bitsize_for_fxp_mul(eps)\n",
    "    test_multiplication_for_eps(eps, d - 1) # Works for d-1 as well, bounds in the paper are probably loose?"
   ]
  },
  {
   "cell_type": "markdown",
   "id": "ab654283-695c-49ce-9d36-61c9a5d377e4",
   "metadata": {},
   "source": [
    "###  Appendix D6: Squaring a real number\n",
    "Goal: Given a quantum register A with a real number $\\kappa$ ($0 \\leq \\kappa \\lt 1$), our goal is to compute an approximation $\\widetilde{\\gamma}$ of $\\gamma = \\kappa^2$ s.t. $|\\widetilde{\\gamma} - \\gamma| < \\epsilon$\n",
    "\n",
    "$$\n",
    "    |\\kappa\\rangle_{A} |0\\rangle_{\\text{out}} \\rightarrow |\\kappa\\rangle_{A} |\\widetilde{\\gamma}\\rangle_{\\text{out}}\n",
    "$$\n",
    "\n",
    "\n",
    "We analyze the error due to fixed point arithmetic for algorithm described in Appendix D6 of https://arxiv.org/abs/2007.07391"
   ]
  },
  {
   "cell_type": "code",
   "execution_count": null,
   "id": "e9a6fa62-8db1-4470-b3af-d81066fc81fa",
   "metadata": {},
   "outputs": [],
   "source": [
    "# Squaring a real number\n",
    "from qualtran.bloqs.arithmetic.multiplication import SquareRealNumber\n",
    "\n",
    "\n",
    "def get_bitsize_for_fxp_square(eps: float):\n",
    "    return int(np.ceil(np.log2(1/eps) + np.log2(11/3 + np.log2(1/eps)))) # Equation D36\n",
    "\n",
    "def test_square_for_eps(eps: float, d: int):\n",
    "    rng = np.random.default_rng(int(eps * 1e9))\n",
    "    try:\n",
    "        for _ in range(100):\n",
    "            a, = rng.random(1)\n",
    "            res = SquareRealNumber(bitsize=d).on_classical_vals(a=a)\n",
    "            assert_allclose(res['result'], a**2, eps)\n",
    "        print(f'Success! {d=}, {eps=}')\n",
    "    except AssertionError:\n",
    "        print(f'Failed! {d=}, {eps=}')\n",
    "\n",
    "\n",
    "for eps in [1e-3, 1e-4, 1e-5, 1e-6, 1e-7]:\n",
    "    d = get_bitsize_for_fxp_square(eps) # Need a +1 to make it work for smaller `eps`. Bound in the paper is too tight?\n",
    "    test_square_for_eps(eps, d)"
   ]
  }
 ],
 "metadata": {
  "kernelspec": {
   "display_name": "Python 3 (ipykernel)",
   "language": "python",
   "name": "python3"
  },
  "language_info": {
   "codemirror_mode": {
    "name": "ipython",
    "version": 3
   },
   "file_extension": ".py",
   "mimetype": "text/x-python",
   "name": "python",
   "nbconvert_exporter": "python",
   "pygments_lexer": "ipython3",
   "version": "3.11.7"
  }
 },
 "nbformat": 4,
 "nbformat_minor": 5
}
