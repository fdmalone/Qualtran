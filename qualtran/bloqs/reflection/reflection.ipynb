{
 "cells": [
  {
   "cell_type": "markdown",
   "id": "5b66689d",
   "metadata": {
    "cq.autogen": "title_cell"
   },
   "source": [
    "# Reflection"
   ]
  },
  {
   "cell_type": "code",
   "execution_count": null,
   "id": "097bc931",
   "metadata": {
    "cq.autogen": "top_imports"
   },
   "outputs": [],
   "source": [
    "from qualtran import Bloq, CompositeBloq, BloqBuilder, Signature, Register\n",
    "from qualtran import QBit, QInt, QUInt, QAny\n",
    "from qualtran.drawing import show_bloq, show_call_graph, show_counts_sigma\n",
    "from typing import *\n",
    "import numpy as np\n",
    "import sympy\n",
    "import cirq"
   ]
  },
  {
   "cell_type": "markdown",
   "id": "b35713c8",
   "metadata": {
    "cq.autogen": "Reflection.bloq_doc.md"
   },
   "source": [
    "## `Reflection`\n",
    "Perform a reflection about zero: $2|0\\rangle\\langle 0| - 1$\n",
    "\n",
    "This is implemented as a large multi-controlled Z operation. It's convenient\n",
    "for drawing diagrams to hide the decompostion into MultiControlPauli.\n",
    "\n",
    "#### Parameters\n",
    " - `bitsizes`: The bitsizes of each of the registers to reflect about.\n",
    " - `cvs`: The control values for each register.\n"
   ]
  },
  {
   "cell_type": "code",
   "execution_count": null,
   "id": "6c2dc000",
   "metadata": {
    "cq.autogen": "Reflection.bloq_doc.py"
   },
   "outputs": [],
   "source": [
    "from qualtran.bloqs.reflection.reflection_about_zero import Reflection"
   ]
  },
  {
   "cell_type": "markdown",
   "id": "979faf97",
   "metadata": {
    "cq.autogen": "Reflection.example_instances.md"
   },
   "source": [
    "### Example Instances"
   ]
  },
  {
   "cell_type": "code",
   "execution_count": null,
   "id": "41963632",
   "metadata": {
    "cq.autogen": "Reflection.reflection"
   },
   "outputs": [],
   "source": [
    "reflection = Reflection(bitsizes=(2, 3, 1), cvs=(0, 1, 1))"
   ]
  },
  {
   "cell_type": "markdown",
   "id": "9e6ebfed",
   "metadata": {
    "cq.autogen": "Reflection.graphical_signature.md"
   },
   "source": [
    "#### Graphical Signature"
   ]
  },
  {
   "cell_type": "code",
   "execution_count": null,
   "id": "4520fcde",
   "metadata": {
    "cq.autogen": "Reflection.graphical_signature.py"
   },
   "outputs": [],
   "source": [
    "from qualtran.drawing import show_bloqs\n",
    "show_bloqs([reflection],\n",
    "           ['`reflection`'])"
   ]
  },
  {
   "cell_type": "markdown",
   "id": "5d55f206",
   "metadata": {
    "cq.autogen": "Reflection.call_graph.md"
   },
   "source": [
    "### Call Graph"
   ]
  },
  {
   "cell_type": "code",
   "execution_count": null,
   "id": "8354a455",
   "metadata": {
    "cq.autogen": "Reflection.call_graph.py"
   },
   "outputs": [],
   "source": [
    "from qualtran.resource_counting.generalizers import ignore_split_join\n",
    "reflection_g, reflection_sigma = reflection.call_graph(max_depth=1, generalizer=ignore_split_join)\n",
    "show_call_graph(reflection_g)\n",
    "show_counts_sigma(reflection_sigma)"
   ]
  },
  {
   "cell_type": "markdown",
   "id": "df6e2e87",
   "metadata": {
    "cq.autogen": "ReflectionUsingPrepare.bloq_doc.md"
   },
   "source": [
    "## `ReflectionUsingPrepare`\n",
    "Applies reflection around a state prepared by `prepare_gate`\n",
    "\n",
    "Applies $R_{s, g=1} = g (I - 2|s\\rangle\\langle s|)$ using $R_{s} =\n",
    "P(I - 2|0\\rangle\\langle0|)P^{\\dagger}$ s.t. $P|0\\rangle = |s\\rangle$.\n",
    "\n",
    "Here:\n",
    "- $|s\\rangle$: The state along which we want to reflect.\n",
    "- $P$: Unitary that prepares that state $|s\\rangle $ from the zero state $|0\\rangle$\n",
    "- $R_{s}$: Reflection operator that adds a `-1` phase to all states in the subspace\n",
    "    spanned by $|s\\rangle$.\n",
    "- $g$: The global phase to control the behavior of the reflection. For example:\n",
    "    We often use $g=-1$ in literature to denote the reflection operator as\n",
    "    $R_{s} = -1 (I - 2|s\\rangle\\langle s|) = 2|s\\rangle\\langle s| - I$\n",
    "\n",
    "The composite gate corresponds to implementing the following circuit:\n",
    "\n",
    "```\n",
    "|control> ------------------ Z -------------------\n",
    "                             |\n",
    "|L>       ---- PREPARE^† --- o --- PREPARE -------\n",
    "```\n",
    "\n",
    "\n",
    "#### Parameters\n",
    " - `prepare_gate`: An implementation of `PREPARE` for state preparation.\n",
    " - `control_val`: If 0/1, a controlled version of the reflection operator is constructed. Defaults to None, in which case the resulting reflection operator is not controlled.\n",
    " - `global_phase`: The global phase to apply in front of the reflection operator. When building a controlled reflection operator, the global phase translates into a relative phase. \n",
    "\n",
    "#### References\n",
    " - [Encoding Electronic Spectra in Quantum Circuits with Linear T Complexity](https://arxiv.org/abs/1805.03662).     Babbush et. al. (2018). Figure 1.\n"
   ]
  },
  {
   "cell_type": "code",
   "execution_count": null,
   "id": "ef8bdd35",
   "metadata": {
    "cq.autogen": "ReflectionUsingPrepare.bloq_doc.py"
   },
   "outputs": [],
   "source": [
    "from qualtran.bloqs.reflection.reflection_using_prepare import ReflectionUsingPrepare"
   ]
  },
  {
   "cell_type": "markdown",
   "id": "d8d019af",
   "metadata": {
    "cq.autogen": "ReflectionUsingPrepare.example_instances.md"
   },
   "source": [
    "### Example Instances"
   ]
  },
  {
   "cell_type": "code",
   "execution_count": null,
   "id": "7adaf15b",
   "metadata": {
    "cq.autogen": "ReflectionUsingPrepare.refl_using_prep"
   },
   "outputs": [],
   "source": [
    "from qualtran.bloqs.state_preparation import StatePreparationAliasSampling\n",
    "\n",
    "data = [1] * 5\n",
    "eps = 1e-2\n",
    "prepare_gate = StatePreparationAliasSampling.from_lcu_probs(data, probability_epsilon=eps)\n",
    "\n",
    "refl_using_prep = ReflectionUsingPrepare(prepare_gate)"
   ]
  },
  {
   "cell_type": "markdown",
   "id": "dcaa65dd",
   "metadata": {
    "cq.autogen": "ReflectionUsingPrepare.graphical_signature.md"
   },
   "source": [
    "#### Graphical Signature"
   ]
  },
  {
   "cell_type": "code",
   "execution_count": null,
   "id": "a27b2ebf",
   "metadata": {
    "cq.autogen": "ReflectionUsingPrepare.graphical_signature.py"
   },
   "outputs": [],
   "source": [
    "from qualtran.drawing import show_bloqs\n",
    "show_bloqs([refl_using_prep, refl_using_identity],\n",
    "           ['`refl_using_prep`', '`refl_using_identity`'])"
   ]
  },
  {
   "cell_type": "markdown",
   "id": "367b1f48",
   "metadata": {
    "cq.autogen": "ReflectionUsingPrepare.call_graph.md"
   },
   "source": [
    "### Call Graph"
   ]
  },
  {
   "cell_type": "code",
   "execution_count": null,
   "id": "41821f53",
   "metadata": {
    "cq.autogen": "ReflectionUsingPrepare.call_graph.py"
   },
   "outputs": [],
   "source": [
    "from qualtran.resource_counting.generalizers import ignore_split_join\n",
    "refl_using_prep_g, refl_using_prep_sigma = refl_using_prep.call_graph(max_depth=1, generalizer=ignore_split_join)\n",
    "show_call_graph(refl_using_prep_g)\n",
    "show_counts_sigma(refl_using_prep_sigma)"
   ]
  },
  {
   "cell_type": "code",
   "execution_count": null,
   "id": "4dc5755b",
   "metadata": {
    "cq.autogen": "ReflectionUsingPrepare.refl_using_identity"
   },
   "outputs": [],
   "source": [
    "prepare_gate = PrepareIdentity(bitsizes=(1,))\n",
    "refl_using_prep = ReflectionUsingPrepare(prepare_gate)"
   ]
  }
 ],
 "metadata": {
  "kernelspec": {
   "display_name": "Python 3 (ipykernel)",
   "language": "python",
   "name": "python3"
  },
  "language_info": {
   "codemirror_mode": {
    "name": "ipython",
    "version": 3
   },
   "file_extension": ".py",
   "mimetype": "text/x-python",
   "name": "python",
   "nbconvert_exporter": "python",
   "pygments_lexer": "ipython3",
   "version": "3.11.8"
  }
 },
 "nbformat": 4,
 "nbformat_minor": 5
}
