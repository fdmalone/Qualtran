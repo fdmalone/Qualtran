{
 "cells": [
  {
   "cell_type": "markdown",
   "id": "1727f1e0",
   "metadata": {
    "cq.autogen": "title_cell"
   },
   "source": [
    "# F Gate"
   ]
  },
  {
   "cell_type": "code",
   "execution_count": null,
   "id": "71af9e79",
   "metadata": {
    "cq.autogen": "top_imports"
   },
   "outputs": [],
   "source": [
    "from qualtran import Bloq, CompositeBloq, BloqBuilder, Signature, Register\n",
    "from qualtran.drawing import show_bloq, show_call_graph, show_counts_sigma\n",
    "from typing import *\n",
    "import numpy as np\n",
    "import sympy\n",
    "import cirq"
   ]
  },
  {
   "cell_type": "markdown",
   "id": "9ad8ece8",
   "metadata": {
    "cq.autogen": "FGate.bloq_doc.md"
   },
   "source": [
    "## `FGate`\n",
    "Two-qubit fermionic Fourier transform gate.\n",
    "\n",
    "#### Parameters\n",
    " - `k`: An integer.\n",
    " - `n`: The number of qubits the FFFT acts on.\n",
    " - `eps`: The rotation precision.\n",
    " - `is_adjoint`: If True, this bloq is $F^\\dagger$ instead. \n",
    "\n",
    "#### References\n",
    "[Improved Fault-Tolerant Quantum Simulation of Condensed-Phase Correlated Electrons\n",
    "    via Trotterization](https://arxiv.org/abs/1902.10673). Eq 32 and Figure 8.\n"
   ]
  },
  {
   "cell_type": "code",
   "execution_count": null,
   "id": "f5bc4852",
   "metadata": {
    "cq.autogen": "FGate.bloq_doc.py"
   },
   "outputs": [],
   "source": [
    "from qualtran.bloqs.basic_gates import FGate"
   ]
  },
  {
   "cell_type": "markdown",
   "id": "c7ec6c9c",
   "metadata": {
    "cq.autogen": "FGate.example_instances.md"
   },
   "source": [
    "### Example Instances"
   ]
  },
  {
   "cell_type": "code",
   "execution_count": null,
   "id": "3295c49b",
   "metadata": {
    "cq.autogen": "FGate.f_gate"
   },
   "outputs": [],
   "source": [
    "f_gate = FGate(2, 3)"
   ]
  },
  {
   "cell_type": "markdown",
   "id": "a76d87b0",
   "metadata": {
    "cq.autogen": "FGate.graphical_signature.md"
   },
   "source": [
    "#### Graphical Signature"
   ]
  },
  {
   "cell_type": "code",
   "execution_count": null,
   "id": "557d631a",
   "metadata": {
    "cq.autogen": "FGate.graphical_signature.py"
   },
   "outputs": [],
   "source": [
    "from qualtran.drawing import show_bloqs\n",
    "show_bloqs([f_gate],\n",
    "           ['`f_gate`'])"
   ]
  },
  {
   "cell_type": "markdown",
   "id": "70cc1d89",
   "metadata": {
    "cq.autogen": "FGate.call_graph.md"
   },
   "source": [
    "### Call Graph"
   ]
  },
  {
   "cell_type": "code",
   "execution_count": null,
   "id": "f2e61ffe",
   "metadata": {
    "cq.autogen": "FGate.call_graph.py"
   },
   "outputs": [],
   "source": [
    "f_gate_g, f_gate_sigma = f_gate.call_graph()\n",
    "show_call_graph(f_gate_g)\n",
    "show_counts_sigma(f_gate_sigma)"
   ]
  }
 ],
 "metadata": {
  "kernelspec": {
   "display_name": "Python 3",
   "language": "python",
   "name": "python3"
  },
  "language_info": {
   "codemirror_mode": {
    "name": "ipython",
    "version": 3
   },
   "file_extension": ".py",
   "mimetype": "text/x-python",
   "name": "python",
   "nbconvert_exporter": "python",
   "pygments_lexer": "ipython3",
   "version": "3.11.7"
  }
 },
 "nbformat": 4,
 "nbformat_minor": 5
}
