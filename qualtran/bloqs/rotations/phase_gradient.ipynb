{
 "cells": [
  {
   "cell_type": "markdown",
   "id": "d10c9f4f",
   "metadata": {
    "cq.autogen": "title_cell"
   },
   "source": [
    "# Phase Gradient"
   ]
  },
  {
   "cell_type": "code",
   "execution_count": null,
   "id": "ca068957",
   "metadata": {
    "cq.autogen": "top_imports"
   },
   "outputs": [],
   "source": [
    "from qualtran import Bloq, CompositeBloq, BloqBuilder, Signature, Register\n",
    "from qualtran import QBit, QInt, QUInt, QAny\n",
    "from qualtran.drawing import show_bloq, show_call_graph, show_counts_sigma\n",
    "from typing import *\n",
    "import numpy as np\n",
    "import sympy\n",
    "import cirq"
   ]
  },
  {
   "cell_type": "markdown",
   "id": "48828f70",
   "metadata": {
    "cq.autogen": "AddIntoPhaseGrad.bloq_doc.md"
   },
   "source": [
    "## `AddIntoPhaseGrad`\n",
    "Quantum-quantum addition into a phase gradient register using $b_{phase} - 2$ Toffolis\n",
    "\n",
    "$$\n",
    "    U|x\\rangle|\\text{phase\\_grad}\\rangle = |x\\rangle|\\text{phase\\_grad} + x\\rangle\n",
    "$$\n",
    "\n",
    "#### Parameters\n",
    " - `x_bitsize`: Size of input register.\n",
    " - `phase_bitsize`: Size of phase gradient register to which the input value should be added.\n",
    " - `right_shift`: An integer specifying the amount by which the input register x should be right shifted before adding to the phase gradient register.\n",
    " - `sign`: Whether the input register x should be  added or subtracted from the phase gradient register.\n",
    " - `controlled`: Whether to control this bloq with a ctrl register. When controlled=None, this bloq is not controlled. When controlled=0, this bloq is active when the ctrl register is 0. When controlled=1, this bloq is active when the ctrl register is 1. \n",
    "\n",
    "#### Registers\n",
    " - `- ctrl`: Control THRU register\n",
    " - `- x`: Input THRU register storing input value x to be added to the phase gradient register.\n",
    " - `- phase_grad`: Phase gradient THRU register. \n",
    "\n",
    "#### References\n",
    " - [Compilation of Fault-Tolerant Quantum Heuristics for Combinatorial Optimization](https://arxiv.org/abs/2007.07391). Appendix A: Addition for controlled rotations\n"
   ]
  },
  {
   "cell_type": "code",
   "execution_count": null,
   "id": "ef74f3d5",
   "metadata": {
    "cq.autogen": "AddIntoPhaseGrad.bloq_doc.py"
   },
   "outputs": [],
   "source": [
    "from qualtran.bloqs.rotations import AddIntoPhaseGrad"
   ]
  },
  {
   "cell_type": "markdown",
   "id": "61ddfd3e",
   "metadata": {
    "cq.autogen": "AddIntoPhaseGrad.example_instances.md"
   },
   "source": [
    "### Example Instances"
   ]
  },
  {
   "cell_type": "code",
   "execution_count": null,
   "id": "1a07f31e",
   "metadata": {
    "cq.autogen": "AddIntoPhaseGrad.add_into_phase_grad"
   },
   "outputs": [],
   "source": [
    "add_into_phase_grad = AddScaledValIntoPhaseReg.from_bitsize(4, 7, 0.123, 6)"
   ]
  },
  {
   "cell_type": "markdown",
   "id": "67fba902",
   "metadata": {
    "cq.autogen": "AddIntoPhaseGrad.graphical_signature.md"
   },
   "source": [
    "#### Graphical Signature"
   ]
  },
  {
   "cell_type": "code",
   "execution_count": null,
   "id": "da161e00",
   "metadata": {
    "cq.autogen": "AddIntoPhaseGrad.graphical_signature.py"
   },
   "outputs": [],
   "source": [
    "from qualtran.drawing import show_bloqs\n",
    "show_bloqs([add_into_phase_grad],\n",
    "           ['`add_into_phase_grad`'])"
   ]
  },
  {
   "cell_type": "markdown",
   "id": "75c72ade",
   "metadata": {
    "cq.autogen": "AddIntoPhaseGrad.call_graph.md"
   },
   "source": [
    "### Call Graph"
   ]
  },
  {
   "cell_type": "code",
   "execution_count": null,
   "id": "d4274f22",
   "metadata": {
    "cq.autogen": "AddIntoPhaseGrad.call_graph.py"
   },
   "outputs": [],
   "source": [
    "from qualtran.resource_counting.generalizers import ignore_split_join\n",
    "add_into_phase_grad_g, add_into_phase_grad_sigma = add_into_phase_grad.call_graph(max_depth=1, generalizer=ignore_split_join)\n",
    "show_call_graph(add_into_phase_grad_g)\n",
    "show_counts_sigma(add_into_phase_grad_sigma)"
   ]
  }
 ],
 "metadata": {
  "kernelspec": {
   "display_name": "Python 3",
   "language": "python",
   "name": "python3"
  },
  "language_info": {
   "name": "python"
  }
 },
 "nbformat": 4,
 "nbformat_minor": 5
}
