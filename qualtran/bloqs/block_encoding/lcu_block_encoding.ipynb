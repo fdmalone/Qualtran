{
 "cells": [
  {
   "cell_type": "markdown",
   "id": "b9dda3c5",
   "metadata": {
    "cq.autogen": "title_cell"
   },
   "source": [
    "# LCU Select/Prepare Oracles"
   ]
  },
  {
   "cell_type": "code",
   "execution_count": null,
   "id": "47250c3a",
   "metadata": {
    "cq.autogen": "top_imports"
   },
   "outputs": [],
   "source": [
    "from qualtran import Bloq, CompositeBloq, BloqBuilder, Signature, Register\n",
    "from qualtran import QBit, QInt, QUInt, QAny\n",
    "from qualtran.drawing import show_bloq, show_call_graph, show_counts_sigma\n",
    "from typing import *\n",
    "import numpy as np\n",
    "import sympy\n",
    "import cirq"
   ]
  },
  {
   "cell_type": "markdown",
   "id": "2e0e46ff",
   "metadata": {
    "cq.autogen": "SelectBlockEncoding.bloq_doc.md"
   },
   "source": [
    "## `SelectBlockEncoding`\n",
    "LCU based block encoding using SELECT and PREPARE oracles.\n",
    "\n",
    "Builds the block encoding via\n",
    "$$\n",
    "    B[H] = \\mathrm{SELECT}\n",
    "$$\n",
    "\n",
    "$$\n",
    "    \\mathrm{SELECT} |l\\rangle_a|\\psi\\rangle_s = |l\\rangle_a U_l |\\psi\\rangle_s.\n",
    "$$\n",
    "\n",
    "The Hamiltonian can be extracted via\n",
    "\n",
    "$$\n",
    "    \\langle G | B[H] | G \\rangle = H / \\alpha\n",
    "$$\n",
    "\n",
    "where\n",
    "\n",
    "$$\n",
    "    |G\\rangle = \\mathrm{PREPARE} |0\\rangle_a = \\sum_l \\sqrt{\\frac{w_l}{\\alpha}} |l\\rangle_a,\n",
    "$$\n",
    "\n",
    "The ancilla register is at least of size $\\log L$.\n",
    "\n",
    "In our implementations we typically split the ancilla registers into\n",
    "selection registers (i.e.  the $l$ registers above) and junk registers which\n",
    "are extra qubits needed by state preparation but not controlled upon during\n",
    "SELECT.\n",
    "\n",
    "#### Parameters\n",
    " - `select`: The bloq implementing the `SelectOracle` interface.\n",
    " - `prepare`: The bloq implementing the `PrepareOracle` interface. \n",
    "\n",
    "#### Registers\n",
    " - `selection`: The combined selection register.\n",
    " - `junk`: Additional junk registers not prepared upon.\n",
    " - `system`: The combined system register. \n",
    "\n",
    "#### References\n",
    " - [Hamiltonian Simulation by Qubitization](https://quantum-journal.org/papers/q-2019-07-12-163/).     Low et al. 2019. Sec 3.1, page 7 and 8 for high level overview and definitions. A     block encoding is called a standard form encoding there.\n",
    " - [The power of block-encoded matrix powers: improved regression techniques via faster Hamiltonian simulation](https://arxiv.org/abs/1804.01973).     Chakraborty et al. 2018. Definition 3 page 8.\n"
   ]
  },
  {
   "cell_type": "code",
   "execution_count": null,
   "id": "0726726b",
   "metadata": {
    "cq.autogen": "SelectBlockEncoding.bloq_doc.py"
   },
   "outputs": [],
   "source": [
    "from qualtran.bloqs.block_encoding import SelectBlockEncoding"
   ]
  },
  {
   "cell_type": "markdown",
   "id": "3ba56497",
   "metadata": {
    "cq.autogen": "SelectBlockEncoding.example_instances.md"
   },
   "source": [
    "### Example Instances"
   ]
  },
  {
   "cell_type": "code",
   "execution_count": null,
   "id": "84789a6e",
   "metadata": {
    "cq.autogen": "SelectBlockEncoding.lcu_block"
   },
   "outputs": [],
   "source": [
    "from qualtran.bloqs.chemistry.hubbard_model.qubitization import PrepareHubbard, SelectHubbard\n",
    "\n",
    "# 3x3 hubbard model U/t = 4\n",
    "dim = 3\n",
    "select = SelectHubbard(x_dim=dim, y_dim=dim)\n",
    "U = 4\n",
    "t = 1\n",
    "prepare = PrepareHubbard(x_dim=dim, y_dim=dim, t=t, u=U)\n",
    "lcu_block = SelectBlockEncoding(select=select, prepare=prepare)"
   ]
  },
  {
   "cell_type": "code",
   "execution_count": null,
   "id": "a2314c6e",
   "metadata": {
    "cq.autogen": "SelectBlockEncoding.black_box_lcu_block"
   },
   "outputs": [],
   "source": [
    "from qualtran.bloqs.chemistry.hubbard_model.qubitization import PrepareHubbard, SelectHubbard\n",
    "from qualtran.bloqs.multiplexers.black_box_select import BlackBoxSelect\n",
    "from qualtran.bloqs.state_preparation.black_box_prepare import BlackBoxPrepare\n",
    "\n",
    "# 3x3 hubbard model U/t = 4\n",
    "dim = 3\n",
    "select = SelectHubbard(x_dim=dim, y_dim=dim)\n",
    "U = 4\n",
    "t = 1\n",
    "prepare = PrepareHubbard(x_dim=dim, y_dim=dim, t=t, u=U)\n",
    "black_box_lcu_block = SelectBlockEncoding(\n",
    "    select=BlackBoxSelect(select), prepare=BlackBoxPrepare(prepare)\n",
    ")"
   ]
  },
  {
   "cell_type": "markdown",
   "id": "460b5854",
   "metadata": {
    "cq.autogen": "SelectBlockEncoding.graphical_signature.md"
   },
   "source": [
    "#### Graphical Signature"
   ]
  },
  {
   "cell_type": "code",
   "execution_count": null,
   "id": "c0ddb49c",
   "metadata": {
    "cq.autogen": "SelectBlockEncoding.graphical_signature.py"
   },
   "outputs": [],
   "source": [
    "from qualtran.drawing import show_bloqs\n",
    "show_bloqs([select_block, black_box_select_block],\n",
    "           ['`select_block`', '`black_box_select_block`'])"
   ]
  },
  {
   "cell_type": "markdown",
   "id": "2eddc96a",
   "metadata": {
    "cq.autogen": "SelectBlockEncoding.call_graph.md"
   },
   "source": [
    "### Call Graph"
   ]
  },
  {
   "cell_type": "code",
   "execution_count": null,
   "id": "9bef5db8",
   "metadata": {
    "cq.autogen": "SelectBlockEncoding.call_graph.py"
   },
   "outputs": [],
   "source": [
    "from qualtran.resource_counting.generalizers import ignore_split_join\n",
    "select_block_g, select_block_sigma = select_block.call_graph(max_depth=1, generalizer=ignore_split_join)\n",
    "show_call_graph(select_block_g)\n",
    "show_counts_sigma(select_block_sigma)"
   ]
  },
  {
   "cell_type": "markdown",
   "id": "1436524f",
   "metadata": {
    "cq.autogen": "LCUBlockEncoding.bloq_doc.md"
   },
   "source": [
    "## `LCUBlockEncoding`\n",
    "LCU based block encoding using SELECT and PREPARE oracles.\n",
    "\n",
    "Builds the standard block encoding from an LCU as\n",
    "$$\n",
    "    B[H] = \\mathrm{PREPARE}^\\dagger \\cdot \\mathrm{SELECT} \\cdot \\mathrm{PREPARE},\n",
    "$$\n",
    "where\n",
    "$$\n",
    "    \\mathrm{PREPARE} |0\\rangle_a = \\sum_l \\sqrt{\\frac{w_l}{\\alpha}} |l\\rangle_a,\n",
    "$$\n",
    "and\n",
    "$$\n",
    "    \\mathrm{SELECT} |l\\rangle_a|\\psi\\rangle_s = |l\\rangle_a U_l |\\psi\\rangle_s.\n",
    "$$\n",
    "\n",
    "The Hamiltonian can be extracted via\n",
    "$$\n",
    "    \\langle G | B[H] | G \\rangle = H / \\alpha,\n",
    "$$\n",
    "where $|G\\rangle_a = I_a |0\\rangle_a$. This differs from the `SelectBlockEncoding` which uses\n",
    "Prepare for the signal state.\n",
    "\n",
    "The ancilla register is at least of size $\\log L$.\n",
    "\n",
    "In our implementations we typically split the ancilla registers into\n",
    "selection registers (i.e.  the $l$ registers above) and junk registers which\n",
    "are extra qubits needed by state preparation but not controlled upon during\n",
    "SELECT.\n",
    "\n",
    "#### Parameters\n",
    " - `select`: The bloq implementing the `SelectOracle` interface.\n",
    " - `prepare`: The bloq implementing the `PrepareOracle` interface. \n",
    "\n",
    "#### Registers\n",
    " - `selection`: The combined selection register.\n",
    " - `junk`: Additional junk registers not prepared upon.\n",
    " - `system`: The combined system register. \n",
    "\n",
    "#### References\n",
    " - [Hamiltonian Simulation by Qubitization](https://quantum-journal.org/papers/q-2019-07-12-163/).     Low et al. 2019. Sec 3.1, page 7 and 8 for high level overview and definitions. A     block encoding is called a standard form encoding there.\n",
    " - [The power of block-encoded matrix powers: improved regression techniques via faster Hamiltonian simulation](https://arxiv.org/abs/1804.01973).     Chakraborty et al. 2018. Definition 3 page 8.\n"
   ]
  },
  {
   "cell_type": "code",
   "execution_count": null,
   "id": "4440c50e",
   "metadata": {
    "cq.autogen": "LCUBlockEncoding.bloq_doc.py"
   },
   "outputs": [],
   "source": [
    "from qualtran.bloqs.block_encoding import LCUBlockEncoding"
   ]
  },
  {
   "cell_type": "markdown",
   "id": "6fc6a0d7",
   "metadata": {
    "cq.autogen": "LCUBlockEncoding.example_instances.md"
   },
   "source": [
    "### Example Instances"
   ]
  },
  {
   "cell_type": "code",
   "execution_count": null,
   "id": "612643ed",
   "metadata": {
    "cq.autogen": "LCUBlockEncoding.lcu_zero_state_block"
   },
   "outputs": [],
   "source": [
    "from qualtran.bloqs.chemistry.hubbard_model.qubitization import PrepareHubbard, SelectHubbard\n",
    "\n",
    "# 3x3 hubbard model U/t = 4\n",
    "dim = 3\n",
    "select = SelectHubbard(x_dim=dim, y_dim=dim)\n",
    "U = 4\n",
    "t = 1\n",
    "prepare = PrepareHubbard(x_dim=dim, y_dim=dim, t=t, u=U)\n",
    "lcu_zero_state_block = LCUBlockEncoding(select=select, prepare=prepare)"
   ]
  },
  {
   "cell_type": "code",
   "execution_count": null,
   "id": "0fecb559",
   "metadata": {
    "cq.autogen": "LCUBlockEncoding.black_box_lcu_zero_state_block"
   },
   "outputs": [],
   "source": [
    "from qualtran.bloqs.chemistry.hubbard_model.qubitization import PrepareHubbard, SelectHubbard\n",
    "from qualtran.bloqs.multiplexers.black_box_select import BlackBoxSelect\n",
    "from qualtran.bloqs.state_preparation.black_box_prepare import BlackBoxPrepare\n",
    "\n",
    "# 3x3 hubbard model U/t = 4\n",
    "dim = 3\n",
    "select = SelectHubbard(x_dim=dim, y_dim=dim)\n",
    "U = 4\n",
    "t = 1\n",
    "prepare = PrepareHubbard(x_dim=dim, y_dim=dim, t=t, u=U)\n",
    "black_box_lcu_zero_state_block = LCUBlockEncoding(\n",
    "    select=BlackBoxSelect(select), prepare=BlackBoxPrepare(prepare)\n",
    ")"
   ]
  },
  {
   "cell_type": "markdown",
   "id": "1cb88909",
   "metadata": {
    "cq.autogen": "LCUBlockEncoding.graphical_signature.md"
   },
   "source": [
    "#### Graphical Signature"
   ]
  },
  {
   "cell_type": "code",
   "execution_count": null,
   "id": "27d66a7f",
   "metadata": {
    "cq.autogen": "LCUBlockEncoding.graphical_signature.py"
   },
   "outputs": [],
   "source": [
    "from qualtran.drawing import show_bloqs\n",
    "show_bloqs([lcu_block, black_box_lcu_block],\n",
    "           ['`lcu_block`', '`black_box_lcu_block`'])"
   ]
  },
  {
   "cell_type": "markdown",
   "id": "b92c0939",
   "metadata": {
    "cq.autogen": "LCUBlockEncoding.call_graph.md"
   },
   "source": [
    "### Call Graph"
   ]
  },
  {
   "cell_type": "code",
   "execution_count": null,
   "id": "6d176775",
   "metadata": {
    "cq.autogen": "LCUBlockEncoding.call_graph.py"
   },
   "outputs": [],
   "source": [
    "from qualtran.resource_counting.generalizers import ignore_split_join\n",
    "lcu_block_g, lcu_block_sigma = lcu_block.call_graph(max_depth=1, generalizer=ignore_split_join)\n",
    "show_call_graph(lcu_block_g)\n",
    "show_counts_sigma(lcu_block_sigma)"
   ]
  },
  {
   "cell_type": "markdown",
   "id": "7823825c",
   "metadata": {
    "cq.autogen": "SelectOracle.bloq_doc.md"
   },
   "source": [
    "## `SelectOracle`\n",
    "Abstract base class that defines the interface for a SELECT Oracle.\n",
    "\n",
    "The action of a SELECT oracle on a selection register $|l\\rangle$ and target register\n",
    "$|\\Psi\\rangle$ can be defined as:\n",
    "\n",
    "$$\n",
    "    \\mathrm{SELECT} = \\sum_{l}|l \\rangle \\langle l| \\otimes U_l\n",
    "$$\n",
    "\n",
    "In other words, the `SELECT` oracle applies $l$'th unitary $U_l$ on the target register\n",
    "$|\\Psi\\rangle$ when the selection register stores integer $l$.\n",
    "\n",
    "$$\n",
    "    \\mathrm{SELECT}|l\\rangle |\\Psi\\rangle = |l\\rangle U_{l}|\\Psi\\rangle\n",
    "$$"
   ]
  },
  {
   "cell_type": "code",
   "execution_count": null,
   "id": "67fa93c3",
   "metadata": {
    "cq.autogen": "SelectOracle.bloq_doc.py"
   },
   "outputs": [],
   "source": [
    "from qualtran.bloqs.multiplexers.select_base import SelectOracle"
   ]
  },
  {
   "cell_type": "markdown",
   "id": "62480910",
   "metadata": {
    "cq.autogen": "PrepareOracle.bloq_doc.md"
   },
   "source": [
    "## `PrepareOracle`\n",
    "Abstract base class that defines the API for a PREPARE Oracle.\n",
    "\n",
    "Given a set of coefficients $\\{c_0, c_1, ..., c_{N - 1}\\}$, the PREPARE oracle is used to encode\n",
    "the coefficients as amplitudes of a state $|\\Psi\\rangle = \\sum_{l=0}^{N-1} \\sqrt{\\frac{c_l}{\\lambda}} |l\\rangle$\n",
    "where $\\lambda = \\sum_l |c_l|$, using a selection register $|l\\rangle$. In order to prepare such\n",
    "a state, the PREPARE circuit is also allowed to use a junk register that is entangled with\n",
    "selection register.\n",
    "\n",
    "Thus, the action of a PREPARE circuit on an input state $|0\\rangle$ can be defined as:\n",
    "\n",
    "$$\n",
    "    \\mathrm{PREPARE} |0\\rangle = \\sum_{l=0}^{N-1} \\sqrt{ \\frac{c_l}{\\lambda} } |l\\rangle |\\mathrm{junk}_l\\rangle\n",
    "$$"
   ]
  },
  {
   "cell_type": "code",
   "execution_count": null,
   "id": "ac3eeee1",
   "metadata": {
    "cq.autogen": "PrepareOracle.bloq_doc.py"
   },
   "outputs": [],
   "source": [
    "from qualtran.bloqs.state_preparation.prepare_base import PrepareOracle"
   ]
  },
  {
   "cell_type": "markdown",
   "id": "12005deb",
   "metadata": {
    "cq.autogen": "BlackBoxSelect.bloq_doc.md"
   },
   "source": [
    "## `BlackBoxSelect`\n",
    "A 'black box' Select bloq.\n",
    "\n",
    "The `SELECT` operation applies the $l$'th unitary $U_{l}$ on the system register\n",
    "when the selection register stores integer $l$.\n",
    "When implementing specific `SelectOracle` bloqs, it is helpful to have multiple selection\n",
    "registers each with semantic meaning. For example: you could have spatial or spin coordinates\n",
    "on different, named registers. The `SelectOracle` interface encourages this. `BlackBoxSelect`\n",
    "uses the properties on the `SelectOracle` interface to provide a \"black box\" view of a select\n",
    "operation that just has a selection and system register.\n",
    "During decomposition, this bloq will use the `Partition` utility bloq to partition\n",
    "and route the parts of the unified selection register to the `Select` bloq.\n",
    "\n",
    "#### Parameters\n",
    " - `select`: The bloq implementing the `SelectOracle` interface. \n",
    "\n",
    "#### Registers\n",
    " - `selection`: The combined selection register\n",
    " - `system`: The combined system register\n"
   ]
  },
  {
   "cell_type": "code",
   "execution_count": null,
   "id": "f1318974",
   "metadata": {
    "cq.autogen": "BlackBoxSelect.bloq_doc.py"
   },
   "outputs": [],
   "source": [
    "from qualtran.bloqs.multiplexers.black_box_select import BlackBoxSelect"
   ]
  },
  {
   "cell_type": "markdown",
   "id": "b61df197",
   "metadata": {
    "cq.autogen": "BlackBoxSelect.example_instances.md"
   },
   "source": [
    "### Example Instances"
   ]
  },
  {
   "cell_type": "code",
   "execution_count": null,
   "id": "1f237168",
   "metadata": {
    "cq.autogen": "BlackBoxSelect.black_box_select"
   },
   "outputs": [],
   "source": [
    "from qualtran.bloqs.chemistry.hubbard_model.qubitization import SelectHubbard\n",
    "\n",
    "select = SelectHubbard(2, 2)\n",
    "black_box_select = BlackBoxSelect(select=select)"
   ]
  },
  {
   "cell_type": "markdown",
   "id": "26990b71",
   "metadata": {
    "cq.autogen": "BlackBoxSelect.graphical_signature.md"
   },
   "source": [
    "#### Graphical Signature"
   ]
  },
  {
   "cell_type": "code",
   "execution_count": null,
   "id": "69653670",
   "metadata": {
    "cq.autogen": "BlackBoxSelect.graphical_signature.py"
   },
   "outputs": [],
   "source": [
    "from qualtran.drawing import show_bloqs\n",
    "show_bloqs([black_box_select],\n",
    "           ['`black_box_select`'])"
   ]
  },
  {
   "cell_type": "markdown",
   "id": "b48eaf70",
   "metadata": {
    "cq.autogen": "BlackBoxSelect.call_graph.md"
   },
   "source": [
    "### Call Graph"
   ]
  },
  {
   "cell_type": "code",
   "execution_count": null,
   "id": "85c0e01e",
   "metadata": {
    "cq.autogen": "BlackBoxSelect.call_graph.py"
   },
   "outputs": [],
   "source": [
    "from qualtran.resource_counting.generalizers import ignore_split_join\n",
    "black_box_select_g, black_box_select_sigma = black_box_select.call_graph(max_depth=1, generalizer=ignore_split_join)\n",
    "show_call_graph(black_box_select_g)\n",
    "show_counts_sigma(black_box_select_sigma)"
   ]
  },
  {
   "cell_type": "markdown",
   "id": "9c9af433",
   "metadata": {
    "cq.autogen": "BlackBoxPrepare.bloq_doc.md"
   },
   "source": [
    "## `BlackBoxPrepare`\n",
    "Provide a black-box interface to `Prepare` bloqs.\n",
    "\n",
    "This wrapper uses `Partition` to combine descriptive selection\n",
    "registers into one register named \"selection\".\n",
    "\n",
    "#### Parameters\n",
    " - `prepare`: The bloq following the `Prepare` interface to wrap. \n",
    "\n",
    "#### Registers\n",
    " - `selection`: selection register.\n",
    " - `junk`: Additional junk registers not prepared upon.\n"
   ]
  },
  {
   "cell_type": "code",
   "execution_count": null,
   "id": "22ec690f",
   "metadata": {
    "cq.autogen": "BlackBoxPrepare.bloq_doc.py"
   },
   "outputs": [],
   "source": [
    "from qualtran.bloqs.state_preparation.black_box_prepare import BlackBoxPrepare"
   ]
  },
  {
   "cell_type": "markdown",
   "id": "93895916",
   "metadata": {
    "cq.autogen": "BlackBoxPrepare.example_instances.md"
   },
   "source": [
    "### Example Instances"
   ]
  },
  {
   "cell_type": "code",
   "execution_count": null,
   "id": "ae8f23c4",
   "metadata": {
    "cq.autogen": "BlackBoxPrepare.black_box_prepare"
   },
   "outputs": [],
   "source": [
    "from qualtran.bloqs.chemistry.hubbard_model.qubitization import PrepareHubbard\n",
    "\n",
    "prepare = PrepareHubbard(2, 2, 1, 4)\n",
    "black_box_prepare = BlackBoxPrepare(prepare=prepare)"
   ]
  },
  {
   "cell_type": "markdown",
   "id": "74f82c9b",
   "metadata": {
    "cq.autogen": "BlackBoxPrepare.graphical_signature.md"
   },
   "source": [
    "#### Graphical Signature"
   ]
  },
  {
   "cell_type": "code",
   "execution_count": null,
   "id": "dfe5732c",
   "metadata": {
    "cq.autogen": "BlackBoxPrepare.graphical_signature.py"
   },
   "outputs": [],
   "source": [
    "from qualtran.drawing import show_bloqs\n",
    "show_bloqs([black_box_prepare],\n",
    "           ['`black_box_prepare`'])"
   ]
  },
  {
   "cell_type": "markdown",
   "id": "a99b19c1",
   "metadata": {
    "cq.autogen": "BlackBoxPrepare.call_graph.md"
   },
   "source": [
    "### Call Graph"
   ]
  },
  {
   "cell_type": "code",
   "execution_count": null,
   "id": "1a1952cd",
   "metadata": {
    "cq.autogen": "BlackBoxPrepare.call_graph.py"
   },
   "outputs": [],
   "source": [
    "from qualtran.resource_counting.generalizers import ignore_split_join\n",
    "black_box_prepare_g, black_box_prepare_sigma = black_box_prepare.call_graph(max_depth=1, generalizer=ignore_split_join)\n",
    "show_call_graph(black_box_prepare_g)\n",
    "show_counts_sigma(black_box_prepare_sigma)"
   ]
  },
  {
   "cell_type": "code",
   "execution_count": null,
   "id": "2bd22e38",
   "metadata": {
    "cq.autogen": "SelectBlockEncoding.lcu_select_block"
   },
   "outputs": [],
   "source": [
    "from qualtran.bloqs.chemistry.hubbard_model.qubitization import PrepareHubbard, SelectHubbard\n",
    "\n",
    "# 3x3 hubbard model U/t = 4\n",
    "dim = 3\n",
    "select = SelectHubbard(x_dim=dim, y_dim=dim)\n",
    "U = 4\n",
    "t = 1\n",
    "prepare = PrepareHubbard(x_dim=dim, y_dim=dim, t=t, u=U)\n",
    "lcu_select_block = SelectBlockEncoding(select=select, prepare=prepare)"
   ]
  },
  {
   "cell_type": "code",
   "execution_count": null,
   "id": "ed0cf1ff",
   "metadata": {
    "cq.autogen": "SelectBlockEncoding.black_box_select_block"
   },
   "outputs": [],
   "source": [
    "from qualtran.bloqs.chemistry.hubbard_model.qubitization import PrepareHubbard, SelectHubbard\n",
    "from qualtran.bloqs.multiplexers.black_box_select import BlackBoxSelect\n",
    "from qualtran.bloqs.state_preparation.black_box_prepare import BlackBoxPrepare\n",
    "\n",
    "# 3x3 hubbard model U/t = 4\n",
    "dim = 3\n",
    "select = SelectHubbard(x_dim=dim, y_dim=dim)\n",
    "U = 4\n",
    "t = 1\n",
    "prepare = PrepareHubbard(x_dim=dim, y_dim=dim, t=t, u=U)\n",
    "black_box_select_block = SelectBlockEncoding(\n",
    "    select=BlackBoxSelect(select), prepare=BlackBoxPrepare(prepare)\n",
    ")"
   ]
  },
  {
   "cell_type": "code",
   "execution_count": null,
   "id": "2e0df9d9",
   "metadata": {
    "cq.autogen": "LCUBlockEncoding.lcu_block"
   },
   "outputs": [],
   "source": [
    "from qualtran.bloqs.chemistry.hubbard_model.qubitization import PrepareHubbard, SelectHubbard\n",
    "\n",
    "# 3x3 hubbard model U/t = 4\n",
    "dim = 3\n",
    "select = SelectHubbard(x_dim=dim, y_dim=dim)\n",
    "U = 4\n",
    "t = 1\n",
    "prepare = PrepareHubbard(x_dim=dim, y_dim=dim, t=t, u=U)\n",
    "lcu_block = LCUBlockEncoding(select=select, prepare=prepare)"
   ]
  },
  {
   "cell_type": "code",
   "execution_count": null,
   "id": "5f57bab3",
   "metadata": {
    "cq.autogen": "LCUBlockEncoding.black_box_lcu_block"
   },
   "outputs": [],
   "source": [
    "from qualtran.bloqs.chemistry.hubbard_model.qubitization import PrepareHubbard, SelectHubbard\n",
    "from qualtran.bloqs.multiplexers.black_box_select import BlackBoxSelect\n",
    "from qualtran.bloqs.state_preparation.black_box_prepare import BlackBoxPrepare\n",
    "\n",
    "# 3x3 hubbard model U/t = 4\n",
    "dim = 3\n",
    "select = SelectHubbard(x_dim=dim, y_dim=dim)\n",
    "U = 4\n",
    "t = 1\n",
    "prepare = PrepareHubbard(x_dim=dim, y_dim=dim, t=t, u=U)\n",
    "black_box_lcu_block = LCUBlockEncoding(\n",
    "    select=BlackBoxSelect(select), prepare=BlackBoxPrepare(prepare)\n",
    ")"
   ]
  },
  {
   "cell_type": "code",
   "execution_count": null,
   "id": "52c2716a",
   "metadata": {
    "cq.autogen": "SelectBlockEncoding.select_block"
   },
   "outputs": [],
   "source": [
    "from qualtran.bloqs.chemistry.hubbard_model.qubitization import PrepareHubbard, SelectHubbard\n",
    "\n",
    "# 3x3 hubbard model U/t = 4\n",
    "dim = 3\n",
    "select = SelectHubbard(x_dim=dim, y_dim=dim)\n",
    "U = 4\n",
    "t = 1\n",
    "prepare = PrepareHubbard(x_dim=dim, y_dim=dim, t=t, u=U)\n",
    "select_block = SelectBlockEncoding(select=select, prepare=prepare)"
   ]
  }
 ],
 "metadata": {
  "kernelspec": {
   "display_name": "Python 3",
   "language": "python",
   "name": "python3"
  },
  "language_info": {
   "name": "python"
  }
 },
 "nbformat": 4,
 "nbformat_minor": 5
}
