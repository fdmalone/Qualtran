{
 "cells": [
  {
   "cell_type": "markdown",
   "id": "e4c96e06",
   "metadata": {
    "cq.autogen": "title_cell"
   },
   "source": [
    "# Apply to CSwap to Lth Register"
   ]
  },
  {
   "cell_type": "code",
   "execution_count": null,
   "id": "2bcd5822",
   "metadata": {
    "cq.autogen": "top_imports"
   },
   "outputs": [],
   "source": [
    "from qualtran import Bloq, CompositeBloq, BloqBuilder, Signature, Register\n",
    "from qualtran.drawing import show_bloq\n",
    "from typing import *\n",
    "import numpy as np\n",
    "import cirq"
   ]
  },
  {
   "cell_type": "markdown",
   "id": "a3701b53",
   "metadata": {
    "cq.autogen": "ApplyCSwapToLthReg.bloq_doc.md"
   },
   "source": [
    "## `ApplyCSwapToLthReg`\n",
    "Swaps the $l$-th register into an ancilla using unary iteration.\n",
    "\n",
    "Applies the unitary which peforms\n",
    "$$\n",
    "    U |l\\rangle|\\psi_0\\rangle\\cdots|\\psi_l\\rangle\\cdots|\\psi_n\\rangle|\\mathrm{junk}\\rangle\n",
    "    \\rightarrow\n",
    "    |l\\rangle|\\psi_0\\rangle\\cdots|\\mathrm{junk}\\rangle\\cdots|\\psi_n\\rangle|\\psi_l\\rangle\n",
    "$$\n",
    "through a combination of unary iteration and CSwaps.\n",
    "\n",
    "The cost should be $L n_b + L - 2 + n_c$, where $L$ is the\n",
    "iteration length, $n_b$ is the bitsize of\n",
    "the registers to swap, and $n_c$ is the number of controls.\n",
    "\n",
    "#### Parameters\n",
    " - `selection_regs`: Indexing `select` signature of type Tuple[`SelectionRegisters`, ...]. It also contains information about the iteration length of each selection register.\n",
    " - `bitsize`: The size of the registers we want to swap.\n",
    " - `nth_gate`: A function mapping the composite selection index to a single-qubit gate. \n",
    "\n",
    "#### Registers\n",
    " - `control_registers`: Control registers\n",
    " - `selection_regs`: Indexing `select` signature of type Tuple[`SelectionRegisters`, ...]. It also contains information about the iteration length of each selection register.\n",
    " - `target_registers`: Target registers to swap. We swap FROM registers labelled x`i`, where i is an integer and TO a single register called y \n",
    "\n",
    "#### References\n",
    "[Fault-Tolerant Quantum Simulations of Chemistry in First Quantization]( https://arxiv.org/abs/2105.12767) page 20 paragraph 2.\n"
   ]
  },
  {
   "cell_type": "code",
   "execution_count": null,
   "id": "a326ef80",
   "metadata": {
    "cq.autogen": "ApplyCSwapToLthReg.bloq_doc.py"
   },
   "outputs": [],
   "source": [
    "from qualtran.bloqs.apply_cswap_to_lth_reg import ApplyCSwapToLthReg"
   ]
  },
  {
   "cell_type": "markdown",
   "id": "c7bc18da",
   "metadata": {
    "cq.autogen": "ApplyCSwapToLthReg.example_instances.md"
   },
   "source": [
    "### Example Instances"
   ]
  },
  {
   "cell_type": "code",
   "execution_count": null,
   "id": "1c923a88",
   "metadata": {
    "cq.autogen": "ApplyCSwapToLthReg.apply_cswap_to_l"
   },
   "outputs": [],
   "source": [
    "from qualtran import SelectionRegister\n",
    "\n",
    "selection_bitsize = 3\n",
    "iteration_length = 5\n",
    "target_bitsize = 2\n",
    "apply_cswap_to_l = ApplyCSwapToLthReg(\n",
    "    SelectionRegister('selection', selection_bitsize, iteration_length), bitsize=target_bitsize\n",
    ")\n"
   ]
  },
  {
   "cell_type": "markdown",
   "id": "0f3f77aa",
   "metadata": {
    "cq.autogen": "ApplyCSwapToLthReg.graphical_signature.md"
   },
   "source": [
    "#### Graphical Signature"
   ]
  },
  {
   "cell_type": "code",
   "execution_count": null,
   "id": "b2526b2b",
   "metadata": {
    "cq.autogen": "ApplyCSwapToLthReg.graphical_signature.py"
   },
   "outputs": [],
   "source": [
    "from qualtran.drawing import show_bloqs\n",
    "show_bloqs([apply_cswap_to_l],\n",
    "           ['`apply_cswap_to_l`'])"
   ]
  }
 ],
 "metadata": {
  "kernelspec": {
   "display_name": "Python 3",
   "language": "python",
   "name": "python3"
  },
  "language_info": {
   "codemirror_mode": {
    "name": "ipython",
    "version": 3
   },
   "file_extension": ".py",
   "mimetype": "text/x-python",
   "name": "python",
   "nbconvert_exporter": "python",
   "pygments_lexer": "ipython3",
   "version": "3.11.5"
  }
 },
 "nbformat": 4,
 "nbformat_minor": 5
}
