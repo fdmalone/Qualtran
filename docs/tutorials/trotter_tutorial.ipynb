{
  "cells": [
    {
      "cell_type": "code",
      "execution_count": 1,
      "metadata": {
        "colab": {
          "base_uri": "https://localhost:8080/"
        },
        "id": "fNG6wkEcoA4a",
        "outputId": "50153872-1fb0-4f85-da54-d1b42679a078"
      },
      "outputs": [
        {
          "name": "stdout",
          "output_type": "stream",
          "text": [
            "Requirement already satisfied: qualtran in /usr/local/google/home/fmalone/.virtualenvs/qualtran/lib/python3.11/site-packages (0.3.0.dev0)\n",
            "Requirement already satisfied: attrs in /usr/local/google/home/fmalone/.virtualenvs/qualtran/lib/python3.11/site-packages (from qualtran) (23.2.0)\n",
            "Requirement already satisfied: cachetools>=5.3 in /usr/local/google/home/fmalone/.virtualenvs/qualtran/lib/python3.11/site-packages (from qualtran) (5.3.3)\n",
            "Requirement already satisfied: networkx in /usr/local/google/home/fmalone/.virtualenvs/qualtran/lib/python3.11/site-packages (from qualtran) (3.3)\n",
            "Requirement already satisfied: numpy in /usr/local/google/home/fmalone/.virtualenvs/qualtran/lib/python3.11/site-packages (from qualtran) (1.26.4)\n",
            "Requirement already satisfied: sympy in /usr/local/google/home/fmalone/.virtualenvs/qualtran/lib/python3.11/site-packages (from qualtran) (1.12)\n",
            "Requirement already satisfied: cirq-core==1.4.0.dev20240216204049 in /usr/local/google/home/fmalone/.virtualenvs/qualtran/lib/python3.11/site-packages (from qualtran) (1.4.0.dev20240216204049)\n",
            "Requirement already satisfied: fxpmath in /usr/local/google/home/fmalone/.virtualenvs/qualtran/lib/python3.11/site-packages (from qualtran) (0.4.9)\n",
            "Requirement already satisfied: nbconvert in /usr/local/google/home/fmalone/.virtualenvs/qualtran/lib/python3.11/site-packages (from qualtran) (7.16.4)\n",
            "Requirement already satisfied: nbformat in /usr/local/google/home/fmalone/.virtualenvs/qualtran/lib/python3.11/site-packages (from qualtran) (5.10.4)\n",
            "Requirement already satisfied: pydot in /usr/local/google/home/fmalone/.virtualenvs/qualtran/lib/python3.11/site-packages (from qualtran) (2.0.0)\n",
            "Requirement already satisfied: ipython in /usr/local/google/home/fmalone/.virtualenvs/qualtran/lib/python3.11/site-packages (from qualtran) (8.24.0)\n",
            "Requirement already satisfied: matplotlib in /usr/local/google/home/fmalone/.virtualenvs/qualtran/lib/python3.11/site-packages (from qualtran) (3.8.4)\n",
            "Requirement already satisfied: ipywidgets in /usr/local/google/home/fmalone/.virtualenvs/qualtran/lib/python3.11/site-packages (from qualtran) (8.1.2)\n",
            "Requirement already satisfied: plotly in /usr/local/google/home/fmalone/.virtualenvs/qualtran/lib/python3.11/site-packages (from qualtran) (5.22.0)\n",
            "Requirement already satisfied: dash in /usr/local/google/home/fmalone/.virtualenvs/qualtran/lib/python3.11/site-packages (from qualtran) (2.17.0)\n",
            "Requirement already satisfied: quimb in /usr/local/google/home/fmalone/.virtualenvs/qualtran/lib/python3.11/site-packages (from qualtran) (1.8.1)\n",
            "Requirement already satisfied: qsharp in /usr/local/google/home/fmalone/.virtualenvs/qualtran/lib/python3.11/site-packages (from qualtran) (1.4.0)\n",
            "Requirement already satisfied: qsharp-widgets in /usr/local/google/home/fmalone/.virtualenvs/qualtran/lib/python3.11/site-packages (from qualtran) (1.4.0)\n",
            "Requirement already satisfied: protobuf in /usr/local/google/home/fmalone/.virtualenvs/qualtran/lib/python3.11/site-packages (from qualtran) (5.26.1)\n",
            "Requirement already satisfied: duet>=0.2.8 in /usr/local/google/home/fmalone/.virtualenvs/qualtran/lib/python3.11/site-packages (from cirq-core==1.4.0.dev20240216204049->qualtran) (0.2.9)\n",
            "Requirement already satisfied: pandas in /usr/local/google/home/fmalone/.virtualenvs/qualtran/lib/python3.11/site-packages (from cirq-core==1.4.0.dev20240216204049->qualtran) (2.2.2)\n",
            "Requirement already satisfied: sortedcontainers~=2.0 in /usr/local/google/home/fmalone/.virtualenvs/qualtran/lib/python3.11/site-packages (from cirq-core==1.4.0.dev20240216204049->qualtran) (2.4.0)\n",
            "Requirement already satisfied: scipy in /usr/local/google/home/fmalone/.virtualenvs/qualtran/lib/python3.11/site-packages (from cirq-core==1.4.0.dev20240216204049->qualtran) (1.12.0)\n",
            "Requirement already satisfied: typing-extensions>=4.2 in /usr/local/google/home/fmalone/.virtualenvs/qualtran/lib/python3.11/site-packages (from cirq-core==1.4.0.dev20240216204049->qualtran) (4.11.0)\n",
            "Requirement already satisfied: tqdm in /usr/local/google/home/fmalone/.virtualenvs/qualtran/lib/python3.11/site-packages (from cirq-core==1.4.0.dev20240216204049->qualtran) (4.66.4)\n",
            "Requirement already satisfied: contourpy>=1.0.1 in /usr/local/google/home/fmalone/.virtualenvs/qualtran/lib/python3.11/site-packages (from matplotlib->qualtran) (1.2.1)\n",
            "Requirement already satisfied: cycler>=0.10 in /usr/local/google/home/fmalone/.virtualenvs/qualtran/lib/python3.11/site-packages (from matplotlib->qualtran) (0.12.1)\n",
            "Requirement already satisfied: fonttools>=4.22.0 in /usr/local/google/home/fmalone/.virtualenvs/qualtran/lib/python3.11/site-packages (from matplotlib->qualtran) (4.51.0)\n",
            "Requirement already satisfied: kiwisolver>=1.3.1 in /usr/local/google/home/fmalone/.virtualenvs/qualtran/lib/python3.11/site-packages (from matplotlib->qualtran) (1.4.5)\n",
            "Requirement already satisfied: packaging>=20.0 in /usr/local/google/home/fmalone/.virtualenvs/qualtran/lib/python3.11/site-packages (from matplotlib->qualtran) (24.0)\n",
            "Requirement already satisfied: pillow>=8 in /usr/local/google/home/fmalone/.virtualenvs/qualtran/lib/python3.11/site-packages (from matplotlib->qualtran) (10.3.0)\n",
            "Requirement already satisfied: pyparsing>=2.3.1 in /usr/local/google/home/fmalone/.virtualenvs/qualtran/lib/python3.11/site-packages (from matplotlib->qualtran) (3.1.2)\n",
            "Requirement already satisfied: python-dateutil>=2.7 in /usr/local/google/home/fmalone/.virtualenvs/qualtran/lib/python3.11/site-packages (from matplotlib->qualtran) (2.9.0.post0)\n",
            "Requirement already satisfied: Flask<3.1,>=1.0.4 in /usr/local/google/home/fmalone/.virtualenvs/qualtran/lib/python3.11/site-packages (from dash->qualtran) (3.0.3)\n",
            "Requirement already satisfied: Werkzeug<3.1 in /usr/local/google/home/fmalone/.virtualenvs/qualtran/lib/python3.11/site-packages (from dash->qualtran) (3.0.3)\n",
            "Requirement already satisfied: dash-html-components==2.0.0 in /usr/local/google/home/fmalone/.virtualenvs/qualtran/lib/python3.11/site-packages (from dash->qualtran) (2.0.0)\n",
            "Requirement already satisfied: dash-core-components==2.0.0 in /usr/local/google/home/fmalone/.virtualenvs/qualtran/lib/python3.11/site-packages (from dash->qualtran) (2.0.0)\n",
            "Requirement already satisfied: dash-table==5.0.0 in /usr/local/google/home/fmalone/.virtualenvs/qualtran/lib/python3.11/site-packages (from dash->qualtran) (5.0.0)\n",
            "Requirement already satisfied: importlib-metadata in /usr/local/google/home/fmalone/.virtualenvs/qualtran/lib/python3.11/site-packages (from dash->qualtran) (7.1.0)\n",
            "Requirement already satisfied: requests in /usr/local/google/home/fmalone/.virtualenvs/qualtran/lib/python3.11/site-packages (from dash->qualtran) (2.32.0)\n",
            "Requirement already satisfied: retrying in /usr/local/google/home/fmalone/.virtualenvs/qualtran/lib/python3.11/site-packages (from dash->qualtran) (1.3.4)\n",
            "Requirement already satisfied: nest-asyncio in /usr/local/google/home/fmalone/.virtualenvs/qualtran/lib/python3.11/site-packages (from dash->qualtran) (1.6.0)\n",
            "Requirement already satisfied: setuptools in /usr/local/google/home/fmalone/.virtualenvs/qualtran/lib/python3.11/site-packages (from dash->qualtran) (68.1.2)\n",
            "Requirement already satisfied: tenacity>=6.2.0 in /usr/local/google/home/fmalone/.virtualenvs/qualtran/lib/python3.11/site-packages (from plotly->qualtran) (8.3.0)\n",
            "Requirement already satisfied: decorator in /usr/local/google/home/fmalone/.virtualenvs/qualtran/lib/python3.11/site-packages (from ipython->qualtran) (5.1.1)\n",
            "Requirement already satisfied: jedi>=0.16 in /usr/local/google/home/fmalone/.virtualenvs/qualtran/lib/python3.11/site-packages (from ipython->qualtran) (0.19.1)\n",
            "Requirement already satisfied: matplotlib-inline in /usr/local/google/home/fmalone/.virtualenvs/qualtran/lib/python3.11/site-packages (from ipython->qualtran) (0.1.7)\n",
            "Requirement already satisfied: prompt-toolkit<3.1.0,>=3.0.41 in /usr/local/google/home/fmalone/.virtualenvs/qualtran/lib/python3.11/site-packages (from ipython->qualtran) (3.0.43)\n",
            "Requirement already satisfied: pygments>=2.4.0 in /usr/local/google/home/fmalone/.virtualenvs/qualtran/lib/python3.11/site-packages (from ipython->qualtran) (2.18.0)\n",
            "Requirement already satisfied: stack-data in /usr/local/google/home/fmalone/.virtualenvs/qualtran/lib/python3.11/site-packages (from ipython->qualtran) (0.6.3)\n",
            "Requirement already satisfied: traitlets>=5.13.0 in /usr/local/google/home/fmalone/.virtualenvs/qualtran/lib/python3.11/site-packages (from ipython->qualtran) (5.14.3)\n",
            "Requirement already satisfied: pexpect>4.3 in /usr/local/google/home/fmalone/.virtualenvs/qualtran/lib/python3.11/site-packages (from ipython->qualtran) (4.9.0)\n",
            "Requirement already satisfied: comm>=0.1.3 in /usr/local/google/home/fmalone/.virtualenvs/qualtran/lib/python3.11/site-packages (from ipywidgets->qualtran) (0.2.2)\n",
            "Requirement already satisfied: widgetsnbextension~=4.0.10 in /usr/local/google/home/fmalone/.virtualenvs/qualtran/lib/python3.11/site-packages (from ipywidgets->qualtran) (4.0.10)\n",
            "Requirement already satisfied: jupyterlab-widgets~=3.0.10 in /usr/local/google/home/fmalone/.virtualenvs/qualtran/lib/python3.11/site-packages (from ipywidgets->qualtran) (3.0.10)\n",
            "Requirement already satisfied: beautifulsoup4 in /usr/local/google/home/fmalone/.virtualenvs/qualtran/lib/python3.11/site-packages (from nbconvert->qualtran) (4.12.3)\n",
            "Requirement already satisfied: bleach!=5.0.0 in /usr/local/google/home/fmalone/.virtualenvs/qualtran/lib/python3.11/site-packages (from nbconvert->qualtran) (6.1.0)\n",
            "Requirement already satisfied: defusedxml in /usr/local/google/home/fmalone/.virtualenvs/qualtran/lib/python3.11/site-packages (from nbconvert->qualtran) (0.7.1)\n",
            "Requirement already satisfied: jinja2>=3.0 in /usr/local/google/home/fmalone/.virtualenvs/qualtran/lib/python3.11/site-packages (from nbconvert->qualtran) (3.1.4)\n",
            "Requirement already satisfied: jupyter-core>=4.7 in /usr/local/google/home/fmalone/.virtualenvs/qualtran/lib/python3.11/site-packages (from nbconvert->qualtran) (5.7.2)\n",
            "Requirement already satisfied: jupyterlab-pygments in /usr/local/google/home/fmalone/.virtualenvs/qualtran/lib/python3.11/site-packages (from nbconvert->qualtran) (0.3.0)\n",
            "Requirement already satisfied: markupsafe>=2.0 in /usr/local/google/home/fmalone/.virtualenvs/qualtran/lib/python3.11/site-packages (from nbconvert->qualtran) (2.1.5)\n",
            "Requirement already satisfied: mistune<4,>=2.0.3 in /usr/local/google/home/fmalone/.virtualenvs/qualtran/lib/python3.11/site-packages (from nbconvert->qualtran) (3.0.2)\n",
            "Requirement already satisfied: nbclient>=0.5.0 in /usr/local/google/home/fmalone/.virtualenvs/qualtran/lib/python3.11/site-packages (from nbconvert->qualtran) (0.10.0)\n",
            "Requirement already satisfied: pandocfilters>=1.4.1 in /usr/local/google/home/fmalone/.virtualenvs/qualtran/lib/python3.11/site-packages (from nbconvert->qualtran) (1.5.1)\n",
            "Requirement already satisfied: tinycss2 in /usr/local/google/home/fmalone/.virtualenvs/qualtran/lib/python3.11/site-packages (from nbconvert->qualtran) (1.3.0)\n",
            "Requirement already satisfied: fastjsonschema>=2.15 in /usr/local/google/home/fmalone/.virtualenvs/qualtran/lib/python3.11/site-packages (from nbformat->qualtran) (2.19.1)\n",
            "Requirement already satisfied: jsonschema>=2.6 in /usr/local/google/home/fmalone/.virtualenvs/qualtran/lib/python3.11/site-packages (from nbformat->qualtran) (4.22.0)\n",
            "Requirement already satisfied: anywidget in /usr/local/google/home/fmalone/.virtualenvs/qualtran/lib/python3.11/site-packages (from qsharp-widgets->qualtran) (0.9.10)\n",
            "Requirement already satisfied: autoray>=0.6.7 in /usr/local/google/home/fmalone/.virtualenvs/qualtran/lib/python3.11/site-packages (from quimb->qualtran) (0.6.9)\n",
            "Requirement already satisfied: cotengra>=0.5.6 in /usr/local/google/home/fmalone/.virtualenvs/qualtran/lib/python3.11/site-packages (from quimb->qualtran) (0.6.0)\n",
            "Requirement already satisfied: cytoolz>=0.8.0 in /usr/local/google/home/fmalone/.virtualenvs/qualtran/lib/python3.11/site-packages (from quimb->qualtran) (0.12.3)\n",
            "Requirement already satisfied: numba>=0.39 in /usr/local/google/home/fmalone/.virtualenvs/qualtran/lib/python3.11/site-packages (from quimb->qualtran) (0.59.1)\n",
            "Requirement already satisfied: psutil>=4.3.1 in /usr/local/google/home/fmalone/.virtualenvs/qualtran/lib/python3.11/site-packages (from quimb->qualtran) (5.9.8)\n",
            "Requirement already satisfied: mpmath>=0.19 in /usr/local/google/home/fmalone/.virtualenvs/qualtran/lib/python3.11/site-packages (from sympy->qualtran) (1.3.0)\n",
            "Requirement already satisfied: six>=1.9.0 in /usr/local/google/home/fmalone/.virtualenvs/qualtran/lib/python3.11/site-packages (from bleach!=5.0.0->nbconvert->qualtran) (1.16.0)\n",
            "Requirement already satisfied: webencodings in /usr/local/google/home/fmalone/.virtualenvs/qualtran/lib/python3.11/site-packages (from bleach!=5.0.0->nbconvert->qualtran) (0.5.1)\n",
            "Requirement already satisfied: toolz>=0.8.0 in /usr/local/google/home/fmalone/.virtualenvs/qualtran/lib/python3.11/site-packages (from cytoolz>=0.8.0->quimb->qualtran) (0.12.1)\n",
            "Requirement already satisfied: itsdangerous>=2.1.2 in /usr/local/google/home/fmalone/.virtualenvs/qualtran/lib/python3.11/site-packages (from Flask<3.1,>=1.0.4->dash->qualtran) (2.2.0)\n",
            "Requirement already satisfied: click>=8.1.3 in /usr/local/google/home/fmalone/.virtualenvs/qualtran/lib/python3.11/site-packages (from Flask<3.1,>=1.0.4->dash->qualtran) (8.1.7)\n",
            "Requirement already satisfied: blinker>=1.6.2 in /usr/local/google/home/fmalone/.virtualenvs/qualtran/lib/python3.11/site-packages (from Flask<3.1,>=1.0.4->dash->qualtran) (1.8.2)\n",
            "Requirement already satisfied: parso<0.9.0,>=0.8.3 in /usr/local/google/home/fmalone/.virtualenvs/qualtran/lib/python3.11/site-packages (from jedi>=0.16->ipython->qualtran) (0.8.4)\n",
            "Requirement already satisfied: jsonschema-specifications>=2023.03.6 in /usr/local/google/home/fmalone/.virtualenvs/qualtran/lib/python3.11/site-packages (from jsonschema>=2.6->nbformat->qualtran) (2023.12.1)\n",
            "Requirement already satisfied: referencing>=0.28.4 in /usr/local/google/home/fmalone/.virtualenvs/qualtran/lib/python3.11/site-packages (from jsonschema>=2.6->nbformat->qualtran) (0.35.1)\n",
            "Requirement already satisfied: rpds-py>=0.7.1 in /usr/local/google/home/fmalone/.virtualenvs/qualtran/lib/python3.11/site-packages (from jsonschema>=2.6->nbformat->qualtran) (0.18.1)\n",
            "Requirement already satisfied: platformdirs>=2.5 in /usr/local/google/home/fmalone/.virtualenvs/qualtran/lib/python3.11/site-packages (from jupyter-core>=4.7->nbconvert->qualtran) (4.2.1)\n",
            "Requirement already satisfied: jupyter-client>=6.1.12 in /usr/local/google/home/fmalone/.virtualenvs/qualtran/lib/python3.11/site-packages (from nbclient>=0.5.0->nbconvert->qualtran) (8.6.1)\n",
            "Requirement already satisfied: llvmlite<0.43,>=0.42.0dev0 in /usr/local/google/home/fmalone/.virtualenvs/qualtran/lib/python3.11/site-packages (from numba>=0.39->quimb->qualtran) (0.42.0)\n",
            "Requirement already satisfied: ptyprocess>=0.5 in /usr/local/google/home/fmalone/.virtualenvs/qualtran/lib/python3.11/site-packages (from pexpect>4.3->ipython->qualtran) (0.7.0)\n",
            "Requirement already satisfied: wcwidth in /usr/local/google/home/fmalone/.virtualenvs/qualtran/lib/python3.11/site-packages (from prompt-toolkit<3.1.0,>=3.0.41->ipython->qualtran) (0.2.13)\n",
            "Requirement already satisfied: psygnal>=0.8.1 in /usr/local/google/home/fmalone/.virtualenvs/qualtran/lib/python3.11/site-packages (from anywidget->qsharp-widgets->qualtran) (0.11.1)\n",
            "Requirement already satisfied: soupsieve>1.2 in /usr/local/google/home/fmalone/.virtualenvs/qualtran/lib/python3.11/site-packages (from beautifulsoup4->nbconvert->qualtran) (2.5)\n",
            "Requirement already satisfied: zipp>=0.5 in /usr/local/google/home/fmalone/.virtualenvs/qualtran/lib/python3.11/site-packages (from importlib-metadata->dash->qualtran) (3.18.1)\n",
            "Requirement already satisfied: pytz>=2020.1 in /usr/local/google/home/fmalone/.virtualenvs/qualtran/lib/python3.11/site-packages (from pandas->cirq-core==1.4.0.dev20240216204049->qualtran) (2024.1)\n",
            "Requirement already satisfied: tzdata>=2022.7 in /usr/local/google/home/fmalone/.virtualenvs/qualtran/lib/python3.11/site-packages (from pandas->cirq-core==1.4.0.dev20240216204049->qualtran) (2024.1)\n",
            "Requirement already satisfied: charset-normalizer<4,>=2 in /usr/local/google/home/fmalone/.virtualenvs/qualtran/lib/python3.11/site-packages (from requests->dash->qualtran) (3.3.2)\n",
            "Requirement already satisfied: idna<4,>=2.5 in /usr/local/google/home/fmalone/.virtualenvs/qualtran/lib/python3.11/site-packages (from requests->dash->qualtran) (3.7)\n",
            "Requirement already satisfied: urllib3<3,>=1.21.1 in /usr/local/google/home/fmalone/.virtualenvs/qualtran/lib/python3.11/site-packages (from requests->dash->qualtran) (2.2.1)\n",
            "Requirement already satisfied: certifi>=2017.4.17 in /usr/local/google/home/fmalone/.virtualenvs/qualtran/lib/python3.11/site-packages (from requests->dash->qualtran) (2024.2.2)\n",
            "Requirement already satisfied: executing>=1.2.0 in /usr/local/google/home/fmalone/.virtualenvs/qualtran/lib/python3.11/site-packages (from stack-data->ipython->qualtran) (2.0.1)\n",
            "Requirement already satisfied: asttokens>=2.1.0 in /usr/local/google/home/fmalone/.virtualenvs/qualtran/lib/python3.11/site-packages (from stack-data->ipython->qualtran) (2.4.1)\n",
            "Requirement already satisfied: pure-eval in /usr/local/google/home/fmalone/.virtualenvs/qualtran/lib/python3.11/site-packages (from stack-data->ipython->qualtran) (0.2.2)\n",
            "Requirement already satisfied: pyzmq>=23.0 in /usr/local/google/home/fmalone/.virtualenvs/qualtran/lib/python3.11/site-packages (from jupyter-client>=6.1.12->nbclient>=0.5.0->nbconvert->qualtran) (26.0.3)\n",
            "Requirement already satisfied: tornado>=6.2 in /usr/local/google/home/fmalone/.virtualenvs/qualtran/lib/python3.11/site-packages (from jupyter-client>=6.1.12->nbclient>=0.5.0->nbconvert->qualtran) (6.4)\n",
            "Note: you may need to restart the kernel to use updated packages.\n"
          ]
        }
      ],
      "source": [
        "%pip install qualtran"
      ]
    },
    {
      "cell_type": "markdown",
      "metadata": {
        "id": "X1Qu1zJ6TppM"
      },
      "source": [
        "# Optimizing T Counts Given an Error Budget"
      ]
    },
    {
      "cell_type": "markdown",
      "metadata": {
        "id": "MifjXwVdTppR"
      },
      "source": [
        "Quantum algorithms typically only allow us to estimate properties to within some additive error $\\epsilon$. Oftentimes this error is made up of multiple sources. For example, trotterized quantum phase estimation introduces at least three sources of error [[1]](https://arxiv.org/abs/1902.10673): Trotter errors ($\\Delta_{TS}$) which arise from approximately representing the time evolution operator as a product of time evolution operators, circuit synthesis errors ($\\Delta_{HT}$) arising from synthesising single-qubit rotations to a given precision, and phase estimation errors ($\\Delta_{PE}$). Given an allowable error for our algorithm (the error budget), we can try to minimize the cost of phase estimation subject to the constraint that $\\epsilon \\ge \\Delta_{TS} + \\Delta_{HT} + \\Delta_{PE}$."
      ]
    },
    {
      "cell_type": "markdown",
      "metadata": {
        "id": "3ag61hTGTppW"
      },
      "source": [
        "In this tutorial we will use qualtran to produce an expression for the symbolic T cost of Trotterization which can then be optimized subject to this constraint. We will focus on a simplified version of the analysis given in [Early fault-tolerant simulations of the Hubbard model](https://arxiv.org/abs/2012.09238). To do so we will:\n",
        "\n",
        "1. Define high level bloqs which implement the unitaries necessary for the trotter decomposition. The goal here is just to capture costs. \n",
        "2. Define a bloq which implements the trotterized unitary using Step 1.\n",
        "3. Define a phase estimation bloq which accepts your unitary.\n",
        "4. Produce a symbolic cost estimate in terms of these errors and the system parameters ($L$).  \n",
        "5. (Optional) Numerically optimize the T-counts"
      ]
    },
    {
      "cell_type": "markdown",
      "metadata": {
        "id": "sRuY_1N1TppX"
      },
      "source": [
        "## 1. Hubbard Model Trotter Bloqs\n",
        "\n",
        "The Hubbard model is given as\n",
        "\n",
        "$$\n",
        "    H = H_I + H_h\n",
        "$$\n",
        "where\n",
        "$H_I$\n",
        "$$\n",
        "H_I = U \\sum_i n_{i\\uparrow}n_{i\\downarrow}\n",
        "$$\n",
        "and\n",
        "$$\n",
        "H_h = -\\tau \\sum_\\sigma \\sum_{\\langle i, j\\rangle} a_{i\\sigma}^\\dagger a_{i\\sigma} + \\mathrm{h.c.}\n",
        "$$\n",
        "where $a_{i\\sigma}^\\dagger a_{i\\sigma}$ is a fermionic creation (annihilation) operator, $\\tau$ and $U$ are the hopping and Hubbard $U$ parameter respectively, and the sum $\\langle i, j\\rangle$ is over nearest neighbours.\n",
        "\n",
        "Following [the reference](https://arxiv.org/abs/1902.10673), we will further write\n",
        "\n",
        "$$\n",
        "H_h = H_h^p + H_h^g\n",
        "$$\n",
        "\n",
        "as a sum over \"pink\" and \"gold\" plaquettes (these are just alternating square patches, the union of which tiles the 2D lattice). The details do not matter much here, but using this Hamiltonian one arrives at the Strang splitting Trotter formula\n",
        "\n",
        "$$\n",
        "U = e^{-i t H} \\approx e^{-it/2 H_I} e^{-it/2 H_h^p} e^{-it H_h^g} e^{i t/2 H_h^p} e^{-it H_h}.\n",
        "$$\n",
        "\n",
        "Your first task is to write the bloqs defining $U_I=e^{-it H_I}$ and $U_h = e^{-it H_h^{p/g}}$. In this tutorial we are only really interested in costs so you don't need to worry about the details of how you might implement the decompositions.\n"
      ]
    },
    {
      "cell_type": "code",
      "execution_count": 2,
      "metadata": {
        "id": "BdtP7F4iupaX"
      },
      "outputs": [],
      "source": [
        "import attrs\n",
        "import sympy\n",
        "from functools import cached_property\n",
        "from typing import Set, Dict, Tuple\n",
        "\n",
        "from qualtran import Bloq, QAny, QBit, Register, Signature, BloqBuilder, SoquetT\n",
        "from qualtran.symbolics import SymbolicFloat, SymbolicInt\n",
        "from qualtran.resource_counting import BloqCountT, SympySymbolAllocator"
      ]
    },
    {
      "cell_type": "code",
      "execution_count": 3,
      "metadata": {
        "id": "C2DGrqBBt1hm"
      },
      "outputs": [],
      "source": [
        "# TODO: import the relevant gates you need (hint rotations, t_gate)\n",
        "from qualtran.bloqs.basic_gates import TGate, Rz\n",
        "\n",
        "@attrs.frozen\n",
        "class HubbardHopping(Bloq):\n",
        "    r\"\"\"Bloq implementing the one-body hopping unitary.\n",
        "\n",
        "    Args:\n",
        "        length: Lattice side length L.\n",
        "        angle: The prefactor scaling the Hopping hamiltonian in the unitary (`t` above).\n",
        "            This should contain any relevant prefactors including the time step\n",
        "            and any splitting coefficients.\n",
        "        hubb_t: The Hopping hamiltonian parameter. Typically the hubbard model is\n",
        "            defined relative to $t$ so it's defaulted to 1.\n",
        "        eps: The precision of the single qubit rotations.\n",
        "        pink: Whether the bloq is for the pink or gold plaquettes. This is sort of irrelevant\n",
        "            for this tutorial but a real implementation would need to know this.\n",
        "\n",
        "\n",
        "    Registers:\n",
        "       system: The system register of size 2 `length`. 2 is for spin.\n",
        "\n",
        "    References:\n",
        "        [Early fault-tolerant simulations of the Hubbard model](https://arxiv.org/abs/2012.09238)\n",
        "            see Eq. 21 and App E.\n",
        "    \"\"\"\n",
        "\n",
        "    length: SymbolicInt\n",
        "    angle: SymbolicFloat\n",
        "    hubb_t: SymbolicFloat\n",
        "    eps: SymbolicFloat\n",
        "    pink: bool = True\n",
        "\n",
        "    @cached_property\n",
        "    def signature(self) -> Signature:\n",
        "        return Signature([Register('system', QAny(self.length), shape=(2,))])\n",
        "\n",
        "    def __str__(self) -> str:\n",
        "        pink_or_gold = 'p' if self.pink else 'g'\n",
        "        return f'U_h^{pink_or_gold}'\n",
        "\n",
        "    def build_call_graph(self, ssa: 'SympySymbolAllocator') -> Set['BloqCountT']:\n",
        "        # From page 14 of the reference, end of first paragraph:\n",
        "        # For each hopping plaquette there are 2 arbitrary RZ rotations and 8 T gates\n",
        "        # There are L^2 / 2 plaquettes of each colour when spin is accounted for.\n",
        "        # Thus the cost should be 4 L^2 T gates and L^2 Rz rotations\n",
        "        # The angle for the Rz rotation is just 2 * self.t * self.angle, with\n",
        "        # the 2 accounting for the definition of the Rz gate.\n",
        "        # TODO: Return bloq counts\n",
        "        # return {}\n",
        "        return {(TGate(), 4 * self.length**2), (Rz(angle=2 * self.hubb_t*self.angle, eps=self.eps), self.length**2)}"
      ]
    },
    {
      "cell_type": "code",
      "execution_count": 4,
      "metadata": {
        "id": "teo9qvmCGxe1"
      },
      "outputs": [],
      "source": [
        "@attrs.frozen\n",
        "class HubbardInteraction(Bloq):\n",
        "    r\"\"\"Bloq implementing the Hubbard U unitary.\n",
        "\n",
        "    Args:\n",
        "        length: Lattice side length L.\n",
        "        angle: The prefactor scaling the Hopping hamiltonian in the unitary (`t` above).\n",
        "            This should contain any relevant prefactors including the time step\n",
        "            and any splitting coefficients.\n",
        "        hubb_u: The hubbard U parameter.\n",
        "        eps: The precision of the single qubit rotations.\n",
        "\n",
        "\n",
        "    Registers:\n",
        "       system: The system register of size 2 `length`.\n",
        "\n",
        "    References:\n",
        "        [Early fault-tolerant simulations of the Hubbard model](https://arxiv.org/abs/2012.09238)\n",
        "    \"\"\"\n",
        "\n",
        "    length: SymbolicInt\n",
        "    angle: SymbolicFloat\n",
        "    hubb_u: SymbolicFloat\n",
        "    eps: SymbolicFloat\n",
        "\n",
        "    @cached_property\n",
        "    def signature(self) -> Signature:\n",
        "        return Signature([Register('system', QAny(self.length), shape=(2,))])\n",
        "\n",
        "    def __str__(self) -> str:\n",
        "        return 'U_I'\n",
        "\n",
        "    def build_call_graph(self, ssa: 'SympySymbolAllocator') -> Set['BloqCountT']:\n",
        "        # From page 13 of the reference, end of first paragraph right column:\n",
        "        # There are L^2 single qubit rotations\n",
        "        # TODO: Return bloq counts\n",
        "        return {(Rz(angle=2 * self.hubb_u*self.angle, eps=self.eps), self.length**2)}"
      ]
    },
    {
      "cell_type": "markdown",
      "metadata": {},
      "source": [
        "## 2. Implement a Trotter step\n",
        "\n",
        "Next we will write a bloq to implement a single trotter step "
      ]
    },
    {
      "cell_type": "code",
      "execution_count": 5,
      "metadata": {},
      "outputs": [],
      "source": [
        "@attrs.frozen\n",
        "class TrotterStep(Bloq):\n",
        "    r\"\"\"Bloq implementing a single Trotter step for the plaq Hubbard Hamiltonian.\n",
        "\n",
        "    Builds\n",
        "    \n",
        "    $$\n",
        "        U \\approx e^{-it/2 H_I} e^{-it/2 H_h^p} e^{-it H_h^g} e^{i t/2 H_h^p} e^{-it/2 H_I} (*)\n",
        "    $$ \n",
        "\n",
        "    Args:\n",
        "        hubb_h: The Hubbard model hopping unitary.\n",
        "        hubb_i: The Hubbard model interaction unitary.\n",
        "        timestep: The timestep $t$.\n",
        "\n",
        "    Registers:\n",
        "       system: The system register of size 2 `length`.\n",
        "\n",
        "    References:\n",
        "        [Early fault-tolerant simulations of the Hubbard model](https://arxiv.org/abs/2012.09238)\n",
        "    \"\"\"\n",
        "    hubb_h: HubbardHopping \n",
        "    hubb_i: HubbardInteraction\n",
        "    timestep: SymbolicFloat\n",
        "\n",
        "    @cached_property\n",
        "    def signature(self) -> Signature:\n",
        "        return Signature([Register('system', QAny(self.hubb_h.length), shape=(2,))])\n",
        "\n",
        "    def __str__(self) -> str:\n",
        "        return f'U(H_H)'\n",
        "\n",
        "    def build_composite_bloq(self, bb: 'BloqBuilder', **soqs: SoquetT) -> Dict[str, 'SoquetT']:\n",
        "        # TODO: Wire up the bloq\n",
        "        # Given your implementations of the Hubbard U unitary and hopping unitaries construct the bloq implementing\n",
        "        # (*) from the docstring\n",
        "        # e.g.\n",
        "        # There is a factor of two in the angle due to the definition of the Rz(a) = e^{-i a Z t / 2}\n",
        "        soqs |= bb.add_d(attrs.evolve(self.hubb_i, angle=0.5 * self.timestep), **soqs)\n",
        "        soqs |= bb.add_d(attrs.evolve(self.hubb_h, angle=0.5 * self.timestep, pink=True), **soqs)\n",
        "        soqs |= bb.add_d(attrs.evolve(self.hubb_h, angle=self.timestep, pink=False), **soqs)\n",
        "        soqs |= bb.add_d(attrs.evolve(self.hubb_h, angle=0.5 * self.timestep, pink=True), **soqs)\n",
        "        soqs |= bb.add_d(attrs.evolve(self.hubb_i, angle=0.5 * self.timestep), **soqs)\n",
        "        return soqs"
      ]
    },
    {
      "cell_type": "markdown",
      "metadata": {},
      "source": [
        "## 3. Determine the Trotter step cost\n",
        "\n",
        "Given your implementation of $U$ we can now assess the costs. First define the relevant symbols:"
      ]
    },
    {
      "cell_type": "code",
      "execution_count": 6,
      "metadata": {
        "id": "-3PJtQJMTppg"
      },
      "outputs": [],
      "source": [
        "eps_r, length, hubb_u, timestep, hubb_t = sympy.symbols(r'\\epsilon_{R}, L, u, t, \\tau')\n",
        "delta_ht, delta_ts, delta_pe, p, xi = sympy.symbols(\n",
        "    '\\Delta_{HT}, \\Delta_{TS}, \\Delta_{PE} p, xi'\n",
        ")"
      ]
    },
    {
      "cell_type": "code",
      "execution_count": 7,
      "metadata": {},
      "outputs": [
        {
          "data": {
            "image/svg+xml": [
              "<svg xmlns=\"http://www.w3.org/2000/svg\" xmlns:xlink=\"http://www.w3.org/1999/xlink\" width=\"677pt\" height=\"98pt\" viewBox=\"0.00 0.00 677.00 98.00\">\n",
              "<g id=\"graph0\" class=\"graph\" transform=\"scale(1 1) rotate(0) translate(4 94)\">\n",
              "<title>my_graph</title>\n",
              "<polygon fill=\"white\" stroke=\"transparent\" points=\"-4,4 -4,-94 673,-94 673,4 -4,4\"/>\n",
              "<!-- system_G20 -->\n",
              "<g id=\"node1\" class=\"node\">\n",
              "<title>system_G20</title>\n",
              "<text text-anchor=\"middle\" x=\"35.5\" y=\"-68.3\" font-family=\"Times,serif\" font-size=\"14.00\">system[0]</text>\n",
              "</g>\n",
              "<!-- HubbardInteraction_G1 -->\n",
              "<g id=\"node5\" class=\"node\">\n",
              "<title>HubbardInteraction_G1</title>\n",
              "<polygon fill=\"none\" stroke=\"black\" points=\"108.5,-66 108.5,-83 169.5,-83 169.5,-66 108.5,-66\"/>\n",
              "<text text-anchor=\"start\" x=\"131\" y=\"-72\" font-family=\"Times,serif\" font-size=\"10.00\">U_I</text>\n",
              "<polygon fill=\"none\" stroke=\"black\" points=\"108.5,-45 108.5,-66 169.5,-66 169.5,-45 108.5,-45\"/>\n",
              "<text text-anchor=\"start\" x=\"111.5\" y=\"-51.8\" font-family=\"Times,serif\" font-size=\"14.00\">system[0]</text>\n",
              "<polygon fill=\"none\" stroke=\"black\" points=\"108.5,-24 108.5,-45 169.5,-45 169.5,-24 108.5,-24\"/>\n",
              "<text text-anchor=\"start\" x=\"111.5\" y=\"-30.8\" font-family=\"Times,serif\" font-size=\"14.00\">system[1]</text>\n",
              "</g>\n",
              "<!-- system_G20&#45;&gt;HubbardInteraction_G1 -->\n",
              "<g id=\"edge1\" class=\"edge\">\n",
              "<title>system_G20:e-&gt;HubbardInteraction_G1:w</title>\n",
              "<path fill=\"none\" stroke=\"black\" d=\"M71,-72C88.22,-72 89.97,-57.23 105.98,-56.07\"/>\n",
              "<ellipse fill=\"black\" stroke=\"black\" cx=\"107\" cy=\"-56.04\" rx=\"1\" ry=\"1\"/>\n",
              "<text text-anchor=\"middle\" x=\"89.5\" y=\"-67\" font-family=\"Times,serif\" font-size=\"10.00\">L</text>\n",
              "</g>\n",
              "<!-- system_G17 -->\n",
              "<g id=\"node2\" class=\"node\">\n",
              "<title>system_G17</title>\n",
              "<text text-anchor=\"middle\" x=\"35.5\" y=\"-14.3\" font-family=\"Times,serif\" font-size=\"14.00\">system[1]</text>\n",
              "</g>\n",
              "<!-- system_G17&#45;&gt;HubbardInteraction_G1 -->\n",
              "<g id=\"edge2\" class=\"edge\">\n",
              "<title>system_G17:e-&gt;HubbardInteraction_G1:w</title>\n",
              "<path fill=\"none\" stroke=\"black\" d=\"M71,-18C88.22,-18 89.97,-32.77 105.98,-33.93\"/>\n",
              "<ellipse fill=\"black\" stroke=\"black\" cx=\"107\" cy=\"-33.96\" rx=\"1\" ry=\"1\"/>\n",
              "<text text-anchor=\"middle\" x=\"89.5\" y=\"-29\" font-family=\"Times,serif\" font-size=\"10.00\">L</text>\n",
              "</g>\n",
              "<!-- HubbardInteraction -->\n",
              "<g id=\"node3\" class=\"node\">\n",
              "<title>HubbardInteraction</title>\n",
              "<polygon fill=\"none\" stroke=\"black\" points=\"500.5,-66 500.5,-83 561.5,-83 561.5,-66 500.5,-66\"/>\n",
              "<text text-anchor=\"start\" x=\"523\" y=\"-72\" font-family=\"Times,serif\" font-size=\"10.00\">U_I</text>\n",
              "<polygon fill=\"none\" stroke=\"black\" points=\"500.5,-45 500.5,-66 561.5,-66 561.5,-45 500.5,-45\"/>\n",
              "<text text-anchor=\"start\" x=\"503.5\" y=\"-51.8\" font-family=\"Times,serif\" font-size=\"14.00\">system[0]</text>\n",
              "<polygon fill=\"none\" stroke=\"black\" points=\"500.5,-24 500.5,-45 561.5,-45 561.5,-24 500.5,-24\"/>\n",
              "<text text-anchor=\"start\" x=\"503.5\" y=\"-30.8\" font-family=\"Times,serif\" font-size=\"14.00\">system[1]</text>\n",
              "</g>\n",
              "<!-- system_G15 -->\n",
              "<g id=\"node8\" class=\"node\">\n",
              "<title>system_G15</title>\n",
              "<text text-anchor=\"middle\" x=\"633.5\" y=\"-68.3\" font-family=\"Times,serif\" font-size=\"14.00\">system[0]</text>\n",
              "</g>\n",
              "<!-- HubbardInteraction&#45;&gt;system_G15 -->\n",
              "<g id=\"edge11\" class=\"edge\">\n",
              "<title>HubbardInteraction:e-&gt;system_G15:w</title>\n",
              "<path fill=\"none\" stroke=\"black\" d=\"M561,-56C578.22,-56 579.97,-70.77 595.98,-71.93\"/>\n",
              "<ellipse fill=\"black\" stroke=\"black\" cx=\"597\" cy=\"-71.96\" rx=\"1\" ry=\"1\"/>\n",
              "<text text-anchor=\"middle\" x=\"579.5\" y=\"-67\" font-family=\"Times,serif\" font-size=\"10.00\">L</text>\n",
              "</g>\n",
              "<!-- system_G12 -->\n",
              "<g id=\"node9\" class=\"node\">\n",
              "<title>system_G12</title>\n",
              "<text text-anchor=\"middle\" x=\"633.5\" y=\"-14.3\" font-family=\"Times,serif\" font-size=\"14.00\">system[1]</text>\n",
              "</g>\n",
              "<!-- HubbardInteraction&#45;&gt;system_G12 -->\n",
              "<g id=\"edge12\" class=\"edge\">\n",
              "<title>HubbardInteraction:e-&gt;system_G12:w</title>\n",
              "<path fill=\"none\" stroke=\"black\" d=\"M561,-34C578.22,-34 579.97,-19.23 595.98,-18.07\"/>\n",
              "<ellipse fill=\"black\" stroke=\"black\" cx=\"597\" cy=\"-18.04\" rx=\"1\" ry=\"1\"/>\n",
              "<text text-anchor=\"middle\" x=\"579.5\" y=\"-29\" font-family=\"Times,serif\" font-size=\"10.00\">L</text>\n",
              "</g>\n",
              "<!-- HubbardHopping -->\n",
              "<g id=\"node4\" class=\"node\">\n",
              "<title>HubbardHopping</title>\n",
              "<polygon fill=\"none\" stroke=\"black\" points=\"206.5,-66 206.5,-83 267.5,-83 267.5,-66 206.5,-66\"/>\n",
              "<text text-anchor=\"start\" x=\"223\" y=\"-72\" font-family=\"Times,serif\" font-size=\"10.00\">U_h^p</text>\n",
              "<polygon fill=\"none\" stroke=\"black\" points=\"206.5,-45 206.5,-66 267.5,-66 267.5,-45 206.5,-45\"/>\n",
              "<text text-anchor=\"start\" x=\"209.5\" y=\"-51.8\" font-family=\"Times,serif\" font-size=\"14.00\">system[0]</text>\n",
              "<polygon fill=\"none\" stroke=\"black\" points=\"206.5,-24 206.5,-45 267.5,-45 267.5,-24 206.5,-24\"/>\n",
              "<text text-anchor=\"start\" x=\"209.5\" y=\"-30.8\" font-family=\"Times,serif\" font-size=\"14.00\">system[1]</text>\n",
              "</g>\n",
              "<!-- HubbardHopping_G5 -->\n",
              "<g id=\"node7\" class=\"node\">\n",
              "<title>HubbardHopping_G5</title>\n",
              "<polygon fill=\"none\" stroke=\"black\" points=\"304.5,-66 304.5,-83 365.5,-83 365.5,-66 304.5,-66\"/>\n",
              "<text text-anchor=\"start\" x=\"321\" y=\"-72\" font-family=\"Times,serif\" font-size=\"10.00\">U_h^g</text>\n",
              "<polygon fill=\"none\" stroke=\"black\" points=\"304.5,-45 304.5,-66 365.5,-66 365.5,-45 304.5,-45\"/>\n",
              "<text text-anchor=\"start\" x=\"307.5\" y=\"-51.8\" font-family=\"Times,serif\" font-size=\"14.00\">system[0]</text>\n",
              "<polygon fill=\"none\" stroke=\"black\" points=\"304.5,-24 304.5,-45 365.5,-45 365.5,-24 304.5,-24\"/>\n",
              "<text text-anchor=\"start\" x=\"307.5\" y=\"-30.8\" font-family=\"Times,serif\" font-size=\"14.00\">system[1]</text>\n",
              "</g>\n",
              "<!-- HubbardHopping&#45;&gt;HubbardHopping_G5 -->\n",
              "<g id=\"edge5\" class=\"edge\">\n",
              "<title>HubbardHopping:e-&gt;HubbardHopping_G5:w</title>\n",
              "<path fill=\"none\" stroke=\"black\" d=\"M267,-56C282.67,-56 287.14,-56 301.77,-56\"/>\n",
              "<ellipse fill=\"black\" stroke=\"black\" cx=\"303\" cy=\"-56\" rx=\"1\" ry=\"1\"/>\n",
              "<text text-anchor=\"middle\" x=\"285.5\" y=\"-59\" font-family=\"Times,serif\" font-size=\"10.00\">L</text>\n",
              "</g>\n",
              "<!-- HubbardHopping&#45;&gt;HubbardHopping_G5 -->\n",
              "<g id=\"edge6\" class=\"edge\">\n",
              "<title>HubbardHopping:e-&gt;HubbardHopping_G5:w</title>\n",
              "<path fill=\"none\" stroke=\"black\" d=\"M267,-34C282.67,-34 287.14,-34 301.77,-34\"/>\n",
              "<ellipse fill=\"black\" stroke=\"black\" cx=\"303\" cy=\"-34\" rx=\"1\" ry=\"1\"/>\n",
              "<text text-anchor=\"middle\" x=\"285.5\" y=\"-38\" font-family=\"Times,serif\" font-size=\"10.00\">L</text>\n",
              "</g>\n",
              "<!-- HubbardInteraction_G1&#45;&gt;HubbardHopping -->\n",
              "<g id=\"edge3\" class=\"edge\">\n",
              "<title>HubbardInteraction_G1:e-&gt;HubbardHopping:w</title>\n",
              "<path fill=\"none\" stroke=\"black\" d=\"M169,-56C184.67,-56 189.14,-56 203.77,-56\"/>\n",
              "<ellipse fill=\"black\" stroke=\"black\" cx=\"205\" cy=\"-56\" rx=\"1\" ry=\"1\"/>\n",
              "<text text-anchor=\"middle\" x=\"187.5\" y=\"-59\" font-family=\"Times,serif\" font-size=\"10.00\">L</text>\n",
              "</g>\n",
              "<!-- HubbardInteraction_G1&#45;&gt;HubbardHopping -->\n",
              "<g id=\"edge4\" class=\"edge\">\n",
              "<title>HubbardInteraction_G1:e-&gt;HubbardHopping:w</title>\n",
              "<path fill=\"none\" stroke=\"black\" d=\"M169,-34C184.67,-34 189.14,-34 203.77,-34\"/>\n",
              "<ellipse fill=\"black\" stroke=\"black\" cx=\"205\" cy=\"-34\" rx=\"1\" ry=\"1\"/>\n",
              "<text text-anchor=\"middle\" x=\"187.5\" y=\"-38\" font-family=\"Times,serif\" font-size=\"10.00\">L</text>\n",
              "</g>\n",
              "<!-- HubbardHopping_G3 -->\n",
              "<g id=\"node6\" class=\"node\">\n",
              "<title>HubbardHopping_G3</title>\n",
              "<polygon fill=\"none\" stroke=\"black\" points=\"402.5,-66 402.5,-83 463.5,-83 463.5,-66 402.5,-66\"/>\n",
              "<text text-anchor=\"start\" x=\"419\" y=\"-72\" font-family=\"Times,serif\" font-size=\"10.00\">U_h^p</text>\n",
              "<polygon fill=\"none\" stroke=\"black\" points=\"402.5,-45 402.5,-66 463.5,-66 463.5,-45 402.5,-45\"/>\n",
              "<text text-anchor=\"start\" x=\"405.5\" y=\"-51.8\" font-family=\"Times,serif\" font-size=\"14.00\">system[0]</text>\n",
              "<polygon fill=\"none\" stroke=\"black\" points=\"402.5,-24 402.5,-45 463.5,-45 463.5,-24 402.5,-24\"/>\n",
              "<text text-anchor=\"start\" x=\"405.5\" y=\"-30.8\" font-family=\"Times,serif\" font-size=\"14.00\">system[1]</text>\n",
              "</g>\n",
              "<!-- HubbardHopping_G3&#45;&gt;HubbardInteraction -->\n",
              "<g id=\"edge9\" class=\"edge\">\n",
              "<title>HubbardHopping_G3:e-&gt;HubbardInteraction:w</title>\n",
              "<path fill=\"none\" stroke=\"black\" d=\"M463,-56C478.67,-56 483.14,-56 497.77,-56\"/>\n",
              "<ellipse fill=\"black\" stroke=\"black\" cx=\"499\" cy=\"-56\" rx=\"1\" ry=\"1\"/>\n",
              "<text text-anchor=\"middle\" x=\"481.5\" y=\"-59\" font-family=\"Times,serif\" font-size=\"10.00\">L</text>\n",
              "</g>\n",
              "<!-- HubbardHopping_G3&#45;&gt;HubbardInteraction -->\n",
              "<g id=\"edge10\" class=\"edge\">\n",
              "<title>HubbardHopping_G3:e-&gt;HubbardInteraction:w</title>\n",
              "<path fill=\"none\" stroke=\"black\" d=\"M463,-34C478.67,-34 483.14,-34 497.77,-34\"/>\n",
              "<ellipse fill=\"black\" stroke=\"black\" cx=\"499\" cy=\"-34\" rx=\"1\" ry=\"1\"/>\n",
              "<text text-anchor=\"middle\" x=\"481.5\" y=\"-38\" font-family=\"Times,serif\" font-size=\"10.00\">L</text>\n",
              "</g>\n",
              "<!-- HubbardHopping_G5&#45;&gt;HubbardHopping_G3 -->\n",
              "<g id=\"edge7\" class=\"edge\">\n",
              "<title>HubbardHopping_G5:e-&gt;HubbardHopping_G3:w</title>\n",
              "<path fill=\"none\" stroke=\"black\" d=\"M365,-56C380.67,-56 385.14,-56 399.77,-56\"/>\n",
              "<ellipse fill=\"black\" stroke=\"black\" cx=\"401\" cy=\"-56\" rx=\"1\" ry=\"1\"/>\n",
              "<text text-anchor=\"middle\" x=\"383.5\" y=\"-59\" font-family=\"Times,serif\" font-size=\"10.00\">L</text>\n",
              "</g>\n",
              "<!-- HubbardHopping_G5&#45;&gt;HubbardHopping_G3 -->\n",
              "<g id=\"edge8\" class=\"edge\">\n",
              "<title>HubbardHopping_G5:e-&gt;HubbardHopping_G3:w</title>\n",
              "<path fill=\"none\" stroke=\"black\" d=\"M365,-34C380.67,-34 385.14,-34 399.77,-34\"/>\n",
              "<ellipse fill=\"black\" stroke=\"black\" cx=\"401\" cy=\"-34\" rx=\"1\" ry=\"1\"/>\n",
              "<text text-anchor=\"middle\" x=\"383.5\" y=\"-38\" font-family=\"Times,serif\" font-size=\"10.00\">L</text>\n",
              "</g>\n",
              "</g>\n",
              "</svg>"
            ],
            "text/plain": [
              "<IPython.core.display.SVG object>"
            ]
          },
          "metadata": {},
          "output_type": "display_data"
        },
        {
          "data": {
            "image/svg+xml": [
              "<svg xmlns=\"http://www.w3.org/2000/svg\" xmlns:xlink=\"http://www.w3.org/1999/xlink\" width=\"1127pt\" height=\"233pt\" viewBox=\"0.00 0.00 1127.00 233.00\">\n",
              "<g id=\"graph0\" class=\"graph\" transform=\"scale(1 1) rotate(0) translate(4 229)\">\n",
              "<title>counts</title>\n",
              "<polygon fill=\"white\" stroke=\"transparent\" points=\"-4,4 -4,-229 1123,-229 1123,4 -4,4\"/>\n",
              "<!-- b0 -->\n",
              "<g id=\"node1\" class=\"node\">\n",
              "<title>b0</title>\n",
              "<polygon fill=\"none\" stroke=\"black\" points=\"757,-225 428,-225 428,-189 757,-189 757,-225\"/>\n",
              "<text text-anchor=\"start\" x=\"561.5\" y=\"-208.8\" font-family=\"Times,serif\" font-size=\"14.00\">TrotterStep</text>\n",
              "<text text-anchor=\"start\" x=\"436\" y=\"-198\" font-family=\"monospace\" font-size=\"10.00\">hubb_h=HubbardH ..., hubb_i=HubbardI ..., timestep=t</text>\n",
              "</g>\n",
              "<!-- b1 -->\n",
              "<g id=\"node2\" class=\"node\">\n",
              "<title>b1</title>\n",
              "<polygon fill=\"none\" stroke=\"black\" points=\"377,-138 0,-138 0,-102 377,-102 377,-138\"/>\n",
              "<text text-anchor=\"start\" x=\"141\" y=\"-121.8\" font-family=\"Times,serif\" font-size=\"14.00\">HubbardHopping</text>\n",
              "<text text-anchor=\"start\" x=\"8\" y=\"-111\" font-family=\"monospace\" font-size=\"10.00\">length=L, angle=t, hubb_t=\\tau, eps=\\epsilon_{R}, pink=False</text>\n",
              "</g>\n",
              "<!-- b0&#45;&gt;b1 -->\n",
              "<g id=\"edge1\" class=\"edge\">\n",
              "<title>b0-&gt;b1</title>\n",
              "<path fill=\"none\" stroke=\"black\" d=\"M511.23,-188.9C444.25,-174.81 349.29,-154.83 279.71,-140.19\"/>\n",
              "<polygon fill=\"black\" stroke=\"black\" points=\"280.15,-136.71 269.64,-138.07 278.7,-143.56 280.15,-136.71\"/>\n",
              "<text text-anchor=\"middle\" x=\"419\" y=\"-159.8\" font-family=\"Times,serif\" font-size=\"14.00\">1</text>\n",
              "</g>\n",
              "<!-- b2 -->\n",
              "<g id=\"node3\" class=\"node\">\n",
              "<title>b2</title>\n",
              "<polygon fill=\"none\" stroke=\"black\" points=\"790,-138 395,-138 395,-102 790,-102 790,-138\"/>\n",
              "<text text-anchor=\"start\" x=\"545\" y=\"-121.8\" font-family=\"Times,serif\" font-size=\"14.00\">HubbardHopping</text>\n",
              "<text text-anchor=\"start\" x=\"403\" y=\"-111\" font-family=\"monospace\" font-size=\"10.00\">length=L, angle=0.5*t, hubb_t=\\tau, eps=\\epsilon_{R}, pink=True</text>\n",
              "</g>\n",
              "<!-- b0&#45;&gt;b2 -->\n",
              "<g id=\"edge2\" class=\"edge\">\n",
              "<title>b0-&gt;b2</title>\n",
              "<path fill=\"none\" stroke=\"black\" d=\"M592.5,-188.8C592.5,-177.16 592.5,-161.55 592.5,-148.24\"/>\n",
              "<polygon fill=\"black\" stroke=\"black\" points=\"596,-148.18 592.5,-138.18 589,-148.18 596,-148.18\"/>\n",
              "<text text-anchor=\"middle\" x=\"596\" y=\"-159.8\" font-family=\"Times,serif\" font-size=\"14.00\">2</text>\n",
              "</g>\n",
              "<!-- b3 -->\n",
              "<g id=\"node4\" class=\"node\">\n",
              "<title>b3</title>\n",
              "<polygon fill=\"none\" stroke=\"black\" points=\"1119,-138 808,-138 808,-102 1119,-102 1119,-138\"/>\n",
              "<text text-anchor=\"start\" x=\"910.5\" y=\"-121.8\" font-family=\"Times,serif\" font-size=\"14.00\">HubbardInteraction</text>\n",
              "<text text-anchor=\"start\" x=\"816\" y=\"-111\" font-family=\"monospace\" font-size=\"10.00\">length=L, angle=0.5*t, hubb_u=u, eps=\\epsilon_{R}</text>\n",
              "</g>\n",
              "<!-- b0&#45;&gt;b3 -->\n",
              "<g id=\"edge3\" class=\"edge\">\n",
              "<title>b0-&gt;b3</title>\n",
              "<path fill=\"none\" stroke=\"black\" d=\"M667.13,-188.9C728.39,-174.87 815.13,-154.99 878.95,-140.37\"/>\n",
              "<polygon fill=\"black\" stroke=\"black\" points=\"880.02,-143.72 888.99,-138.07 878.46,-136.89 880.02,-143.72\"/>\n",
              "<text text-anchor=\"middle\" x=\"804\" y=\"-159.8\" font-family=\"Times,serif\" font-size=\"14.00\">2</text>\n",
              "</g>\n",
              "<!-- b4 -->\n",
              "<g id=\"node5\" class=\"node\">\n",
              "<title>b4</title>\n",
              "<polygon fill=\"none\" stroke=\"black\" points=\"293,-36 84,-36 84,0 293,0 293,-36\"/>\n",
              "<text text-anchor=\"start\" x=\"180.5\" y=\"-19.8\" font-family=\"Times,serif\" font-size=\"14.00\">Rz</text>\n",
              "<text text-anchor=\"start\" x=\"92\" y=\"-9\" font-family=\"monospace\" font-size=\"10.00\">angle=2*\\tau*t, eps=\\epsilon_{R}</text>\n",
              "</g>\n",
              "<!-- b1&#45;&gt;b4 -->\n",
              "<g id=\"edge5\" class=\"edge\">\n",
              "<title>b1-&gt;b4</title>\n",
              "<path fill=\"none\" stroke=\"black\" d=\"M188.5,-101.58C188.5,-86.38 188.5,-64.07 188.5,-46.46\"/>\n",
              "<polygon fill=\"black\" stroke=\"black\" points=\"192,-46.22 188.5,-36.22 185,-46.22 192,-46.22\"/>\n",
              "<text text-anchor=\"middle\" x=\"194.5\" y=\"-72.8\" font-family=\"Times,serif\" font-size=\"14.00\"> 2</text>\n",
              "<text text-anchor=\"middle\" x=\"194.5\" y=\"-57.8\" font-family=\"Times,serif\" font-size=\"14.00\">L </text>\n",
              "</g>\n",
              "<!-- b5 -->\n",
              "<g id=\"node6\" class=\"node\">\n",
              "<title>b5</title>\n",
              "<polygon fill=\"none\" stroke=\"black\" points=\"444,-36 331,-36 331,0 444,0 444,-36\"/>\n",
              "<text text-anchor=\"start\" x=\"383\" y=\"-19.8\" font-family=\"Times,serif\" font-size=\"14.00\">T</text>\n",
              "<text text-anchor=\"start\" x=\"339\" y=\"-9\" font-family=\"monospace\" font-size=\"10.00\">is_adjoint=False</text>\n",
              "</g>\n",
              "<!-- b1&#45;&gt;b5 -->\n",
              "<g id=\"edge4\" class=\"edge\">\n",
              "<title>b1-&gt;b5</title>\n",
              "<path fill=\"none\" stroke=\"black\" d=\"M222.71,-101.81C256.27,-84.94 307.58,-59.16 344.02,-40.85\"/>\n",
              "<polygon fill=\"black\" stroke=\"black\" points=\"346.04,-43.75 353.4,-36.13 342.9,-37.5 346.04,-43.75\"/>\n",
              "<text text-anchor=\"middle\" x=\"329\" y=\"-72.8\" font-family=\"Times,serif\" font-size=\"14.00\">   2</text>\n",
              "<text text-anchor=\"middle\" x=\"329\" y=\"-57.8\" font-family=\"Times,serif\" font-size=\"14.00\">4⋅L </text>\n",
              "</g>\n",
              "<!-- b2&#45;&gt;b5 -->\n",
              "<g id=\"edge6\" class=\"edge\">\n",
              "<title>b2-&gt;b5</title>\n",
              "<path fill=\"none\" stroke=\"black\" d=\"M557.26,-101.81C522.54,-84.87 469.38,-58.94 431.82,-40.62\"/>\n",
              "<polygon fill=\"black\" stroke=\"black\" points=\"433.15,-37.37 422.62,-36.13 430.08,-43.66 433.15,-37.37\"/>\n",
              "<text text-anchor=\"middle\" x=\"532\" y=\"-72.8\" font-family=\"Times,serif\" font-size=\"14.00\">   2</text>\n",
              "<text text-anchor=\"middle\" x=\"532\" y=\"-57.8\" font-family=\"Times,serif\" font-size=\"14.00\">4⋅L </text>\n",
              "</g>\n",
              "<!-- b6 -->\n",
              "<g id=\"node7\" class=\"node\">\n",
              "<title>b6</title>\n",
              "<polygon fill=\"none\" stroke=\"black\" points=\"703,-36 482,-36 482,0 703,0 703,-36\"/>\n",
              "<text text-anchor=\"start\" x=\"584.5\" y=\"-19.8\" font-family=\"Times,serif\" font-size=\"14.00\">Rz</text>\n",
              "<text text-anchor=\"start\" x=\"490\" y=\"-9\" font-family=\"monospace\" font-size=\"10.00\">angle=1.0*\\tau*t, eps=\\epsilon_{R}</text>\n",
              "</g>\n",
              "<!-- b2&#45;&gt;b6 -->\n",
              "<g id=\"edge7\" class=\"edge\">\n",
              "<title>b2-&gt;b6</title>\n",
              "<path fill=\"none\" stroke=\"black\" d=\"M592.5,-101.58C592.5,-86.38 592.5,-64.07 592.5,-46.46\"/>\n",
              "<polygon fill=\"black\" stroke=\"black\" points=\"596,-46.22 592.5,-36.22 589,-46.22 596,-46.22\"/>\n",
              "<text text-anchor=\"middle\" x=\"598.5\" y=\"-72.8\" font-family=\"Times,serif\" font-size=\"14.00\"> 2</text>\n",
              "<text text-anchor=\"middle\" x=\"598.5\" y=\"-57.8\" font-family=\"Times,serif\" font-size=\"14.00\">L </text>\n",
              "</g>\n",
              "<!-- b7 -->\n",
              "<g id=\"node8\" class=\"node\">\n",
              "<title>b7</title>\n",
              "<polygon fill=\"none\" stroke=\"black\" points=\"1065,-36 862,-36 862,0 1065,0 1065,-36\"/>\n",
              "<text text-anchor=\"start\" x=\"955.5\" y=\"-19.8\" font-family=\"Times,serif\" font-size=\"14.00\">Rz</text>\n",
              "<text text-anchor=\"start\" x=\"870\" y=\"-9\" font-family=\"monospace\" font-size=\"10.00\">angle=1.0*t*u, eps=\\epsilon_{R}</text>\n",
              "</g>\n",
              "<!-- b3&#45;&gt;b7 -->\n",
              "<g id=\"edge8\" class=\"edge\">\n",
              "<title>b3-&gt;b7</title>\n",
              "<path fill=\"none\" stroke=\"black\" d=\"M963.5,-101.58C963.5,-86.38 963.5,-64.07 963.5,-46.46\"/>\n",
              "<polygon fill=\"black\" stroke=\"black\" points=\"967,-46.22 963.5,-36.22 960,-46.22 967,-46.22\"/>\n",
              "<text text-anchor=\"middle\" x=\"969.5\" y=\"-72.8\" font-family=\"Times,serif\" font-size=\"14.00\"> 2</text>\n",
              "<text text-anchor=\"middle\" x=\"969.5\" y=\"-57.8\" font-family=\"Times,serif\" font-size=\"14.00\">L </text>\n",
              "</g>\n",
              "</g>\n",
              "</svg>"
            ],
            "text/plain": [
              "<IPython.core.display.SVG object>"
            ]
          },
          "metadata": {},
          "output_type": "display_data"
        }
      ],
      "source": [
        "# TODO: Instantiate your trotter step with the appropriate sympy variables\n",
        "# TODO: Visualize it to make sure it looks correct\n",
        "from qualtran.drawing import show_bloq, show_call_graph\n",
        "\n",
        "hubb_h = HubbardHopping(length, 0.5 * timestep, hubb_t, eps_r)\n",
        "hubb_i = HubbardInteraction(length, 0.5 * timestep, hubb_u, eps_r) \n",
        "trotter_step = TrotterStep(hubb_h, hubb_i, timestep)\n",
        "show_bloq(trotter_step.decompose_bloq())\n",
        "show_call_graph(trotter_step.call_graph()[0])"
      ]
    },
    {
      "cell_type": "markdown",
      "metadata": {},
      "source": [
        "Next we will replace some variables ($\\epsilon_R$) and $t$. For details see the appendix of this tutorial."
      ]
    },
    {
      "cell_type": "code",
      "execution_count": 8,
      "metadata": {
        "colab": {
          "base_uri": "https://localhost:8080/",
          "height": 58
        },
        "id": "HR0a9wfwTppg",
        "outputId": "7794f853-a095-40d6-c1bb-dceeeb098495"
      },
      "outputs": [],
      "source": [
        "from qualtran.resource_counting.t_counts_from_sigma import t_counts_from_sigma\n",
        "from qualtran.bloqs.basic_gates import Rz\n",
        "from qualtran.resource_counting.generalizers import PHI\n",
        "\n",
        "\n",
        "def catch_rotations(bloq) -> Bloq:\n",
        "    \"\"\"Generalizer to catch rotations.\"\"\"\n",
        "    if isinstance(bloq, Rz):\n",
        "        return Rz(angle=PHI, eps=bloq.eps)\n",
        "    return bloq\n",
        "\n",
        "def t_and_rot_counts(bloq: Bloq) -> Tuple[SymbolicInt, SymbolicInt]:\n",
        "    _, sigma = bloq.call_graph(generalizer=catch_rotations)\n",
        "    # TODO: compute (hint: get) the number of TGates\n",
        "    t_count = sigma.get(TGate(), 0)\n",
        "    n_rot = 0\n",
        "    # TODO: count the number of rotations\n",
        "    for bloq, counts in sigma.items():\n",
        "        if isinstance(bloq, Rz):\n",
        "            n_rot += counts\n",
        "    return t_count, n_rot\n",
        "\n",
        "# TODO: uncomment to compute the number of T gates and the number of rotations in a Trotter step\n",
        "n_t, n_rot = t_and_rot_counts(trotter_step)\n",
        "# see appendicies of tutorial for details\n",
        "timestep = (delta_ts / xi) ** (1/p)\n",
        "eps_r = delta_ht * timestep / n_rot"
      ]
    },
    {
      "cell_type": "markdown",
      "metadata": {},
      "source": [
        "Finally compute the total T count in terms of the free parameters $\\Delta_{TS}$ and $\\Delta_{HT}$ and compare to the quoted result above."
      ]
    },
    {
      "cell_type": "code",
      "execution_count": 9,
      "metadata": {},
      "outputs": [
        {
          "data": {
            "text/latex": [
              "$\\displaystyle 5 L^{2} \\left\\lceil{1.149 \\operatorname{log}_{2}{\\left(\\frac{5.0 L^{2} \\left(\\frac{\\Delta_{TS}}{\\xi}\\right)^{- \\frac{1}{p}}}{\\Delta_{HT}} \\right)} + 9.2}\\right\\rceil + 12 L^{2}$"
            ],
            "text/plain": [
              "5*L**2*ceiling(1.149*log2(5.0*L**2/(\\Delta_{HT}*(\\Delta_{TS}/xi)**(1/p))) + 9.2) + 12*L**2"
            ]
          },
          "execution_count": 9,
          "metadata": {},
          "output_type": "execute_result"
        }
      ],
      "source": [
        "# TODO Get the total t_counts:\n",
        "hubb_h = HubbardHopping(length, 0.5 * timestep, hubb_t, eps_r)\n",
        "hubb_i = HubbardInteraction(length, 0.5 * timestep, hubb_u, eps_r) \n",
        "trotter_step = TrotterStep(hubb_h, hubb_i, timestep)\n",
        "t_counts = t_counts_from_sigma(trotter_step.call_graph(generalizer=catch_rotations)[1])\n",
        "t_counts"
      ]
    },
    {
      "cell_type": "markdown",
      "metadata": {},
      "source": [
        "## 4. Add a simple phase estimation bloq"
      ]
    },
    {
      "cell_type": "code",
      "execution_count": 14,
      "metadata": {},
      "outputs": [],
      "source": [
        "from qualtran.symbolics import pi, ceil\n",
        "\n",
        "@attrs.frozen\n",
        "class AdaptivePhaseEstimation(Bloq):\n",
        "    r\"\"\"Bloq implementing adaptive phase estimation given a unitary $U$\n",
        "\n",
        "    Args:\n",
        "        unitary: Bloq implementing the unitary to perform phase estimation on.\n",
        "\n",
        "    Registers:\n",
        "       system: The system register of size 2 `length`.\n",
        "\n",
        "    References:\n",
        "        [Early fault-tolerant simulations of the Hubbard model](https://arxiv.org/abs/2012.09238)\n",
        "    \"\"\"\n",
        "    unitary: TrotterStep \n",
        "    timestep: SymbolicFloat\n",
        "    eps: SymbolicFloat\n",
        "\n",
        "    @cached_property\n",
        "    def signature(self) -> Signature:\n",
        "        return Signature([Register('control', QBit(), 'system', QAny(self.hubb_h.length), shape=(2,))])\n",
        "\n",
        "    def __str__(self) -> str:\n",
        "        return f'A-QPE'\n",
        "\n",
        "    @cached_property\n",
        "    def num_circuit_applications(self) -> SymbolicInt:\n",
        "        # TODO: write this function\n",
        "        # See https://arxiv.org/abs/1902.10673 page 8 Eq 9: N_PE = 0.76 pi / (eps * t) \n",
        "        return ceil(0.76 * pi(self.eps) / (self.eps * self.timestep))\n",
        "\n",
        "    def build_call_graph(self, ssa: 'SympySymbolAllocator') -> Set['BloqCountT']:\n",
        "        # TODO: Return the appropraite bloq counts \n",
        "        return {(self.unitary, self.num_circuit_applications)}\n",
        "    "
      ]
    },
    {
      "cell_type": "code",
      "execution_count": 15,
      "metadata": {},
      "outputs": [
        {
          "data": {
            "text/latex": [
              "$\\displaystyle 5 L^{2} \\left\\lceil{\\frac{0.76 \\pi \\left(\\frac{\\Delta_{TS}}{\\xi}\\right)^{- \\frac{1}{p}}}{\\Delta_{PE}}}\\right\\rceil \\left\\lceil{1.149 \\operatorname{log}_{2}{\\left(\\frac{5.0 L^{2} \\left(\\frac{\\Delta_{TS}}{\\xi}\\right)^{- \\frac{1}{p}}}{\\Delta_{HT}} \\right)} + 9.2}\\right\\rceil + 12 L^{2} \\left\\lceil{\\frac{0.76 \\pi \\left(\\frac{\\Delta_{TS}}{\\xi}\\right)^{- \\frac{1}{p}}}{\\Delta_{PE}}}\\right\\rceil$"
            ],
            "text/plain": [
              "5*L**2*ceiling(0.76*pi/(\\Delta_{PE}*(\\Delta_{TS}/xi)**(1/p)))*ceiling(1.149*log2(5.0*L**2/(\\Delta_{HT}*(\\Delta_{TS}/xi)**(1/p))) + 9.2) + 12*L**2*ceiling(0.76*pi/(\\Delta_{PE}*(\\Delta_{TS}/xi)**(1/p)))"
            ]
          },
          "execution_count": 15,
          "metadata": {},
          "output_type": "execute_result"
        }
      ],
      "source": [
        "phase_estimate = AdaptivePhaseEstimation(trotter_step, timestep, delta_pe)\n",
        "t_counts_pe = t_counts_from_sigma(phase_estimate.call_graph(generalizer=catch_rotations)[1])\n",
        "t_counts_pe"
      ]
    },
    {
      "cell_type": "markdown",
      "metadata": {},
      "source": [
        "## 5. (Optional) Optimize the T counts\n",
        "\n",
        "Now that we have determined a value for the t_counts in terms of the free parameters we can try to optimize the T counts subject to the constraint that $\\Delta_{TS} + \\Delta_{HT} < \\epsilon$"
      ]
    },
    {
      "cell_type": "code",
      "execution_count": 16,
      "metadata": {},
      "outputs": [],
      "source": [
        "# TODO: Write a function to optimize the T-counts as a function of delta_ht and delta_ts subject to the constraint (assume delta_pe = 0). It is helpful to visualize the function first \n",
        "# From Ref table 1.\n",
        "# Target error from Reference\n",
        "L = 8\n",
        "epsilon = 0.0051 * L**2\n",
        "prod_ord = 2\n",
        "hubb_u = 4\n",
        "xi_bound = 5.3e2 \n",
        "def eval_t_counts(delta_ht_val: float, delta_ts_val: float, delta_pe_val: float) -> float:\n",
        "    \"\"\"Evaluate the \"\"\"\n",
        "    return t_counts_pe.evalf(subs={length: L, delta_ts: delta_ts_val, delta_ht: delta_ht_val, xi: xi_bound, p: prod_ord, delta_pe: delta_pe_val})"
      ]
    },
    {
      "cell_type": "markdown",
      "metadata": {},
      "source": [
        "You can visualize the cost function along lines of constant $\\epsilon$ as follows."
      ]
    },
    {
      "cell_type": "code",
      "execution_count": 17,
      "metadata": {},
      "outputs": [
        {
          "data": {
            "text/plain": [
              "Text(0.5, 0, '$\\\\Delta_{TS}/\\\\epsilon$')"
            ]
          },
          "execution_count": 17,
          "metadata": {},
          "output_type": "execute_result"
        },
        {
          "data": {
            "image/png": "[encoded data removed]",
            "text/plain": [
              "<Figure size 640x480 with 1 Axes>"
            ]
          },
          "metadata": {},
          "output_type": "display_data"
        }
      ],
      "source": [
        "import numpy as np\n",
        "import matplotlib.pyplot as plt\n",
        "\n",
        "delta_ht_vals = np.array([1e-4, 1e-3, 1e-2, 1e-1]) * epsilon\n",
        "fig, ax = plt.subplots()\n",
        "for dht in delta_ht_vals:\n",
        "    delta_ts_vals = np.linspace(0.05*epsilon , epsilon - dht, 100)[:-1]\n",
        "    t_vals = []\n",
        "    for dts in delta_ts_vals:\n",
        "        t_vals.append(eval_t_counts(dht, dts, epsilon - dts - dht))\n",
        "    ax.plot(delta_ts_vals, t_vals, label=fr'$\\Delta_{{HT}} / \\epsilon$ = {dht/epsilon:4.3e}')\n",
        "plt.yscale('log')\n",
        "plt.ylabel('$T$ count')\n",
        "plt.legend()\n",
        "plt.title(r'$\\Delta_{PE} + \\Delta_{TS} + \\Delta_{HT} = \\epsilon$')\n",
        "plt.xlabel(r'$\\Delta_{TS}/\\epsilon$')"
      ]
    },
    {
      "cell_type": "markdown",
      "metadata": {},
      "source": [
        "See [the qualtran example](https://github.com/quantumlib/Qualtran/blob/main/qualtran/bloqs/chemistry/trotter/hubbard/qpe_cost_optimization.ipynb) for a simple numerical optimization procedure. "
      ]
    },
    {
      "cell_type": "markdown",
      "metadata": {},
      "source": [
        "# Conclusions\n",
        "\n",
        "It's relatively simple to build up high level algorithms in qualtran and arive at non-trivial expressions for costs in terms of free parameters of the problem. Further optimizations include merging neighbouring unitaries when repeatedly applying the Trotter circuit, and using Hamming weight phasing. "
      ]
    },
    {
      "cell_type": "markdown",
      "metadata": {},
      "source": [
        "# Appendices"
      ]
    },
    {
      "cell_type": "markdown",
      "metadata": {},
      "source": [
        "###  Appendix 1. Trotter Errors\n",
        "\n",
        "Given a $p$-th order product formula $S_p(t)$ for the unitary implementing $e^{-i t H}$ we have that\n",
        "$$\n",
        "\\Delta_U \\equiv \\lVert S_p(t) - e^{-i t H}\\rVert_{W_\\eta} = \\xi(\\eta, u, \\tau) t^{p+1}\n",
        "$$\n",
        "for some constant $\\xi$ which depends on the parameters of the system. The constant $\\xi$ can be either computed (through direct evaluation and extrapolating from small system sizes) or bounded using complicated commutator expressions.\n",
        "\n",
        "Ref. [[1]](https://arxiv.org/abs/1902.10673) showed that\n",
        "\n",
        "$$\n",
        "\\Delta_{TS} t \\equiv |E - E_{TS}|t \\le \\arctan\\left(\\Delta_U \\frac{\\sqrt{4-\\Delta_U^2}}{2-\\Delta_U^2}\\right) = \\Delta_U + \\frac{\\Delta_U^3}{24} + \\mathcal{O}(\\Delta_U^5),\n",
        "$$\n",
        "so that as long as $\\Delta_U \\gg \\frac{\\Delta_U^3}{24}$ we can estimate\n",
        "\n",
        "$$\n",
        "\\Delta_{TS} = \\Delta_U / t \\approx \\xi(\\eta, u, \\tau) t^{p}\n",
        "$$"
      ]
    },
    {
      "cell_type": "markdown",
      "metadata": {},
      "source": [
        "### 2. Circuit Synthesis Errors\n",
        "\n",
        "Circuit synthesis errors account for the approximate implementation of single qubit $R_z(\\theta)$ rotations when compiled to  Clifford+$T$ gates. A single qubit rotation gate can be synthesized to $\\epsilon_R$ error using\n",
        "$$\n",
        "T_\\mathrm{synth} \\approx 1.15 \\log_2(1/\\epsilon_R) + 9.2\n",
        "$$\n",
        "$T$ gates. Assuming ([see Appendix D corollary 1](https://arxiv.org/pdf/1605.03590)) these errors add at most linearly to the estimated phase then the cost is\n",
        "\n",
        "$$\n",
        "N_{HT} = 1.15 \\log_2 \\left(\\frac{N_R}{\\Delta_{HT} t}\\right) + 9.2\n",
        "$$\n",
        "$T$ gates per single qubit rotation, where $N_R$ is the number of rotations per Trotter step."
      ]
    },
    {
      "cell_type": "markdown",
      "metadata": {},
      "source": [
        "### 3. QPE Errors\n",
        "\n",
        "Phase estimation errors $\\Delta_{PE}$ arise due to not computing enough bits of the phase. Adaptive phase estimation allows one to reach a RMS error of $\\Delta_{PE} t$ using\n",
        "\n",
        "$$\n",
        "N_{PE} \\approx \\frac{0.76 \\pi}{\\Delta_{PE} t}\n",
        "$$\n",
        "repetitions of the simulation circuit.\n",
        "\n",
        "We will ignore this cost in this tutorial."
      ]
    }
  ],
  "metadata": {
    "colab": {
      "provenance": []
    },
    "kernelspec": {
      "display_name": "qualtran",
      "language": "python",
      "name": "python3"
    },
    "language_info": {
      "codemirror_mode": {
        "name": "ipython",
        "version": 3
      },
      "file_extension": ".py",
      "mimetype": "text/x-python",
      "name": "python",
      "nbconvert_exporter": "python",
      "pygments_lexer": "ipython3",
      "version": "3.11.8"
    }
  },
  "nbformat": 4,
  "nbformat_minor": 0
}
